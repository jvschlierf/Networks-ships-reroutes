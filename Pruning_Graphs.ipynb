{
 "metadata": {
  "language_info": {
   "codemirror_mode": {
    "name": "ipython",
    "version": 3
   },
   "file_extension": ".py",
   "mimetype": "text/x-python",
   "name": "python",
   "nbconvert_exporter": "python",
   "pygments_lexer": "ipython3",
   "version": "3.7.7"
  },
  "orig_nbformat": 2,
  "kernelspec": {
   "name": "python377jvsc74a57bd0c657ab3134d4d36fa6659201da87ce22dbf2c2b56e557e7a3dd81d87fd1e5788",
   "display_name": "Python 3.7.7 64-bit ('Sim_mod': conda)"
  }
 },
 "nbformat": 4,
 "nbformat_minor": 2,
 "cells": [
  {
   "cell_type": "code",
   "execution_count": 2,
   "metadata": {},
   "outputs": [],
   "source": [
    "import time, enum, math\n",
    "import numpy as np\n",
    "import pandas as pd\n",
    "import pylab as plt\n",
    "\n",
    "from networkx.algorithms.shortest_paths.generic import has_path\n",
    "import networkx as nx\n",
    "\n",
    "import random\n",
    "from tqdm import tqdm, trange\n",
    "\n",
    "data_path = '../' #set to wherever the data files are, will be used on every input"
   ]
  },
  {
   "source": [
    "## Data Imports"
   ],
   "cell_type": "markdown",
   "metadata": {}
  },
  {
   "cell_type": "code",
   "execution_count": 22,
   "metadata": {},
   "outputs": [],
   "source": [
    "ports_df = pd.read_csv((data_path +'ports.csv'))\n",
    "distances_df = pd.read_csv((data_path + 'distances.csv'))\n",
    "origin = pd.read_csv((data_path + 'origin_ports.csv'))\n",
    "route_blockages = pd.read_csv((data_path + 'route_blockage.csv'))\n",
    "distances = distances_df[[\"prev_port\", \"next_port\", \"distance\"]]\n",
    "distances.astype({'prev_port':'int64', 'next_port':'int64'}).dtypes\n",
    "N = distances_df[\"next_port\"].tolist()\n",
    "N = list(set(N))"
   ]
  },
  {
   "cell_type": "code",
   "execution_count": 36,
   "metadata": {},
   "outputs": [],
   "source": [
    "G = nx.from_pandas_edgelist(distances, \"prev_port\", \"next_port\", [\"distance\"], create_using=nx.MultiGraph())\n"
   ]
  },
  {
   "source": [
    "## Create Pruning Plans\n",
    "\n",
    "When cutting the network, we want to ensure that we cut the correct number of edges \n",
    "(some port combinations have more than one edge connecting them, we assume that if one is blocked, all are blocked)\n",
    "\n",
    "We therefore create a list indicating the number of edges, and then separate the file by \n"
   ],
   "cell_type": "markdown",
   "metadata": {}
  },
  {
   "cell_type": "code",
   "execution_count": 40,
   "metadata": {},
   "outputs": [],
   "source": [
    "\"\"\"\n",
    "Commented out for your convenience, files are included\n",
    "\"\"\"\n",
    "# num_of_edges = []\n",
    "# for index, row in route_blockages.iterrows(): \n",
    "#     num_of_edges.append(G.number_of_edges(u=route_blockages.iloc[index]['prev_port'], v=route_blockages.iloc[index]['next_port']))\n",
    "\n",
    "# route_blockages[\"Num of edges\"] = num_of_edges\n",
    "\n",
    "# route_blockages_gib =  route_blockages[route_blockages['affected_by_gibraltar']==True]\n",
    "# route_blockages_mal =  route_blockages[route_blockages['affected_by_malacca']==True]\n",
    "# route_blockages_dov =  route_blockages[route_blockages['affected_by_dover']==True]\n",
    "# route_blockages_suez =  route_blockages[route_blockages['affected_by_suez']==True]\n",
    "# route_blockages_horm =  route_blockages[route_blockages['affected_by_hormuz']==True]\n",
    "# route_blockages_pan = route_blockages[route_blockages['affected_by_panama']==True]\n",
    "\n",
    "# route_blockages_horm = route_blockages_horm[[\"prev_port\", \"next_port\", \"Num of edges\"]]\n",
    "# route_blockages_gib =  route_blockages_gib[[\"prev_port\", \"next_port\", \"Num of edges\"]]\n",
    "# route_blockages_mal =  route_blockages_mal[[\"prev_port\", \"next_port\", \"Num of edges\"]]\n",
    "# route_blockages_dov =  route_blockages_dov[[\"prev_port\", \"next_port\", \"Num of edges\"]]\n",
    "# route_blockages_suez =  route_blockages_suez[[\"prev_port\", \"next_port\", \"Num of edges\"]]\n",
    "# route_blockages_pan = route_blockages_pan[[\"prev_port\", \"next_port\", \"Num of edges\"]]\n",
    "\n",
    "# route_blockages_horm.to_csv((data_path + 'route_blockages_horm.csv'))\n",
    "# route_blockages_mal.to_csv((data_path + 'route_blockages_mal.csv'))\n",
    "# route_blockages_dov.to_csv((data_path + 'route_blockages_dov.csv'))\n",
    "# route_blockages_suez.to_csv((data_path + 'route_blockages_suez.csv'))\n",
    "# route_blockages_gib.to_csv((data_path + 'route_blockages_gib.csv'))\n",
    "# route_blockages_pan.to_csv((data_path + 'route_blockages_pan.csv'))"
   ]
  },
  {
   "cell_type": "code",
   "execution_count": 3,
   "metadata": {},
   "outputs": [],
   "source": [
    "route_blockages_horm = pd.read_csv((data_path + 'route_blockages_horm.csv'))"
   ]
  },
  {
   "cell_type": "code",
   "execution_count": null,
   "metadata": {},
   "outputs": [],
   "source": [
    "def Cut_Graph(G, route_blockages):\n",
    "    print('Before Pruning',G.number_of_edges())\n",
    "    for index in tqdm(range(len(route_blockages)), desc='Removing Edges', delay=0.5):\n",
    "        for i in range(route_blockages.iloc[index]['Num of edges']):\n",
    "            try:\n",
    "                G.remove_edge(route_blockages.iloc[index]['prev_port'],route_blockages.iloc[index]['next_port'])\n",
    "            except:\n",
    "                pass\n",
    "    print('\\n', 'After Pruning',G.number_of_edges())\n",
    "    return G"
   ]
  },
  {
   "cell_type": "code",
   "execution_count": 10,
   "metadata": {},
   "outputs": [],
   "source": [
    "def Build_Cut_Graph(N, distances, route_blockages):\n",
    "    G = nx.from_pandas_edgelist(distances, \"prev_port\", \"next_port\", [\"distance\"], create_using=nx.MultiGraph())\n",
    "    # grid = NetworkGrid(G) #Define Mesa Grid as the just created Network to allow for shipping only in routes\n",
    "    print('Before Pruning','Nodes: ',G.number_of_nodes(), 'Edges: ',G.number_of_edges())\n",
    "    for index in tqdm(range(len(route_blockages)), desc='Removing Edges', delay=0.5):\n",
    "        for i in range(route_blockages.iloc[index]['Num of edges']):\n",
    "            try:\n",
    "                G.remove_edge(route_blockages.iloc[index]['prev_port'],route_blockages.iloc[index]['next_port'])\n",
    "            except:\n",
    "                pass\n",
    "    print('\\n', 'After Pruning','Nodes: ',G.number_of_nodes(), 'Edges: ',G.number_of_edges())\n",
    "    return G"
   ]
  },
  {
   "cell_type": "code",
   "execution_count": 11,
   "metadata": {},
   "outputs": [
    {
     "output_type": "stream",
     "name": "stderr",
     "text": [
      "Building Graph: 100%|██████████| 56154/56154 [00:19<00:00, 2842.39it/s]\n",
      "Before Pruning Nodes:  2912 Edges:  56154\n",
      "Removing Edges: 100%|██████████| 1156/1156 [00:00<00:00, 2173.09it/s]\n",
      " After Pruning Nodes:  2912 Edges:  54481\n",
      "\n"
     ]
    }
   ],
   "source": [
    "G_without_Hormuz = Build_Cut_Graph(N, distances, route_blockages_horm)"
   ]
  },
  {
   "cell_type": "code",
   "execution_count": 12,
   "metadata": {},
   "outputs": [
    {
     "output_type": "execute_result",
     "data": {
      "text/plain": [
       "1673"
      ]
     },
     "metadata": {},
     "execution_count": 12
    }
   ],
   "source": []
  }
 ]
}