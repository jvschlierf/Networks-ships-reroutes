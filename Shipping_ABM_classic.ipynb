{
 "metadata": {
  "language_info": {
   "codemirror_mode": {
    "name": "ipython",
    "version": 3
   },
   "file_extension": ".py",
   "mimetype": "text/x-python",
   "name": "python",
   "nbconvert_exporter": "python",
   "pygments_lexer": "ipython3",
   "version": "3.7.7"
  },
  "orig_nbformat": 2,
  "kernelspec": {
   "name": "python3",
   "display_name": "Python 3.7.7 64-bit ('Sim_mod': conda)"
  },
  "interpreter": {
   "hash": "c657ab3134d4d36fa6659201da87ce22dbf2c2b56e557e7a3dd81d87fd1e5788"
  }
 },
 "nbformat": 4,
 "nbformat_minor": 2,
 "cells": [
  {
   "source": [
    "# ABM\n",
    "\n",
    "## Imports / Data Conversion"
   ],
   "cell_type": "markdown",
   "metadata": {}
  },
  {
   "cell_type": "code",
   "execution_count": 2,
   "metadata": {},
   "outputs": [],
   "source": [
    "import time, enum, math\n",
    "import numpy as np\n",
    "import pandas as pd\n",
    "import pylab as plt\n",
    "from mesa import Agent, Model\n",
    "from mesa.time import SimultaneousActivation, RandomActivation\n",
    "from mesa.space import NetworkGrid\n",
    "from mesa.datacollection import DataCollector\n",
    "from networkx.algorithms.shortest_paths.generic import has_path\n",
    "import networkx as nx\n",
    "import panel as pn\n",
    "import panel.widgets as pnw\n",
    "import random\n",
    "from tqdm import tqdm, trange\n",
    "from time import sleep\n",
    "\n",
    "data_path = '../' #set to wherever the data files are, will be used on every input"
   ]
  },
  {
   "cell_type": "code",
   "execution_count": 3,
   "metadata": {},
   "outputs": [],
   "source": [
    "ports = pd.read_csv((data_path +'ports.csv'))\n",
    "\n",
    "\n",
    "origin = pd.read_csv((data_path + 'origin_ports.csv'))\n",
    "clean_distances = pd.read_csv((data_path + 'clean_distances.csv'))\n",
    "# distances = distances_df[[\"prev_port\", \"next_port\", \"distance\"]]\n",
    "# distances.astype({'prev_port':'int64', 'next_port':'int64'}).dtypes"
   ]
  },
  {
   "cell_type": "code",
   "execution_count": 4,
   "metadata": {},
   "outputs": [],
   "source": [
    "route_blockage_dov = pd.read_csv((data_path + 'route_blockages_dov.csv'))\n",
    "route_blockage_gib = pd.read_csv((data_path + 'route_blockages_gib.csv'))\n",
    "route_blockage_horm = pd.read_csv((data_path + 'route_blockages_horm.csv'))\n",
    "route_blockage_mal = pd.read_csv((data_path + 'route_blockages_mal.csv'))\n",
    "route_blockage_pan = pd.read_csv((data_path + 'route_blockages_pan.csv'))\n",
    "route_blockage_suez = pd.read_csv((data_path + 'route_blockages_suez.csv'))\n",
    "route_blockage_total = pd.read_csv((data_path + 'route_blockages_total.csv'))"
   ]
  },
  {
   "cell_type": "code",
   "execution_count": 5,
   "metadata": {},
   "outputs": [],
   "source": [
    "pruning_files = [route_blockage_dov, route_blockage_gib, route_blockage_horm, route_blockage_mal, route_blockage_pan, route_blockage_suez, route_blockage_total]"
   ]
  },
  {
   "cell_type": "code",
   "execution_count": 5,
   "metadata": {},
   "outputs": [],
   "source": [
    "def Cut_Graph(G, route_blockages):\n",
    "        return_G = G.copy()\n",
    "        fails = 0\n",
    "        for index in range(len(route_blockages)):\n",
    "            try:\n",
    "                return_G.remove_edge(route_blockages.iloc[index]['prev_port'],route_blockages.iloc[index]['next_port'])\n",
    "            except:\n",
    "                fails += 1\n",
    "        print(\"Failed {} times\".format(fails))\n",
    "        return return_G"
   ]
  },
  {
   "source": [
    "## Playground "
   ],
   "cell_type": "markdown",
   "metadata": {}
  },
  {
   "cell_type": "code",
   "execution_count": 6,
   "metadata": {},
   "outputs": [],
   "source": [
    "G = nx.from_pandas_edgelist(clean_distances, \"prev_port\", \"next_port\",edge_attr= \"distance\",create_using=nx.Graph())"
   ]
  },
  {
   "cell_type": "code",
   "execution_count": 7,
   "metadata": {},
   "outputs": [
    {
     "output_type": "execute_result",
     "data": {
      "text/plain": [
       "   Unnamed: 0  prev_port  next_port\n",
       "0         232        641        669\n",
       "1         239        641       2742\n",
       "2         240        641       2787\n",
       "3         246        641       3367\n",
       "4         248        641       3509"
      ],
      "text/html": "<div>\n<style scoped>\n    .dataframe tbody tr th:only-of-type {\n        vertical-align: middle;\n    }\n\n    .dataframe tbody tr th {\n        vertical-align: top;\n    }\n\n    .dataframe thead th {\n        text-align: right;\n    }\n</style>\n<table border=\"1\" class=\"dataframe\">\n  <thead>\n    <tr style=\"text-align: right;\">\n      <th></th>\n      <th>Unnamed: 0</th>\n      <th>prev_port</th>\n      <th>next_port</th>\n    </tr>\n  </thead>\n  <tbody>\n    <tr>\n      <th>0</th>\n      <td>232</td>\n      <td>641</td>\n      <td>669</td>\n    </tr>\n    <tr>\n      <th>1</th>\n      <td>239</td>\n      <td>641</td>\n      <td>2742</td>\n    </tr>\n    <tr>\n      <th>2</th>\n      <td>240</td>\n      <td>641</td>\n      <td>2787</td>\n    </tr>\n    <tr>\n      <th>3</th>\n      <td>246</td>\n      <td>641</td>\n      <td>3367</td>\n    </tr>\n    <tr>\n      <th>4</th>\n      <td>248</td>\n      <td>641</td>\n      <td>3509</td>\n    </tr>\n  </tbody>\n</table>\n</div>"
     },
     "metadata": {},
     "execution_count": 7
    }
   ],
   "source": [
    "route_blockage_dov.head()"
   ]
  },
  {
   "cell_type": "code",
   "execution_count": 28,
   "metadata": {},
   "outputs": [
    {
     "output_type": "execute_result",
     "data": {
      "text/plain": [
       "[641, 669, 2508]"
      ]
     },
     "metadata": {},
     "execution_count": 28
    }
   ],
   "source": [
    "nx.dijkstra_path(G, 641, 2508, weight='distance')\n",
    "# nx.dijkstra_path_length(G, 641, 669, weight='distance')"
   ]
  },
  {
   "cell_type": "code",
   "execution_count": 29,
   "metadata": {},
   "outputs": [
    {
     "output_type": "execute_result",
     "data": {
      "text/plain": [
       "[641, 27373, 2560, 2789, 2091, 2508]"
      ]
     },
     "metadata": {},
     "execution_count": 29
    }
   ],
   "source": [
    "nx.dijkstra_path(G_Dov, 641, 2508, weight='distance')\n",
    "# nx.dijkstra_path_length(G_Dov,  641, 669, weight='distance')"
   ]
  },
  {
   "cell_type": "code",
   "execution_count": 12,
   "metadata": {},
   "outputs": [
    {
     "output_type": "stream",
     "name": "stdout",
     "text": [
      "Failed 248 times\n"
     ]
    }
   ],
   "source": [
    "G_Dov = Cut_Graph(G, route_blockage_dov)"
   ]
  },
  {
   "cell_type": "code",
   "execution_count": 23,
   "metadata": {},
   "outputs": [
    {
     "output_type": "stream",
     "name": "stderr",
     "text": [
      "100%|██████████| 3000/3000 [04:49<00:00, 10.37it/s]\n"
     ]
    }
   ],
   "source": [
    "results = []\n",
    "Success = 0\n",
    "Fail = 0\n",
    "Same_distance = 0\n",
    "for i in trange(3000):\n",
    "    position = random.choice(list(G.nodes()))\n",
    "    destination = random.choice(list(G.nodes()))\n",
    "    try:\n",
    "        init_route = nx.dijkstra_path(G, position, destination, weight='distance')\n",
    "        init_dist = nx.dijkstra_path_length(G, position, destination, weight='distance')\n",
    "        Total_route = nx.dijkstra_path(G_Dov, position, destination, weight='distance')\n",
    "        Total_dist = nx.dijkstra_path_length(G_Dov, position, destination, weight='distance')\n",
    "        if init_route != Total_route:\n",
    "            result = [position, destination]\n",
    "            results.append(result)\n",
    "            Success += 1\n",
    "        else:\n",
    "            Same_distance += 1\n",
    "    except :\n",
    "        Fail += 1\n"
   ]
  },
  {
   "cell_type": "code",
   "execution_count": 24,
   "metadata": {},
   "outputs": [
    {
     "output_type": "stream",
     "name": "stdout",
     "text": [
      "638 2201 161\n"
     ]
    }
   ],
   "source": [
    "print(Success, Same_distance, Fail)"
   ]
  },
  {
   "cell_type": "code",
   "execution_count": 25,
   "metadata": {},
   "outputs": [
    {
     "output_type": "stream",
     "name": "stdout",
     "text": [
      "0.21266666666666667 0.7336666666666667 0.05366666666666667\n"
     ]
    }
   ],
   "source": [
    "print(638/3000, 2201/3000, 161/3000)"
   ]
  },
  {
   "cell_type": "code",
   "execution_count": 62,
   "metadata": {},
   "outputs": [
    {
     "output_type": "stream",
     "name": "stderr",
     "text": [
      "  0%|          | 0/2912 [00:00<?, ?it/s]"
     ]
    }
   ],
   "source": [
    "# results = []\n",
    "# Success = 0\n",
    "# Fail = 0\n",
    "# Same_distance = 0\n",
    "# for i in trange(len(list(G.nodes()))):\n",
    "#     position = list(G.nodes())[i]\n",
    "#     for j in range(len(list(G.nodes()))):\n",
    "#         destination = list(G.nodes())[j]\n",
    "#         try:\n",
    "#             init_route = nx.dijkstra_path(G, position, destination, weight='distance')\n",
    "#             init_dist = nx.dijkstra_path_length(G, position, destination, weight='distance')\n",
    "#             Total_route = nx.dijkstra_path(G_Total, position, destination, weight='distance')\n",
    "#             Total_dist = nx.dijkstra_path_length(G_Total, position, destination, weight='distance')\n",
    "#             if init_route != Total_route:\n",
    "#                 result = [position, destination]\n",
    "#                 results.append(result)\n",
    "#                 Success += 1\n",
    "#             else:\n",
    "#                 Same_distance += 1\n",
    "#         except :\n",
    "#             Fail += 1\n",
    "\n",
    "        "
   ]
  },
  {
   "cell_type": "code",
   "execution_count": 12,
   "metadata": {},
   "outputs": [],
   "source": [
    "init_route = nx.dijkstra_path(G, position, destination, weight='distance')\n",
    "init_dist = nx.dijkstra_path_length(G, position, destination, weight='distance')\n",
    "Total_route = nx.dijkstra_path(G_Suez, position, destination, weight='distance')\n",
    "Total_dist = nx.dijkstra_path_length(G_Suez, position, destination, weight='distance')"
   ]
  },
  {
   "cell_type": "code",
   "execution_count": 14,
   "metadata": {},
   "outputs": [
    {
     "output_type": "execute_result",
     "data": {
      "text/plain": [
       "6063.350807988509"
      ]
     },
     "metadata": {},
     "execution_count": 14
    }
   ],
   "source": [
    "init_dist"
   ]
  },
  {
   "cell_type": "code",
   "execution_count": null,
   "metadata": {},
   "outputs": [],
   "source": [
    "# def next_dest(sample):\n",
    "#     try:\n",
    "\n",
    "#         overall_distance = list()\n",
    "#         itinerary = list()\n",
    "#         for i in range(len(sample)):\n",
    "#             distance = dict()\n",
    "#             for i in range(1,len(sample)):\n",
    "#                 distance[sample[i]] = nx.dijkstra_path_length(G, sample[0] ,sample[i], weight='distance')\n",
    "#             next_stop = min(distance, key=distance.get)\n",
    "#             itinerary.append(nx.dijkstra_path(G, origin, next_stop, weight = 'distance'))\n",
    "#             overall_distance.append(next_stop)\n",
    "#             sample.pop(0)\n",
    "#             ind = sample.index(next_stop)\n",
    "#             sample.pop(ind)\n",
    "#             sample.insert(0, next_stop)\n",
    "#     except:\n",
    "#         pass\n",
    "#     flat_route = []\n",
    "#     for sublist in itinerary:\n",
    "#         for port in sublist:\n",
    "#             flat_route.append(port)\n",
    "        \n",
    "#     return flat_route, sum(overall_distance)\n"
   ]
  },
  {
   "cell_type": "code",
   "execution_count": null,
   "metadata": {},
   "outputs": [],
   "source": [
    "pruning_files = [route_blockage_dov, route_blockage_gib, route_blockage_horm, route_blockage_mal, route_blockage_pan, route_blockage_suez, route_blockage_total]"
   ]
  },
  {
   "source": [
    "## Model"
   ],
   "cell_type": "markdown",
   "metadata": {}
  },
  {
   "cell_type": "code",
   "execution_count": 13,
   "metadata": {},
   "outputs": [],
   "source": [
    "class ShippingNetwork(Model):\n",
    "    def __init__(self, distances, major_ports, pruning_files, S=1000):\n",
    "        self.major_ports = major_ports\n",
    "        self.num_ships = S\n",
    "        self.distances = distances\n",
    "        self.schedule = SimultaneousActivation(self)\n",
    "        self.running = True\n",
    "        self.Ships = []\n",
    "        self.pruning_files = pruning_files\n",
    "\n",
    "        #Build Network without closures\n",
    "        self.G = nx.from_pandas_edgelist(distances, \"prev_port\", \"next_port\", [\"distance\"], create_using=nx.Graph())    \n",
    "        #Define Mesa Grid as the just created Network to allow for shipping only in routes\n",
    "        self.grid = NetworkGrid(self.G) \n",
    "    \n",
    "        #Build alternate Networks (with closures in place)\n",
    "        self.G_Dov = self.Cut_Graph(self.G, self.pruning_files[0])\n",
    "        self.G_Gib = self.Cut_Graph(self.G, self.pruning_files[1])\n",
    "        self.G_Horm = self.Cut_Graph(self.G, self.pruning_files[2])\n",
    "        self.G_Mal = self.Cut_Graph(self.G, self.pruning_files[3])\n",
    "        self.G_Pan = self.Cut_Graph(self.G, self.pruning_files[4])\n",
    "        self.G_Suez = self.Cut_Graph(self.G, self.pruning_files[5])\n",
    "        self.G_Total = self.Cut_Graph(self.G, self.pruning_files[6])\n",
    "  \n",
    "\n",
    "\n",
    "\n",
    "\n",
    "        #create agents   \n",
    "        for i in tqdm(range(self.num_ships), desc=\"Placing Ships\"):\n",
    "            # start_port = np.random.choice(self.major_ports[\"Ref\"], size=None, replace=True,  p=self.major_ports[\"PROB\"])\n",
    "            # destin_port = random.sample(self.G.nodes, k=1)[0]  # Sample the destination \n",
    "            start_port = 641\n",
    "            destin_port = 2508\n",
    "            #We sample the origin port from a list of the 50 biggest ports world, with the prob = TAU of the port / TAU of all origin ports for 2017\n",
    "            a = Ship(i+1, self, self.G, start_port, destin_port, major_ports)\n",
    "            self.schedule.add(a)\n",
    "            self.Ships.append(a) #append to list of ships\n",
    "            self.grid.place_agent(a, start_port) #place agent on origin node\n",
    "\n",
    "        self.datacollector = DataCollector(\n",
    "            model_reporters={\"Graph\":\"G\"},\n",
    "            agent_reporters={\"Position\": \"position\", \"Destination\":\"destination\", \"State\":\"state\", \"Itinerary\":\"itinerary\", \"Distance_Traveled\":\"distance_traveled\", \"Route\":\"current_route\", \"Route Changes\":\"route_chng\" })\n",
    "    \n",
    "\n",
    "\n",
    "    def Cut_Graph(self, G, route_blockages):\n",
    "        return_G = G.copy()\n",
    "        for index in range(len(route_blockages)):\n",
    "            try:\n",
    "                return_G.remove_edge(route_blockages.iloc[index]['prev_port'],route_blockages.iloc[index]['next_port'])\n",
    "            except:\n",
    "                pass\n",
    "        return return_G\n",
    "\n",
    "\n",
    "        #create ability to remove edges mid-model\n",
    "    def network_change(self, blockage):\n",
    "        if blockage == \"Dover\":\n",
    "            for a in tqdm(self.Ships):\n",
    "                a.G = self.G_Dov\n",
    "        elif blockage == \"Gibraltar\":\n",
    "            for a in tqdm(self.Ships):\n",
    "                a.G = self.G_Gib\n",
    "        elif blockage == \"Hormuz\":\n",
    "            for a in tqdm(self.Ships):\n",
    "                a.G = self.G_Horm\n",
    "        elif blockage == \"Malacca\":\n",
    "            for a in tqdm(self.Ships):\n",
    "                a.G = self.G_Mal\n",
    "        elif blockage == \"Panama\":\n",
    "            for a in tqdm(self.Ships):\n",
    "                a.G = self.G_Pan\n",
    "        elif blockage == \"Suez\":\n",
    "            for a in tqdm(self.Ships):\n",
    "                a.G = self.G_Suez\n",
    "        elif blockage == \"Total\":\n",
    "            for a in tqdm(self.Ships):\n",
    "                a.G = self.G_Total\n",
    "        else:\n",
    "            for a in tqdm(self.Ships):\n",
    "                a.G = self.G\n",
    "\n",
    "\n",
    "    def step(self, blockage=''):\n",
    "        #check network for changes\n",
    "        if blockage != '' :\n",
    "           network_change(blockage)\n",
    "\n",
    "        self.schedule.step()     #Run each Agents\n",
    "        self.datacollector.collect(self)\n",
    "\n",
    "\n"
   ]
  },
  {
   "cell_type": "code",
   "execution_count": 14,
   "metadata": {},
   "outputs": [],
   "source": [
    "class Ship(Agent):\n",
    "    def __init__(self, unique_id, model, G, start_port, destin_port, major_ports, s=13.0):\n",
    "        super().__init__(unique_id, model)\n",
    "        self.destination = destin_port\n",
    "        self.state = 0 #0 for active, numbers > 0 for weeks that ships have to \"wait\" until arrival to port\n",
    "        self.speed = s*24*1.852 #speed is given in knots, with 1 knot being 1 nautical mile per hour. Since the model works with distances in km, we convert here (1 nm = 1.852m)\n",
    "        self.position = start_port\n",
    "        self.distance_traveled = 0\n",
    "        self.unique_id = unique_id\n",
    "        self.G = G\n",
    "        self.route_chng = 0\n",
    "        self.routes = 0\n",
    "        self.major_ports = major_ports\n",
    "\n",
    "    \n",
    "        #implement dijkstra to define shortest route\n",
    "        try:\n",
    "            self.init_route = nx.dijkstra_path(self.G, self.position, self.destination, weight='length')\n",
    "            self.init_dist = nx.dijkstra_path_length(self.G, self.position, self.destination, weight='length')\n",
    "        except:\n",
    "            self.destination = random.sample(self.G.nodes, k=1)[0]\n",
    "            self.init_route = nx.dijkstra_path(self.G, self.position, self.destination, weight='length')\n",
    "            self.init_dist = nx.dijkstra_path_length(self.G, self.position, self.destination, weight='length')\n",
    "            #include a way for capacity?\n",
    "        \n",
    "\n",
    "         #We keep a copy of the entire itinerary / distance traveled\n",
    "        self.current_route, self.current_dist = self.init_route, self.init_dist  #For comparison & navigational purposes, we use current route & distance\n",
    "        self.next_position = self.current_route[1]\n",
    "        self.itinerary = [self.position]\n",
    "        self.step_size = self.ident_distance()\n",
    "\n",
    "\n",
    "    def routing(self):\n",
    "        #implement dijkstra to define shortest route\n",
    "        try:\n",
    "            route = nx.dijkstra_path(self.G, self.position, self.destination, weight='length')\n",
    "            travel_distance = nx.dijkstra_path_length(self.G, self.position, self.destination, weight='length')\n",
    "        except:\n",
    "            self.destination = random.sample(self.G.nodes, k=1)[0]\n",
    "            route = nx.dijkstra_path(self.G, self.position, self.destination, weight='length')\n",
    "            travel_distance = nx.dijkstra_path_length(self.G, self.position, self.destination, weight='length')\n",
    "        #include a way for capacity?\n",
    "        return route, travel_distance\n",
    "\n",
    "\n",
    "    def move(self):\n",
    "        self.next_position = self.current_route[1]\n",
    "        self.step_size = self.ident_distance() #look up the distance between two cities \n",
    "        self.state = self.step_size / self.speed #change state to step amount\n",
    "        self.current_dist = self.current_dist - self.step_size #adjust current distance minus the distance traveled in the next step\n",
    "        self.model.grid.move_agent(self, self.next_position) #move the agent\n",
    "        self.current_route.remove(self.current_route[0]) #remove the next step from the itinerary\n",
    "        self.position = self.next_position\n",
    "        if len(self.current_route) == 1:\n",
    "            self.next_position = self.current_route[0] \n",
    "        else:\n",
    "            self.next_position = self.current_route[1] #update current route\n",
    "\n",
    "    def ident_distance(self): #look up the distance of the current step\n",
    "        return self.G.get_edge_data(self.position, self.next_position)['distance']\n",
    "    \n",
    "    def reroute(self):\n",
    "        # self.routes += 1\n",
    "        # if self.position in self.major_ports[\"Ref\"].values: # We re-route in such a way that ships that have either an origin port or a destination port that is a major port\n",
    "        #     self.destination = random.sample(self.G.nodes, k=1)[0]\n",
    "        # else:\n",
    "        #     self.destination = np.random.choice(self.major_ports[\"Ref\"], size=None, replace=True,  p=self.major_ports[\"PROB\"])\n",
    "        if self.destination == 2508:\n",
    "            self.destination = 641\n",
    "        else:\n",
    "            self.destination = 2508\n",
    "\n",
    "        self.current_route, self.current_dist = self.routing()\n",
    "        self.state = 3\n",
    "\n",
    "    \n",
    "\n",
    "    def step(self):\n",
    "        self.state = self.state - 1 #'move' ships by one weeks progress\n",
    "        if self.state <= 0.000: #ships that are en-route to the node they are going to next do not move / perform other activities\n",
    "            self.distance_traveled += self.step_size #ship has arrived at port, let's add the distance traveled to their \n",
    "           \n",
    "            #add the current position to itinerary\n",
    "            if self.position != self.destination: #if current stop is not the final stop\n",
    "                new_route, new_distance = self.routing() #perform a new routing to compare against current routing\n",
    "                \n",
    "                if new_route == self.current_route: #if current routing is the same as new, just move (default case)\n",
    "                    # print(\"default case\")\n",
    "                    self.move()\n",
    "                    self.itinerary.append(self.position)\n",
    "        \n",
    "            # THIS CURRENTLY ONLY CHANGES THE ROUTE IF THE NEXT STEP IS BLOCKED\n",
    "                elif new_distance > self.current_dist: #if current route is shorter than newly calculated route, check for obstructions\n",
    "                    # print('reroute: current route shorter than new route')\n",
    "                    if not has_path(self.G, self.position, self.next_position): \n",
    "                        self.current_route = new_route\n",
    "                        self.current_dist = new_distance\n",
    "                        self.route_chng += 1\n",
    "                    self.move()\n",
    "                    self.itinerary.append(self.position)\n",
    "                \n",
    "                \n",
    "                else: # final option is that current route is longer than new route (think Suez reopening after a while), here, we just take the new option\n",
    "                    # print('reroute: current route longer than new route')\n",
    "                    self.current_route = new_route\n",
    "                    self.current_dist = new_distance\n",
    "                    self.route_chng += 1\n",
    "                    self.move()\n",
    "                    self.itinerary.append(self.position)\n",
    "            \n",
    "            else: #if ship is arrived at final position, get a new route, and start back\n",
    "                # print('arrival')\n",
    "                self.reroute()\n",
    "                self.itinerary.append(self.position)\n",
    "        # print(\"Ship: {}, Source: {}, Destination: {}, Position: {},  Next Stop {}, Time until next Stop {}\".format(self.unique_id, self.itinerary[0], self.destination, self.position, self.next_position, self.state ))\n",
    "\n",
    "    \n",
    "    # def collect_time\n",
    "\n",
    "    # def collect_costs"
   ]
  },
  {
   "cell_type": "code",
   "execution_count": null,
   "metadata": {},
   "outputs": [],
   "source": []
  },
  {
   "source": [
    "## Model Instances"
   ],
   "cell_type": "markdown",
   "metadata": {}
  },
  {
   "cell_type": "code",
   "execution_count": 11,
   "metadata": {},
   "outputs": [
    {
     "output_type": "stream",
     "name": "stderr",
     "text": [
      "Placing Ships: 100%|██████████| 1/1 [00:00<00:00, 171.03it/s]\n",
      "Stepping Model: 100%|██████████| 15/15 [00:00<00:00, 430.82it/s]\n",
      "100%|██████████| 1/1 [00:00<00:00, 15887.52it/s]\n",
      "Stepping Model after changes:   7%|▋         | 1/15 [00:00<00:01,  9.23it/s]\n",
      "done changing, should step again?\n"
     ]
    },
    {
     "output_type": "error",
     "ename": "TypeError",
     "evalue": "'NoneType' object is not subscriptable",
     "traceback": [
      "\u001b[0;31m---------------------------------------------------------------------------\u001b[0m",
      "\u001b[0;31mTypeError\u001b[0m                                 Traceback (most recent call last)",
      "\u001b[0;32m<ipython-input-11-1c7739a55461>\u001b[0m in \u001b[0;36m<module>\u001b[0;34m\u001b[0m\n\u001b[1;32m      6\u001b[0m \u001b[0mmodel\u001b[0m\u001b[0;34m.\u001b[0m\u001b[0mnetwork_change\u001b[0m\u001b[0;34m(\u001b[0m\u001b[0;34m'Dover'\u001b[0m\u001b[0;34m)\u001b[0m\u001b[0;34m\u001b[0m\u001b[0;34m\u001b[0m\u001b[0m\n\u001b[1;32m      7\u001b[0m \u001b[0;32mfor\u001b[0m \u001b[0mi\u001b[0m \u001b[0;32min\u001b[0m \u001b[0mtrange\u001b[0m\u001b[0;34m(\u001b[0m\u001b[0msteps\u001b[0m\u001b[0;34m,\u001b[0m \u001b[0mdesc\u001b[0m\u001b[0;34m=\u001b[0m\u001b[0;34m\"Stepping Model after changes\"\u001b[0m\u001b[0;34m)\u001b[0m\u001b[0;34m:\u001b[0m\u001b[0;34m\u001b[0m\u001b[0;34m\u001b[0m\u001b[0m\n\u001b[0;32m----> 8\u001b[0;31m     \u001b[0mmodel\u001b[0m\u001b[0;34m.\u001b[0m\u001b[0mstep\u001b[0m\u001b[0;34m(\u001b[0m\u001b[0;34m)\u001b[0m\u001b[0;34m\u001b[0m\u001b[0;34m\u001b[0m\u001b[0m\n\u001b[0m\u001b[1;32m      9\u001b[0m \u001b[0mprint\u001b[0m\u001b[0;34m(\u001b[0m\u001b[0;34m\"does this execute here?\"\u001b[0m\u001b[0;34m)\u001b[0m\u001b[0;34m\u001b[0m\u001b[0;34m\u001b[0m\u001b[0m\n\u001b[1;32m     10\u001b[0m \u001b[0;34m\u001b[0m\u001b[0m\n",
      "\u001b[0;32m<ipython-input-6-c042c1a7a285>\u001b[0m in \u001b[0;36mstep\u001b[0;34m(self, blockage)\u001b[0m\n\u001b[1;32m     63\u001b[0m            \u001b[0mnetwork_change\u001b[0m\u001b[0;34m(\u001b[0m\u001b[0mblockage\u001b[0m\u001b[0;34m)\u001b[0m\u001b[0;34m\u001b[0m\u001b[0;34m\u001b[0m\u001b[0m\n\u001b[1;32m     64\u001b[0m \u001b[0;34m\u001b[0m\u001b[0m\n\u001b[0;32m---> 65\u001b[0;31m         \u001b[0mself\u001b[0m\u001b[0;34m.\u001b[0m\u001b[0mschedule\u001b[0m\u001b[0;34m.\u001b[0m\u001b[0mstep\u001b[0m\u001b[0;34m(\u001b[0m\u001b[0;34m)\u001b[0m     \u001b[0;31m#Run each Agents\u001b[0m\u001b[0;34m\u001b[0m\u001b[0;34m\u001b[0m\u001b[0m\n\u001b[0m\u001b[1;32m     66\u001b[0m         \u001b[0mself\u001b[0m\u001b[0;34m.\u001b[0m\u001b[0mdatacollector\u001b[0m\u001b[0;34m.\u001b[0m\u001b[0mcollect\u001b[0m\u001b[0;34m(\u001b[0m\u001b[0mself\u001b[0m\u001b[0;34m)\u001b[0m\u001b[0;34m\u001b[0m\u001b[0;34m\u001b[0m\u001b[0m\n\u001b[1;32m     67\u001b[0m \u001b[0;34m\u001b[0m\u001b[0m\n",
      "\u001b[0;32m~/opt/anaconda3/envs/Sim_mod/lib/python3.7/site-packages/mesa/time.py\u001b[0m in \u001b[0;36mstep\u001b[0;34m(self)\u001b[0m\n\u001b[1;32m    143\u001b[0m         \u001b[0magent_keys\u001b[0m \u001b[0;34m=\u001b[0m \u001b[0mlist\u001b[0m\u001b[0;34m(\u001b[0m\u001b[0mself\u001b[0m\u001b[0;34m.\u001b[0m\u001b[0m_agents\u001b[0m\u001b[0;34m.\u001b[0m\u001b[0mkeys\u001b[0m\u001b[0;34m(\u001b[0m\u001b[0;34m)\u001b[0m\u001b[0;34m)\u001b[0m\u001b[0;34m\u001b[0m\u001b[0;34m\u001b[0m\u001b[0m\n\u001b[1;32m    144\u001b[0m         \u001b[0;32mfor\u001b[0m \u001b[0magent_key\u001b[0m \u001b[0;32min\u001b[0m \u001b[0magent_keys\u001b[0m\u001b[0;34m:\u001b[0m\u001b[0;34m\u001b[0m\u001b[0;34m\u001b[0m\u001b[0m\n\u001b[0;32m--> 145\u001b[0;31m             \u001b[0mself\u001b[0m\u001b[0;34m.\u001b[0m\u001b[0m_agents\u001b[0m\u001b[0;34m[\u001b[0m\u001b[0magent_key\u001b[0m\u001b[0;34m]\u001b[0m\u001b[0;34m.\u001b[0m\u001b[0mstep\u001b[0m\u001b[0;34m(\u001b[0m\u001b[0;34m)\u001b[0m\u001b[0;34m\u001b[0m\u001b[0;34m\u001b[0m\u001b[0m\n\u001b[0m\u001b[1;32m    146\u001b[0m         \u001b[0;32mfor\u001b[0m \u001b[0magent_key\u001b[0m \u001b[0;32min\u001b[0m \u001b[0magent_keys\u001b[0m\u001b[0;34m:\u001b[0m\u001b[0;34m\u001b[0m\u001b[0;34m\u001b[0m\u001b[0m\n\u001b[1;32m    147\u001b[0m             \u001b[0mself\u001b[0m\u001b[0;34m.\u001b[0m\u001b[0m_agents\u001b[0m\u001b[0;34m[\u001b[0m\u001b[0magent_key\u001b[0m\u001b[0;34m]\u001b[0m\u001b[0;34m.\u001b[0m\u001b[0madvance\u001b[0m\u001b[0;34m(\u001b[0m\u001b[0;34m)\u001b[0m\u001b[0;34m\u001b[0m\u001b[0;34m\u001b[0m\u001b[0m\n",
      "\u001b[0;32m<ipython-input-10-c7645eb584eb>\u001b[0m in \u001b[0;36mstep\u001b[0;34m(self)\u001b[0m\n\u001b[1;32m     98\u001b[0m                         \u001b[0mself\u001b[0m\u001b[0;34m.\u001b[0m\u001b[0mcurrent_dist\u001b[0m \u001b[0;34m=\u001b[0m \u001b[0mnew_distance\u001b[0m\u001b[0;34m\u001b[0m\u001b[0;34m\u001b[0m\u001b[0m\n\u001b[1;32m     99\u001b[0m                         \u001b[0mself\u001b[0m\u001b[0;34m.\u001b[0m\u001b[0mroute_chng\u001b[0m \u001b[0;34m+=\u001b[0m \u001b[0;36m1\u001b[0m\u001b[0;34m\u001b[0m\u001b[0;34m\u001b[0m\u001b[0m\n\u001b[0;32m--> 100\u001b[0;31m                     \u001b[0mself\u001b[0m\u001b[0;34m.\u001b[0m\u001b[0mmove\u001b[0m\u001b[0;34m(\u001b[0m\u001b[0;34m)\u001b[0m\u001b[0;34m\u001b[0m\u001b[0;34m\u001b[0m\u001b[0m\n\u001b[0m\u001b[1;32m    101\u001b[0m                     \u001b[0mself\u001b[0m\u001b[0;34m.\u001b[0m\u001b[0mitinerary\u001b[0m\u001b[0;34m.\u001b[0m\u001b[0mappend\u001b[0m\u001b[0;34m(\u001b[0m\u001b[0mself\u001b[0m\u001b[0;34m.\u001b[0m\u001b[0mposition\u001b[0m\u001b[0;34m)\u001b[0m\u001b[0;34m\u001b[0m\u001b[0;34m\u001b[0m\u001b[0m\n\u001b[1;32m    102\u001b[0m \u001b[0;34m\u001b[0m\u001b[0m\n",
      "\u001b[0;32m<ipython-input-10-c7645eb584eb>\u001b[0m in \u001b[0;36mmove\u001b[0;34m(self)\u001b[0m\n\u001b[1;32m     47\u001b[0m     \u001b[0;32mdef\u001b[0m \u001b[0mmove\u001b[0m\u001b[0;34m(\u001b[0m\u001b[0mself\u001b[0m\u001b[0;34m)\u001b[0m\u001b[0;34m:\u001b[0m\u001b[0;34m\u001b[0m\u001b[0;34m\u001b[0m\u001b[0m\n\u001b[1;32m     48\u001b[0m         \u001b[0mself\u001b[0m\u001b[0;34m.\u001b[0m\u001b[0mnext_position\u001b[0m \u001b[0;34m=\u001b[0m \u001b[0mself\u001b[0m\u001b[0;34m.\u001b[0m\u001b[0mcurrent_route\u001b[0m\u001b[0;34m[\u001b[0m\u001b[0;36m1\u001b[0m\u001b[0;34m]\u001b[0m\u001b[0;34m\u001b[0m\u001b[0;34m\u001b[0m\u001b[0m\n\u001b[0;32m---> 49\u001b[0;31m         \u001b[0mself\u001b[0m\u001b[0;34m.\u001b[0m\u001b[0mstep_size\u001b[0m \u001b[0;34m=\u001b[0m \u001b[0mself\u001b[0m\u001b[0;34m.\u001b[0m\u001b[0mident_distance\u001b[0m\u001b[0;34m(\u001b[0m\u001b[0;34m)\u001b[0m \u001b[0;31m#look up the distance between two cities\u001b[0m\u001b[0;34m\u001b[0m\u001b[0;34m\u001b[0m\u001b[0m\n\u001b[0m\u001b[1;32m     50\u001b[0m         \u001b[0mself\u001b[0m\u001b[0;34m.\u001b[0m\u001b[0mstate\u001b[0m \u001b[0;34m=\u001b[0m \u001b[0mself\u001b[0m\u001b[0;34m.\u001b[0m\u001b[0mstep_size\u001b[0m \u001b[0;34m/\u001b[0m \u001b[0mself\u001b[0m\u001b[0;34m.\u001b[0m\u001b[0mspeed\u001b[0m \u001b[0;31m#change state to step amount\u001b[0m\u001b[0;34m\u001b[0m\u001b[0;34m\u001b[0m\u001b[0m\n\u001b[1;32m     51\u001b[0m         \u001b[0mself\u001b[0m\u001b[0;34m.\u001b[0m\u001b[0mcurrent_dist\u001b[0m \u001b[0;34m=\u001b[0m \u001b[0mself\u001b[0m\u001b[0;34m.\u001b[0m\u001b[0mcurrent_dist\u001b[0m \u001b[0;34m-\u001b[0m \u001b[0mself\u001b[0m\u001b[0;34m.\u001b[0m\u001b[0mstep_size\u001b[0m \u001b[0;31m#adjust current distance minus the distance traveled in the next step\u001b[0m\u001b[0;34m\u001b[0m\u001b[0;34m\u001b[0m\u001b[0m\n",
      "\u001b[0;32m<ipython-input-10-c7645eb584eb>\u001b[0m in \u001b[0;36mident_distance\u001b[0;34m(self)\u001b[0m\n\u001b[1;32m     59\u001b[0m \u001b[0;34m\u001b[0m\u001b[0m\n\u001b[1;32m     60\u001b[0m     \u001b[0;32mdef\u001b[0m \u001b[0mident_distance\u001b[0m\u001b[0;34m(\u001b[0m\u001b[0mself\u001b[0m\u001b[0;34m)\u001b[0m\u001b[0;34m:\u001b[0m \u001b[0;31m#look up the distance of the current step\u001b[0m\u001b[0;34m\u001b[0m\u001b[0;34m\u001b[0m\u001b[0m\n\u001b[0;32m---> 61\u001b[0;31m         \u001b[0;32mreturn\u001b[0m \u001b[0mself\u001b[0m\u001b[0;34m.\u001b[0m\u001b[0mG\u001b[0m\u001b[0;34m.\u001b[0m\u001b[0mget_edge_data\u001b[0m\u001b[0;34m(\u001b[0m\u001b[0mself\u001b[0m\u001b[0;34m.\u001b[0m\u001b[0mposition\u001b[0m\u001b[0;34m,\u001b[0m \u001b[0mself\u001b[0m\u001b[0;34m.\u001b[0m\u001b[0mnext_position\u001b[0m\u001b[0;34m)\u001b[0m\u001b[0;34m[\u001b[0m\u001b[0;34m'distance'\u001b[0m\u001b[0;34m]\u001b[0m\u001b[0;34m\u001b[0m\u001b[0;34m\u001b[0m\u001b[0m\n\u001b[0m\u001b[1;32m     62\u001b[0m \u001b[0;34m\u001b[0m\u001b[0m\n\u001b[1;32m     63\u001b[0m     \u001b[0;32mdef\u001b[0m \u001b[0mreroute\u001b[0m\u001b[0;34m(\u001b[0m\u001b[0mself\u001b[0m\u001b[0;34m)\u001b[0m\u001b[0;34m:\u001b[0m\u001b[0;34m\u001b[0m\u001b[0;34m\u001b[0m\u001b[0m\n",
      "\u001b[0;31mTypeError\u001b[0m: 'NoneType' object is not subscriptable"
     ]
    }
   ],
   "source": [
    "\n",
    "model = ShippingNetwork(clean_distances, origin, pruning_files, 1)\n",
    "\n",
    "steps = 15\n",
    "for i in trange(steps, desc=\"Stepping Model\"):\n",
    "    model.step()\n",
    "model.network_change('Dover')\n",
    "for i in trange(steps, desc=\"Stepping Model after changes\"):\n",
    "    model.step()\n",
    "print(\"does this execute here?\")\n",
    "\n",
    "\n",
    "agent_state = model.datacollector.get_agent_vars_dataframe()\n",
    "agent_state"
   ]
  },
  {
   "cell_type": "code",
   "execution_count": 17,
   "metadata": {},
   "outputs": [
    {
     "output_type": "execute_result",
     "data": {
      "text/plain": [
       "              Position  Destination     State  \\\n",
       "Step AgentID                                    \n",
       "1    1             669         2508  0.247789   \n",
       "2    1            2508         2508  0.022111   \n",
       "3    1            2508          641  3.000000   \n",
       "4    1            2508          641  2.000000   \n",
       "5    1            2508          641  1.000000   \n",
       "6    1             669          641  0.022111   \n",
       "7    1             641          641  0.247789   \n",
       "8    1             641         2508  3.000000   \n",
       "9    1             641         2508  2.000000   \n",
       "10   1             641         2508  1.000000   \n",
       "11   1             669         2508  0.247789   \n",
       "12   1            2508         2508  0.022111   \n",
       "13   1            2508          641  3.000000   \n",
       "14   1            2508          641  2.000000   \n",
       "15   1            2508          641  1.000000   \n",
       "16   1             669          641  0.022111   \n",
       "\n",
       "                                                      Itinerary  \\\n",
       "Step AgentID                                                      \n",
       "1    1        [641, 669, 2508, 2508, 669, 641, 641, 669, 250...   \n",
       "2    1        [641, 669, 2508, 2508, 669, 641, 641, 669, 250...   \n",
       "3    1        [641, 669, 2508, 2508, 669, 641, 641, 669, 250...   \n",
       "4    1        [641, 669, 2508, 2508, 669, 641, 641, 669, 250...   \n",
       "5    1        [641, 669, 2508, 2508, 669, 641, 641, 669, 250...   \n",
       "6    1        [641, 669, 2508, 2508, 669, 641, 641, 669, 250...   \n",
       "7    1        [641, 669, 2508, 2508, 669, 641, 641, 669, 250...   \n",
       "8    1        [641, 669, 2508, 2508, 669, 641, 641, 669, 250...   \n",
       "9    1        [641, 669, 2508, 2508, 669, 641, 641, 669, 250...   \n",
       "10   1        [641, 669, 2508, 2508, 669, 641, 641, 669, 250...   \n",
       "11   1        [641, 669, 2508, 2508, 669, 641, 641, 669, 250...   \n",
       "12   1        [641, 669, 2508, 2508, 669, 641, 641, 669, 250...   \n",
       "13   1        [641, 669, 2508, 2508, 669, 641, 641, 669, 250...   \n",
       "14   1        [641, 669, 2508, 2508, 669, 641, 641, 669, 250...   \n",
       "15   1        [641, 669, 2508, 2508, 669, 641, 641, 669, 250...   \n",
       "16   1        [641, 669, 2508, 2508, 669, 641, 641, 669, 250...   \n",
       "\n",
       "              Distance_Traveled       Route  Route Changes  \n",
       "Step AgentID                                                \n",
       "1    1               143.178242      [2508]              0  \n",
       "2    1               286.356483      [2508]              0  \n",
       "3    1               299.132941       [641]              0  \n",
       "4    1               299.132941       [641]              0  \n",
       "5    1               299.132941       [641]              0  \n",
       "6    1               311.909398       [641]              0  \n",
       "7    1               324.685856       [641]              0  \n",
       "8    1               467.864097      [2508]              0  \n",
       "9    1               467.864097      [2508]              0  \n",
       "10   1               467.864097      [2508]              0  \n",
       "11   1               611.042339      [2508]              0  \n",
       "12   1               754.220580      [2508]              0  \n",
       "13   1               766.997038  [669, 641]              0  \n",
       "14   1               766.997038  [669, 641]              0  \n",
       "15   1               766.997038  [669, 641]              0  \n",
       "16   1               779.773495  [669, 641]              0  "
      ],
      "text/html": "<div>\n<style scoped>\n    .dataframe tbody tr th:only-of-type {\n        vertical-align: middle;\n    }\n\n    .dataframe tbody tr th {\n        vertical-align: top;\n    }\n\n    .dataframe thead th {\n        text-align: right;\n    }\n</style>\n<table border=\"1\" class=\"dataframe\">\n  <thead>\n    <tr style=\"text-align: right;\">\n      <th></th>\n      <th></th>\n      <th>Position</th>\n      <th>Destination</th>\n      <th>State</th>\n      <th>Itinerary</th>\n      <th>Distance_Traveled</th>\n      <th>Route</th>\n      <th>Route Changes</th>\n    </tr>\n    <tr>\n      <th>Step</th>\n      <th>AgentID</th>\n      <th></th>\n      <th></th>\n      <th></th>\n      <th></th>\n      <th></th>\n      <th></th>\n      <th></th>\n    </tr>\n  </thead>\n  <tbody>\n    <tr>\n      <th>1</th>\n      <th>1</th>\n      <td>669</td>\n      <td>2508</td>\n      <td>0.247789</td>\n      <td>[641, 669, 2508, 2508, 669, 641, 641, 669, 250...</td>\n      <td>143.178242</td>\n      <td>[2508]</td>\n      <td>0</td>\n    </tr>\n    <tr>\n      <th>2</th>\n      <th>1</th>\n      <td>2508</td>\n      <td>2508</td>\n      <td>0.022111</td>\n      <td>[641, 669, 2508, 2508, 669, 641, 641, 669, 250...</td>\n      <td>286.356483</td>\n      <td>[2508]</td>\n      <td>0</td>\n    </tr>\n    <tr>\n      <th>3</th>\n      <th>1</th>\n      <td>2508</td>\n      <td>641</td>\n      <td>3.000000</td>\n      <td>[641, 669, 2508, 2508, 669, 641, 641, 669, 250...</td>\n      <td>299.132941</td>\n      <td>[641]</td>\n      <td>0</td>\n    </tr>\n    <tr>\n      <th>4</th>\n      <th>1</th>\n      <td>2508</td>\n      <td>641</td>\n      <td>2.000000</td>\n      <td>[641, 669, 2508, 2508, 669, 641, 641, 669, 250...</td>\n      <td>299.132941</td>\n      <td>[641]</td>\n      <td>0</td>\n    </tr>\n    <tr>\n      <th>5</th>\n      <th>1</th>\n      <td>2508</td>\n      <td>641</td>\n      <td>1.000000</td>\n      <td>[641, 669, 2508, 2508, 669, 641, 641, 669, 250...</td>\n      <td>299.132941</td>\n      <td>[641]</td>\n      <td>0</td>\n    </tr>\n    <tr>\n      <th>6</th>\n      <th>1</th>\n      <td>669</td>\n      <td>641</td>\n      <td>0.022111</td>\n      <td>[641, 669, 2508, 2508, 669, 641, 641, 669, 250...</td>\n      <td>311.909398</td>\n      <td>[641]</td>\n      <td>0</td>\n    </tr>\n    <tr>\n      <th>7</th>\n      <th>1</th>\n      <td>641</td>\n      <td>641</td>\n      <td>0.247789</td>\n      <td>[641, 669, 2508, 2508, 669, 641, 641, 669, 250...</td>\n      <td>324.685856</td>\n      <td>[641]</td>\n      <td>0</td>\n    </tr>\n    <tr>\n      <th>8</th>\n      <th>1</th>\n      <td>641</td>\n      <td>2508</td>\n      <td>3.000000</td>\n      <td>[641, 669, 2508, 2508, 669, 641, 641, 669, 250...</td>\n      <td>467.864097</td>\n      <td>[2508]</td>\n      <td>0</td>\n    </tr>\n    <tr>\n      <th>9</th>\n      <th>1</th>\n      <td>641</td>\n      <td>2508</td>\n      <td>2.000000</td>\n      <td>[641, 669, 2508, 2508, 669, 641, 641, 669, 250...</td>\n      <td>467.864097</td>\n      <td>[2508]</td>\n      <td>0</td>\n    </tr>\n    <tr>\n      <th>10</th>\n      <th>1</th>\n      <td>641</td>\n      <td>2508</td>\n      <td>1.000000</td>\n      <td>[641, 669, 2508, 2508, 669, 641, 641, 669, 250...</td>\n      <td>467.864097</td>\n      <td>[2508]</td>\n      <td>0</td>\n    </tr>\n    <tr>\n      <th>11</th>\n      <th>1</th>\n      <td>669</td>\n      <td>2508</td>\n      <td>0.247789</td>\n      <td>[641, 669, 2508, 2508, 669, 641, 641, 669, 250...</td>\n      <td>611.042339</td>\n      <td>[2508]</td>\n      <td>0</td>\n    </tr>\n    <tr>\n      <th>12</th>\n      <th>1</th>\n      <td>2508</td>\n      <td>2508</td>\n      <td>0.022111</td>\n      <td>[641, 669, 2508, 2508, 669, 641, 641, 669, 250...</td>\n      <td>754.220580</td>\n      <td>[2508]</td>\n      <td>0</td>\n    </tr>\n    <tr>\n      <th>13</th>\n      <th>1</th>\n      <td>2508</td>\n      <td>641</td>\n      <td>3.000000</td>\n      <td>[641, 669, 2508, 2508, 669, 641, 641, 669, 250...</td>\n      <td>766.997038</td>\n      <td>[669, 641]</td>\n      <td>0</td>\n    </tr>\n    <tr>\n      <th>14</th>\n      <th>1</th>\n      <td>2508</td>\n      <td>641</td>\n      <td>2.000000</td>\n      <td>[641, 669, 2508, 2508, 669, 641, 641, 669, 250...</td>\n      <td>766.997038</td>\n      <td>[669, 641]</td>\n      <td>0</td>\n    </tr>\n    <tr>\n      <th>15</th>\n      <th>1</th>\n      <td>2508</td>\n      <td>641</td>\n      <td>1.000000</td>\n      <td>[641, 669, 2508, 2508, 669, 641, 641, 669, 250...</td>\n      <td>766.997038</td>\n      <td>[669, 641]</td>\n      <td>0</td>\n    </tr>\n    <tr>\n      <th>16</th>\n      <th>1</th>\n      <td>669</td>\n      <td>641</td>\n      <td>0.022111</td>\n      <td>[641, 669, 2508, 2508, 669, 641, 641, 669, 250...</td>\n      <td>779.773495</td>\n      <td>[669, 641]</td>\n      <td>0</td>\n    </tr>\n  </tbody>\n</table>\n</div>"
     },
     "metadata": {},
     "execution_count": 17
    }
   ],
   "source": [
    "\n",
    "agent_state = model.datacollector.get_agent_vars_dataframe()\n",
    "agent_state\n"
   ]
  },
  {
   "cell_type": "code",
   "execution_count": 20,
   "metadata": {},
   "outputs": [
    {
     "output_type": "execute_result",
     "data": {
      "text/plain": [
       "         Position  Destination     State  \\\n",
       "AgentID                                    \n",
       "1             669          641  0.022111   \n",
       "\n",
       "                                                 Itinerary  Distance_Traveled  \\\n",
       "AgentID                                                                         \n",
       "1        [641, 669, 2508, 2508, 669, 641, 641, 669, 250...         779.773495   \n",
       "\n",
       "              Route  Route Changes  \n",
       "AgentID                             \n",
       "1        [669, 641]              0  "
      ],
      "text/html": "<div>\n<style scoped>\n    .dataframe tbody tr th:only-of-type {\n        vertical-align: middle;\n    }\n\n    .dataframe tbody tr th {\n        vertical-align: top;\n    }\n\n    .dataframe thead th {\n        text-align: right;\n    }\n</style>\n<table border=\"1\" class=\"dataframe\">\n  <thead>\n    <tr style=\"text-align: right;\">\n      <th></th>\n      <th>Position</th>\n      <th>Destination</th>\n      <th>State</th>\n      <th>Itinerary</th>\n      <th>Distance_Traveled</th>\n      <th>Route</th>\n      <th>Route Changes</th>\n    </tr>\n    <tr>\n      <th>AgentID</th>\n      <th></th>\n      <th></th>\n      <th></th>\n      <th></th>\n      <th></th>\n      <th></th>\n      <th></th>\n    </tr>\n  </thead>\n  <tbody>\n    <tr>\n      <th>1</th>\n      <td>669</td>\n      <td>641</td>\n      <td>0.022111</td>\n      <td>[641, 669, 2508, 2508, 669, 641, 641, 669, 250...</td>\n      <td>779.773495</td>\n      <td>[669, 641]</td>\n      <td>0</td>\n    </tr>\n  </tbody>\n</table>\n</div>"
     },
     "metadata": {},
     "execution_count": 20
    }
   ],
   "source": [
    "agent_state.loc[16]"
   ]
  },
  {
   "cell_type": "code",
   "execution_count": 43,
   "metadata": {},
   "outputs": [
    {
     "output_type": "execute_result",
     "data": {
      "text/plain": [
       "138038.67166337415"
      ]
     },
     "metadata": {},
     "execution_count": 43
    }
   ],
   "source": []
  }
 ]
}