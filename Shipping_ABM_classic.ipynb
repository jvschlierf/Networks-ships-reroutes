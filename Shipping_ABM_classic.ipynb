{
 "metadata": {
  "language_info": {
   "codemirror_mode": {
    "name": "ipython",
    "version": 3
   },
   "file_extension": ".py",
   "mimetype": "text/x-python",
   "name": "python",
   "nbconvert_exporter": "python",
   "pygments_lexer": "ipython3",
   "version": "3.7.7"
  },
  "orig_nbformat": 2,
  "kernelspec": {
   "name": "python377jvsc74a57bd0c657ab3134d4d36fa6659201da87ce22dbf2c2b56e557e7a3dd81d87fd1e5788",
   "display_name": "Python 3.7.7 64-bit ('Sim_mod': conda)"
  }
 },
 "nbformat": 4,
 "nbformat_minor": 2,
 "cells": [
  {
   "source": [
    "# ABM\n",
    "\n",
    "## Imports / Data Conversion"
   ],
   "cell_type": "markdown",
   "metadata": {}
  },
  {
   "cell_type": "code",
   "execution_count": 1,
   "metadata": {},
   "outputs": [],
   "source": [
    "import time, enum, math\n",
    "import numpy as np\n",
    "import pandas as pd\n",
    "import pylab as plt\n",
    "from mesa import Agent, Model\n",
    "from mesa.time import SimultaneousActivation, RandomActivation\n",
    "from mesa.space import NetworkGrid\n",
    "from mesa.datacollection import DataCollector\n",
    "from networkx.algorithms.shortest_paths.generic import has_path\n",
    "import networkx as nx\n",
    "import panel as pn\n",
    "import panel.widgets as pnw\n",
    "import random\n",
    "from tqdm import tqdm, trange\n",
    "from time import sleep\n",
    "\n",
    "data_path = '../' #set to wherever the data files are, will be used on every input"
   ]
  },
  {
   "cell_type": "code",
   "execution_count": 2,
   "metadata": {},
   "outputs": [],
   "source": [
    "ports = pd.read_csv((data_path +'ports.csv'))\n",
    "\n",
    "\n",
    "origin = pd.read_csv((data_path + 'origin_ports.csv'))\n",
    "clean_distances = pd.read_csv((data_path + 'clean_distances.csv'))\n",
    "# distances = distances_df[[\"prev_port\", \"next_port\", \"distance\"]]\n",
    "# distances.astype({'prev_port':'int64', 'next_port':'int64'}).dtypes"
   ]
  },
  {
   "cell_type": "code",
   "execution_count": 3,
   "metadata": {},
   "outputs": [],
   "source": [
    "route_blockage_dov = pd.read_csv((data_path + 'route_blockages_dov.csv'))\n",
    "route_blockage_gib = pd.read_csv((data_path + 'route_blockages_gib.csv'))\n",
    "route_blockage_horm = pd.read_csv((data_path + 'route_blockages_horm.csv'))\n",
    "route_blockage_mal = pd.read_csv((data_path + 'route_blockages_mal.csv'))\n",
    "route_blockage_pan = pd.read_csv((data_path + 'route_blockages_pan.csv'))\n",
    "route_blockage_suez = pd.read_csv((data_path + 'route_blockages_suez.csv'))\n",
    "route_blockage_total = pd.read_csv((data_path + 'route_blockages_total.csv'))"
   ]
  },
  {
   "cell_type": "code",
   "execution_count": 4,
   "metadata": {},
   "outputs": [],
   "source": [
    "pruning_files = [route_blockage_dov, route_blockage_gib, route_blockage_horm, route_blockage_mal, route_blockage_pan, route_blockage_suez, route_blockage_total]"
   ]
  },
  {
   "cell_type": "code",
   "execution_count": 8,
   "metadata": {},
   "outputs": [],
   "source": [
    "def Cut_Graph(G, route_blockages):\n",
    "        fails = 0\n",
    "        for index in range(len(route_blockages)):\n",
    "            try:\n",
    "                G.remove_edge(route_blockages.iloc[index]['prev_port'],route_blockages.iloc[index]['next_port'])\n",
    "            except:\n",
    "                fails += 1\n",
    "        print(\"Failed {} times\".format(fails))\n",
    "        return G"
   ]
  },
  {
   "source": [
    "## Playground "
   ],
   "cell_type": "markdown",
   "metadata": {}
  },
  {
   "cell_type": "code",
   "execution_count": 5,
   "metadata": {},
   "outputs": [],
   "source": [
    "G = nx.from_pandas_edgelist(clean_distances, \"prev_port\", \"next_port\",edge_attr= \"distance\",create_using=nx.Graph())"
   ]
  },
  {
   "cell_type": "code",
   "execution_count": 6,
   "metadata": {},
   "outputs": [
    {
     "output_type": "execute_result",
     "data": {
      "text/plain": [
       "29838"
      ]
     },
     "metadata": {},
     "execution_count": 6
    }
   ],
   "source": [
    "G.number_of_edges()"
   ]
  },
  {
   "cell_type": "code",
   "execution_count": 7,
   "metadata": {},
   "outputs": [
    {
     "output_type": "execute_result",
     "data": {
      "text/plain": [
       "2912"
      ]
     },
     "metadata": {},
     "execution_count": 7
    }
   ],
   "source": [
    "G.number_of_nodes()"
   ]
  },
  {
   "cell_type": "code",
   "execution_count": 44,
   "metadata": {},
   "outputs": [
    {
     "output_type": "execute_result",
     "data": {
      "text/plain": [
       "24306"
      ]
     },
     "metadata": {},
     "execution_count": 44
    }
   ],
   "source": [
    "G_Total.number_of_edges()"
   ]
  },
  {
   "cell_type": "code",
   "execution_count": 43,
   "metadata": {},
   "outputs": [
    {
     "output_type": "stream",
     "name": "stdout",
     "text": [
      "Failed 1930 times\n"
     ]
    }
   ],
   "source": [
    "G_Total = Cut_Graph(G, route_blockage_total)"
   ]
  },
  {
   "cell_type": "code",
   "execution_count": 55,
   "metadata": {},
   "outputs": [
    {
     "output_type": "execute_result",
     "data": {
      "text/plain": [
       "1940"
      ]
     },
     "metadata": {},
     "execution_count": 55
    }
   ],
   "source": [
    "list(G.nodes())[1]"
   ]
  },
  {
   "cell_type": "code",
   "execution_count": 63,
   "metadata": {},
   "outputs": [
    {
     "output_type": "error",
     "ename": "IndentationError",
     "evalue": "unexpected indent (<ipython-input-63-87969c51f070>, line 7)",
     "traceback": [
      "\u001b[0;36m  File \u001b[0;32m\"<ipython-input-63-87969c51f070>\"\u001b[0;36m, line \u001b[0;32m7\u001b[0m\n\u001b[0;31m    for j in range(len(list(G.nodes()))):\u001b[0m\n\u001b[0m    ^\u001b[0m\n\u001b[0;31mIndentationError\u001b[0m\u001b[0;31m:\u001b[0m unexpected indent\n"
     ]
    }
   ],
   "source": [
    "results = []\n",
    "Success = 0\n",
    "Fail = 0\n",
    "Same_distance = 0\n",
    "for i in range(len(list(G.nodes()))):\n",
    "    position = list(G.nodes())[i]\n",
    "        for j in range(len(list(G.nodes()))):\n",
    "            destination = list(G.nodes())[i]\n",
    "            try:\n",
    "                init_route = nx.dijkstra_path(G, position, destination, weight='distance')\n",
    "                init_dist = nx.dijkstra_path_length(G, position, destination, weight='distance')\n",
    "                Total_route = nx.dijkstra_path(G_Total, position, destination, weight='distance')\n",
    "                Total_dist = nx.dijkstra_path_length(G_Total, position, destination, weight='distance')\n",
    "                if init_dist != Total_dist:\n",
    "                    result = [position, destination]\n",
    "                    results.append(result)\n",
    "                    Success += 1\n",
    "                else:\n",
    "                    Same_distance += 1\n",
    "            except :\n",
    "                Fail += 1\n",
    "\n",
    "        "
   ]
  },
  {
   "cell_type": "code",
   "execution_count": 61,
   "metadata": {},
   "outputs": [
    {
     "output_type": "stream",
     "name": "stdout",
     "text": [
      "0 757 2155\n"
     ]
    }
   ],
   "source": [
    "print(Success, Same_distance, Fail)"
   ]
  },
  {
   "cell_type": "code",
   "execution_count": null,
   "metadata": {},
   "outputs": [],
   "source": []
  },
  {
   "cell_type": "code",
   "execution_count": 12,
   "metadata": {},
   "outputs": [],
   "source": [
    "init_route = nx.dijkstra_path(G, position, destination, weight='distance')\n",
    "init_dist = nx.dijkstra_path_length(G, position, destination, weight='distance')\n",
    "Total_route = nx.dijkstra_path(G_Suez, position, destination, weight='distance')\n",
    "Total_dist = nx.dijkstra_path_length(G_Suez, position, destination, weight='distance')"
   ]
  },
  {
   "cell_type": "code",
   "execution_count": 14,
   "metadata": {},
   "outputs": [
    {
     "output_type": "execute_result",
     "data": {
      "text/plain": [
       "6063.350807988509"
      ]
     },
     "metadata": {},
     "execution_count": 14
    }
   ],
   "source": [
    "init_dist"
   ]
  },
  {
   "cell_type": "code",
   "execution_count": null,
   "metadata": {},
   "outputs": [],
   "source": [
    "# def next_dest(sample):\n",
    "#     try:\n",
    "\n",
    "#         overall_distance = list()\n",
    "#         itinerary = list()\n",
    "#         for i in range(len(sample)):\n",
    "#             distance = dict()\n",
    "#             for i in range(1,len(sample)):\n",
    "#                 distance[sample[i]] = nx.dijkstra_path_length(G, sample[0] ,sample[i], weight='distance')\n",
    "#             next_stop = min(distance, key=distance.get)\n",
    "#             itinerary.append(nx.dijkstra_path(G, origin, next_stop, weight = 'distance'))\n",
    "#             overall_distance.append(next_stop)\n",
    "#             sample.pop(0)\n",
    "#             ind = sample.index(next_stop)\n",
    "#             sample.pop(ind)\n",
    "#             sample.insert(0, next_stop)\n",
    "#     except:\n",
    "#         pass\n",
    "#     flat_route = []\n",
    "#     for sublist in itinerary:\n",
    "#         for port in sublist:\n",
    "#             flat_route.append(port)\n",
    "        \n",
    "#     return flat_route, sum(overall_distance)\n"
   ]
  },
  {
   "source": [
    "## Model"
   ],
   "cell_type": "markdown",
   "metadata": {}
  },
  {
   "cell_type": "code",
   "execution_count": 39,
   "metadata": {},
   "outputs": [],
   "source": [
    "class ShippingNetwork(Model):\n",
    "    def __init__(self, distances, major_ports, pruning_files, S=1000):\n",
    "        self.major_ports = major_ports\n",
    "        self.num_ships = S\n",
    "        self.distances = distances\n",
    "        self.schedule = SimultaneousActivation(self)\n",
    "        self.running = True\n",
    "        self.Ships = []\n",
    "        self.pruning_files = pruning_files\n",
    "\n",
    "        #Build Network without closures\n",
    "        self.G = nx.from_pandas_edgelist(distances, \"prev_port\", \"next_port\", [\"distance\"], create_using=nx.Graph())    \n",
    "        #Define Mesa Grid as the just created Network to allow for shipping only in routes\n",
    "        self.grid = NetworkGrid(self.G) \n",
    "    \n",
    "\n",
    "        #Build alternate Networks (with closures in place)\n",
    "        self.G_Dov = self.Cut_Graph(self.G, self.pruning_files[0])\n",
    "\n",
    "\n",
    "\n",
    "\n",
    "\n",
    "        #create agents   \n",
    "        for i in tqdm(range(self.num_ships), desc=\"Placing Ships\"):\n",
    "            start_port = np.random.choice(self.major_ports[\"Ref\"], size=None, replace=True,  p=self.major_ports[\"PROB\"])\n",
    "            destin_port = random.sample(self.G.nodes, k=1)[0]  # Sample the destination \n",
    "            #We sample the origin port from a list of the 50 biggest ports world, with the prob = TAU of the port / TAU of all origin ports for 2017\n",
    "            a = Ship(i+1, self, self.G, start_port, destin_port, major_ports)\n",
    "            self.schedule.add(a)\n",
    "            self.Ships.append(a) #append to list of ships\n",
    "            self.grid.place_agent(a, start_port) #place agent on origin node\n",
    "\n",
    "        self.datacollector = DataCollector(\n",
    "            model_reporters={\"Graph\":\"G\"},\n",
    "            agent_reporters={\"Position\": \"position\", \"Destination\":\"destination\", \"Itinerary\":\"itinerary\", \"Distance_Traveled\":\"distance_traveled\", \"Route\":\"current_route\", \"Route Changes\":\"route_chng\" })\n",
    "    \n",
    "\n",
    "\n",
    "    def Cut_Graph(self, G, route_blockages):\n",
    "        for index in range(len(route_blockages)):\n",
    "            try:\n",
    "                G.remove_edge(route_blockages.iloc[index]['prev_port'],route_blockages.iloc[index]['next_port'])\n",
    "            except:\n",
    "                pass\n",
    "        return G\n",
    "\n",
    "\n",
    "        #create ability to remove edges mid-model\n",
    "    def network_change(self, blockage):\n",
    "        if blockage == \"Dover\":\n",
    "            for a in tqdm(self.Ships):\n",
    "                a.G = self.G_Dov\n",
    "            print(\"done changing, should step again?\")\n",
    "\n",
    "\n",
    "    def step(self, blockage=''):\n",
    "        #check network for changes\n",
    "        if blockage != '' :\n",
    "           network_change(blockage)\n",
    "\n",
    "        self.schedule.step()     #Run each Agents\n",
    "        self.datacollector.collect(self)\n",
    "\n",
    "\n"
   ]
  },
  {
   "cell_type": "code",
   "execution_count": 40,
   "metadata": {},
   "outputs": [],
   "source": [
    "class Ship(Agent):\n",
    "    def __init__(self, unique_id, model, G, start_port, destin_port, major_ports, s=13.0):\n",
    "        super().__init__(unique_id, model)\n",
    "        self.destination = destin_port\n",
    "        self.state = 0 #0 for active, numbers > 0 for weeks that ships have to \"wait\" until arrival to port\n",
    "        self.speed = s*24*1.852 #speed is given in knots, with 1 knot being 1 nautical mile per hour. Since the model works with distances in km, we convert here (1 nm = 1.852m)\n",
    "        self.position = start_port\n",
    "        self.distance_traveled = 0\n",
    "        self.unique_id = unique_id\n",
    "        self.G = G\n",
    "        self.route_chng = 0\n",
    "        self.routes = 0\n",
    "        self.major_ports = major_ports\n",
    "\n",
    "    \n",
    "        #implement dijkstra to define shortest route\n",
    "        try:\n",
    "            self.init_route = nx.dijkstra_path(self.G, self.position, self.destination, weight='length')\n",
    "            self.init_dist = nx.dijkstra_path_length(self.G, self.position, self.destination, weight='length')\n",
    "        except:\n",
    "            self.destination = random.sample(self.G.nodes, k=1)[0]\n",
    "            self.init_route = nx.dijkstra_path(self.G, self.position, self.destination, weight='length')\n",
    "            self.init_dist = nx.dijkstra_path_length(self.G, self.position, self.destination, weight='length')\n",
    "            #include a way for capacity?\n",
    "        \n",
    "\n",
    "         #We keep a copy of the entire itinerary / distance traveled\n",
    "        self.current_route, self.current_dist = self.init_route, self.init_dist  #For comparison & navigational purposes, we use current route & distance\n",
    "        self.next_position = self.current_route[1]\n",
    "        self.itinerary = [self.position]\n",
    "        self.step_size = self.ident_distance()\n",
    "\n",
    "\n",
    "    def routing(self):\n",
    "        #implement dijkstra to define shortest route\n",
    "        try:\n",
    "            route = nx.dijkstra_path(self.G, self.position, self.destination, weight='length')\n",
    "            travel_distance = nx.dijkstra_path_length(self.G, self.position, self.destination, weight='length')\n",
    "        except:\n",
    "            self.destination = random.sample(self.G.nodes, k=1)[0]\n",
    "            route = nx.dijkstra_path(self.G, self.position, self.destination, weight='length')\n",
    "            travel_distance = nx.dijkstra_path_length(self.G, self.position, self.destination, weight='length')\n",
    "        #include a way for capacity?\n",
    "        return route, travel_distance\n",
    "\n",
    "\n",
    "    def move(self):\n",
    "        self.next_position = self.current_route[1]\n",
    "        self.step_size = self.ident_distance() #look up the distance between two cities \n",
    "        self.state = self.step_size / self.speed #change state to step amount\n",
    "        self.current_dist = self.current_dist - self.step_size #adjust current distance minus the distance traveled in the next step\n",
    "        self.model.grid.move_agent(self, self.next_position) #move the agent\n",
    "        self.current_route.remove(self.current_route[0]) #remove the next step from the itinerary\n",
    "        self.position = self.next_position\n",
    "        if len(self.current_route) == 1:\n",
    "            self.next_position = self.current_route[0] \n",
    "        else:\n",
    "            self.next_position = self.current_route[1] #update current route\n",
    "\n",
    "    def ident_distance(self): #look up the distance of the current step\n",
    "        return self.G.get_edge_data(self.position, self.next_position)['distance']\n",
    "    \n",
    "    def reroute(self):\n",
    "        self.routes += 1\n",
    "        if self.position in self.major_ports[\"Ref\"].values: # We re-route in such a way that ships that have either an origin port or a destination port that is a major port\n",
    "            self.destination = random.sample(self.G.nodes, k=1)[0]\n",
    "        else:\n",
    "            self.destination = np.random.choice(self.major_ports[\"Ref\"], size=None, replace=True,  p=self.major_ports[\"PROB\"])\n",
    "        \n",
    "        self.current_route, self.current_dist = self.routing()\n",
    "        self.state = 3\n",
    "\n",
    "    \n",
    "\n",
    "    def step(self):\n",
    "        self.state = self.state - 1 #'move' ships by one weeks progress\n",
    "        if self.state <= 0.000: #ships that are en-route to the node they are going to next do not move / perform other activities\n",
    "            self.distance_traveled += self.step_size #ship has arrived at port, let's add the distance traveled to their \n",
    "           \n",
    "            #add the current position to itinerary\n",
    "            if self.position != self.destination: #if current stop is not the final stop\n",
    "                new_route, new_distance = self.routing() #perform a new routing to compare against current routing\n",
    "                \n",
    "                if new_route == self.current_route: #if current routing is the same as new, just move (default case)\n",
    "                    # print(\"default case\")\n",
    "                    self.move()\n",
    "                    self.itinerary.append(self.position)\n",
    "        \n",
    "            # THIS CURRENTLY ONLY CHANGES THE ROUTE IF THE NEXT STEP IS BLOCKED\n",
    "                elif new_distance > self.current_dist: #if current route is shorter than newly calculated route, check for obstructions\n",
    "                    # print('reroute: current route shorter than new route')\n",
    "                    if not has_path(self.G, self.position, self.next_position): \n",
    "                        self.current_route = new_route\n",
    "                        self.current_dist = new_distance\n",
    "                        self.route_chng += 1\n",
    "                    self.move()\n",
    "                    self.itinerary.append(self.position)\n",
    "                \n",
    "                \n",
    "                else: # final option is that current route is longer than new route (think Suez reopening after a while), here, we just take the new option\n",
    "                    # print('reroute: current route longer than new route')\n",
    "                    self.current_route = new_route\n",
    "                    self.current_dist = new_distance\n",
    "                    self.route_chng += 1\n",
    "                    self.move()\n",
    "                    self.itinerary.append(self.position)\n",
    "            \n",
    "            else: #if ship is arrived at final position, get a new route, and start back\n",
    "                # print('arrival')\n",
    "                self.reroute()\n",
    "                self.itinerary.append(self.position)\n",
    "        # print(\"Ship: {}, Source: {}, Destination: {}, Position: {},  Next Stop {}, Time until next Stop {}\".format(self.unique_id, self.itinerary[0], self.destination, self.position, self.next_position, self.state ))\n",
    "\n",
    "    \n",
    "    # def collect_time\n",
    "\n",
    "    # def collect_costs"
   ]
  },
  {
   "cell_type": "code",
   "execution_count": null,
   "metadata": {},
   "outputs": [],
   "source": []
  },
  {
   "source": [
    "## Model Instances"
   ],
   "cell_type": "markdown",
   "metadata": {}
  },
  {
   "cell_type": "code",
   "execution_count": 42,
   "metadata": {},
   "outputs": [
    {
     "output_type": "stream",
     "name": "stderr",
     "text": [
      "Placing Ships: 100%|██████████| 1/1 [00:00<00:00, 17.08it/s]\n",
      "Stepping Model: 100%|██████████| 6/6 [00:00<00:00, 105.57it/s]\n",
      "100%|██████████| 1/1 [00:00<00:00, 3890.82it/s]\n",
      "Stepping Model after changes: 100%|██████████| 6/6 [00:00<00:00, 14090.61it/s]done changing, should step again?\n",
      "does this execute here?\n",
      "\n"
     ]
    },
    {
     "output_type": "execute_result",
     "data": {
      "text/plain": [
       "              Position  Destination       Itinerary  Distance_Traveled  \\\n",
       "Step AgentID                                                             \n",
       "1    1            1975        42159  [2403.0, 1975]        7614.344734   \n",
       "2    1            1975        42159  [2403.0, 1975]        7614.344734   \n",
       "3    1            1975        42159  [2403.0, 1975]        7614.344734   \n",
       "4    1            1975        42159  [2403.0, 1975]        7614.344734   \n",
       "5    1            1975        42159  [2403.0, 1975]        7614.344734   \n",
       "6    1            1975        42159  [2403.0, 1975]        7614.344734   \n",
       "7    1            1975        42159  [2403.0, 1975]        7614.344734   \n",
       "8    1            1975        42159  [2403.0, 1975]        7614.344734   \n",
       "9    1            1975        42159  [2403.0, 1975]        7614.344734   \n",
       "10   1            1975        42159  [2403.0, 1975]        7614.344734   \n",
       "11   1            1975        42159  [2403.0, 1975]        7614.344734   \n",
       "12   1            1975        42159  [2403.0, 1975]        7614.344734   \n",
       "\n",
       "                            Route  Route Changes  \n",
       "Step AgentID                                      \n",
       "1    1        [1975, 2172, 42159]              0  \n",
       "2    1        [1975, 2172, 42159]              0  \n",
       "3    1        [1975, 2172, 42159]              0  \n",
       "4    1        [1975, 2172, 42159]              0  \n",
       "5    1        [1975, 2172, 42159]              0  \n",
       "6    1        [1975, 2172, 42159]              0  \n",
       "7    1        [1975, 2172, 42159]              0  \n",
       "8    1        [1975, 2172, 42159]              0  \n",
       "9    1        [1975, 2172, 42159]              0  \n",
       "10   1        [1975, 2172, 42159]              0  \n",
       "11   1        [1975, 2172, 42159]              0  \n",
       "12   1        [1975, 2172, 42159]              0  "
      ],
      "text/html": "<div>\n<style scoped>\n    .dataframe tbody tr th:only-of-type {\n        vertical-align: middle;\n    }\n\n    .dataframe tbody tr th {\n        vertical-align: top;\n    }\n\n    .dataframe thead th {\n        text-align: right;\n    }\n</style>\n<table border=\"1\" class=\"dataframe\">\n  <thead>\n    <tr style=\"text-align: right;\">\n      <th></th>\n      <th></th>\n      <th>Position</th>\n      <th>Destination</th>\n      <th>Itinerary</th>\n      <th>Distance_Traveled</th>\n      <th>Route</th>\n      <th>Route Changes</th>\n    </tr>\n    <tr>\n      <th>Step</th>\n      <th>AgentID</th>\n      <th></th>\n      <th></th>\n      <th></th>\n      <th></th>\n      <th></th>\n      <th></th>\n    </tr>\n  </thead>\n  <tbody>\n    <tr>\n      <th>1</th>\n      <th>1</th>\n      <td>1975</td>\n      <td>42159</td>\n      <td>[2403.0, 1975]</td>\n      <td>7614.344734</td>\n      <td>[1975, 2172, 42159]</td>\n      <td>0</td>\n    </tr>\n    <tr>\n      <th>2</th>\n      <th>1</th>\n      <td>1975</td>\n      <td>42159</td>\n      <td>[2403.0, 1975]</td>\n      <td>7614.344734</td>\n      <td>[1975, 2172, 42159]</td>\n      <td>0</td>\n    </tr>\n    <tr>\n      <th>3</th>\n      <th>1</th>\n      <td>1975</td>\n      <td>42159</td>\n      <td>[2403.0, 1975]</td>\n      <td>7614.344734</td>\n      <td>[1975, 2172, 42159]</td>\n      <td>0</td>\n    </tr>\n    <tr>\n      <th>4</th>\n      <th>1</th>\n      <td>1975</td>\n      <td>42159</td>\n      <td>[2403.0, 1975]</td>\n      <td>7614.344734</td>\n      <td>[1975, 2172, 42159]</td>\n      <td>0</td>\n    </tr>\n    <tr>\n      <th>5</th>\n      <th>1</th>\n      <td>1975</td>\n      <td>42159</td>\n      <td>[2403.0, 1975]</td>\n      <td>7614.344734</td>\n      <td>[1975, 2172, 42159]</td>\n      <td>0</td>\n    </tr>\n    <tr>\n      <th>6</th>\n      <th>1</th>\n      <td>1975</td>\n      <td>42159</td>\n      <td>[2403.0, 1975]</td>\n      <td>7614.344734</td>\n      <td>[1975, 2172, 42159]</td>\n      <td>0</td>\n    </tr>\n    <tr>\n      <th>7</th>\n      <th>1</th>\n      <td>1975</td>\n      <td>42159</td>\n      <td>[2403.0, 1975]</td>\n      <td>7614.344734</td>\n      <td>[1975, 2172, 42159]</td>\n      <td>0</td>\n    </tr>\n    <tr>\n      <th>8</th>\n      <th>1</th>\n      <td>1975</td>\n      <td>42159</td>\n      <td>[2403.0, 1975]</td>\n      <td>7614.344734</td>\n      <td>[1975, 2172, 42159]</td>\n      <td>0</td>\n    </tr>\n    <tr>\n      <th>9</th>\n      <th>1</th>\n      <td>1975</td>\n      <td>42159</td>\n      <td>[2403.0, 1975]</td>\n      <td>7614.344734</td>\n      <td>[1975, 2172, 42159]</td>\n      <td>0</td>\n    </tr>\n    <tr>\n      <th>10</th>\n      <th>1</th>\n      <td>1975</td>\n      <td>42159</td>\n      <td>[2403.0, 1975]</td>\n      <td>7614.344734</td>\n      <td>[1975, 2172, 42159]</td>\n      <td>0</td>\n    </tr>\n    <tr>\n      <th>11</th>\n      <th>1</th>\n      <td>1975</td>\n      <td>42159</td>\n      <td>[2403.0, 1975]</td>\n      <td>7614.344734</td>\n      <td>[1975, 2172, 42159]</td>\n      <td>0</td>\n    </tr>\n    <tr>\n      <th>12</th>\n      <th>1</th>\n      <td>1975</td>\n      <td>42159</td>\n      <td>[2403.0, 1975]</td>\n      <td>7614.344734</td>\n      <td>[1975, 2172, 42159]</td>\n      <td>0</td>\n    </tr>\n  </tbody>\n</table>\n</div>"
     },
     "metadata": {},
     "execution_count": 42
    }
   ],
   "source": [
    "\n",
    "model = ShippingNetwork(clean_distances, origin, pruning_files, 1)\n",
    "\n",
    "steps = 6\n",
    "for i in trange(steps, desc=\"Stepping Model\"):\n",
    "    model.step()\n",
    "model.network_change('Dover')\n",
    "for i in trange(steps, desc=\"Stepping Model after changes\"):\n",
    "    model.step()\n",
    "print(\"does this execute here?\")\n",
    "\n",
    "\n",
    "agent_state = model.datacollector.get_agent_vars_dataframe()\n",
    "agent_state"
   ]
  },
  {
   "cell_type": "code",
   "execution_count": 51,
   "metadata": {},
   "outputs": [
    {
     "output_type": "execute_result",
     "data": {
      "text/plain": [
       "              Position  Destination             Itinerary  Distance_Traveled  \\\n",
       "Step AgentID                                                                   \n",
       "1    1            2667         1766  [2088.0, 2667, 3099]         227.108845   \n",
       "2    1            3099         1766  [2088.0, 2667, 3099]         454.217691   \n",
       "3    1            3099         1766  [2088.0, 2667, 3099]         454.217691   \n",
       "4    1            3099         1766  [2088.0, 2667, 3099]         454.217691   \n",
       "5    1            3099         1766  [2088.0, 2667, 3099]         454.217691   \n",
       "6    1            3099         1766  [2088.0, 2667, 3099]         454.217691   \n",
       "7    1            3099         1766  [2088.0, 2667, 3099]         454.217691   \n",
       "\n",
       "                           Route  Route Changes  \n",
       "Step AgentID                                     \n",
       "1    1        [3099, 4451, 1766]              0  \n",
       "2    1        [3099, 4451, 1766]              0  \n",
       "3    1        [3099, 4451, 1766]              0  \n",
       "4    1        [3099, 4451, 1766]              0  \n",
       "5    1        [3099, 4451, 1766]              0  \n",
       "6    1        [3099, 4451, 1766]              0  \n",
       "7    1        [3099, 4451, 1766]              0  "
      ],
      "text/html": "<div>\n<style scoped>\n    .dataframe tbody tr th:only-of-type {\n        vertical-align: middle;\n    }\n\n    .dataframe tbody tr th {\n        vertical-align: top;\n    }\n\n    .dataframe thead th {\n        text-align: right;\n    }\n</style>\n<table border=\"1\" class=\"dataframe\">\n  <thead>\n    <tr style=\"text-align: right;\">\n      <th></th>\n      <th></th>\n      <th>Position</th>\n      <th>Destination</th>\n      <th>Itinerary</th>\n      <th>Distance_Traveled</th>\n      <th>Route</th>\n      <th>Route Changes</th>\n    </tr>\n    <tr>\n      <th>Step</th>\n      <th>AgentID</th>\n      <th></th>\n      <th></th>\n      <th></th>\n      <th></th>\n      <th></th>\n      <th></th>\n    </tr>\n  </thead>\n  <tbody>\n    <tr>\n      <th>1</th>\n      <th>1</th>\n      <td>2667</td>\n      <td>1766</td>\n      <td>[2088.0, 2667, 3099]</td>\n      <td>227.108845</td>\n      <td>[3099, 4451, 1766]</td>\n      <td>0</td>\n    </tr>\n    <tr>\n      <th>2</th>\n      <th>1</th>\n      <td>3099</td>\n      <td>1766</td>\n      <td>[2088.0, 2667, 3099]</td>\n      <td>454.217691</td>\n      <td>[3099, 4451, 1766]</td>\n      <td>0</td>\n    </tr>\n    <tr>\n      <th>3</th>\n      <th>1</th>\n      <td>3099</td>\n      <td>1766</td>\n      <td>[2088.0, 2667, 3099]</td>\n      <td>454.217691</td>\n      <td>[3099, 4451, 1766]</td>\n      <td>0</td>\n    </tr>\n    <tr>\n      <th>4</th>\n      <th>1</th>\n      <td>3099</td>\n      <td>1766</td>\n      <td>[2088.0, 2667, 3099]</td>\n      <td>454.217691</td>\n      <td>[3099, 4451, 1766]</td>\n      <td>0</td>\n    </tr>\n    <tr>\n      <th>5</th>\n      <th>1</th>\n      <td>3099</td>\n      <td>1766</td>\n      <td>[2088.0, 2667, 3099]</td>\n      <td>454.217691</td>\n      <td>[3099, 4451, 1766]</td>\n      <td>0</td>\n    </tr>\n    <tr>\n      <th>6</th>\n      <th>1</th>\n      <td>3099</td>\n      <td>1766</td>\n      <td>[2088.0, 2667, 3099]</td>\n      <td>454.217691</td>\n      <td>[3099, 4451, 1766]</td>\n      <td>0</td>\n    </tr>\n    <tr>\n      <th>7</th>\n      <th>1</th>\n      <td>3099</td>\n      <td>1766</td>\n      <td>[2088.0, 2667, 3099]</td>\n      <td>454.217691</td>\n      <td>[3099, 4451, 1766]</td>\n      <td>0</td>\n    </tr>\n  </tbody>\n</table>\n</div>"
     },
     "metadata": {},
     "execution_count": 51
    }
   ],
   "source": [
    "\n"
   ]
  },
  {
   "cell_type": "code",
   "execution_count": 68,
   "metadata": {},
   "outputs": [],
   "source": [
    "agent_state.to_csv('../test_out.csv')"
   ]
  },
  {
   "cell_type": "code",
   "execution_count": 43,
   "metadata": {},
   "outputs": [
    {
     "output_type": "execute_result",
     "data": {
      "text/plain": [
       "138038.67166337415"
      ]
     },
     "metadata": {},
     "execution_count": 43
    }
   ],
   "source": []
  }
 ]
}