{
 "metadata": {
  "language_info": {
   "codemirror_mode": {
    "name": "ipython",
    "version": 3
   },
   "file_extension": ".py",
   "mimetype": "text/x-python",
   "name": "python",
   "nbconvert_exporter": "python",
   "pygments_lexer": "ipython3",
   "version": "3.7.7"
  },
  "orig_nbformat": 2,
  "kernelspec": {
   "name": "python377jvsc74a57bd0c657ab3134d4d36fa6659201da87ce22dbf2c2b56e557e7a3dd81d87fd1e5788",
   "display_name": "Python 3.7.7 64-bit ('Sim_mod': conda)"
  }
 },
 "nbformat": 4,
 "nbformat_minor": 2,
 "cells": [
  {
   "source": [
    "# ABM\n",
    "\n",
    "## Imports / Data Conversion"
   ],
   "cell_type": "markdown",
   "metadata": {}
  },
  {
   "cell_type": "code",
   "execution_count": 1,
   "metadata": {},
   "outputs": [],
   "source": [
    "import time, enum, math\n",
    "import numpy as np\n",
    "import pandas as pd\n",
    "import pylab as plt\n",
    "from mesa import Agent, Model\n",
    "from mesa.time import SimultaneousActivation, RandomActivation\n",
    "from mesa.space import NetworkGrid\n",
    "from mesa.datacollection import DataCollector\n",
    "from networkx.algorithms.shortest_paths.generic import has_path\n",
    "import networkx as nx\n",
    "import panel as pn\n",
    "import panel.widgets as pnw\n",
    "import random\n",
    "from tqdm import tqdm, trange\n",
    "from time import sleep\n",
    "\n",
    "data_path = '../' #set to wherever the data files are, will be used on every input"
   ]
  },
  {
   "cell_type": "code",
   "execution_count": 2,
   "metadata": {},
   "outputs": [],
   "source": [
    "def kmtoNaut(km):\n",
    "    return km / 1.852"
   ]
  },
  {
   "cell_type": "code",
   "execution_count": 48,
   "metadata": {},
   "outputs": [],
   "source": [
    "ports = pd.read_csv((data_path +'ports.csv'))\n",
    "data = pd.read_csv((data_path + 'distances.csv'))\n",
    "origin = pd.read_csv((data_path + 'origin_ports.csv'))\n",
    "route_blockages_horm = pd.read_csv((data_path + 'route_blockages_horm.csv'))"
   ]
  },
  {
   "cell_type": "code",
   "execution_count": 4,
   "metadata": {},
   "outputs": [],
   "source": [
    "distances = data[[\"prev_port\", \"next_port\", \"distance\"]]"
   ]
  },
  {
   "cell_type": "code",
   "execution_count": 5,
   "metadata": {},
   "outputs": [
    {
     "output_type": "execute_result",
     "data": {
      "text/plain": [
       "prev_port      int64\n",
       "next_port      int64\n",
       "distance     float64\n",
       "dtype: object"
      ]
     },
     "metadata": {},
     "execution_count": 5
    }
   ],
   "source": [
    "distances.astype({'prev_port':'int64', 'next_port':'int64'}).dtypes"
   ]
  },
  {
   "cell_type": "code",
   "execution_count": 6,
   "metadata": {},
   "outputs": [
    {
     "output_type": "execute_result",
     "data": {
      "text/plain": [
       "2842"
      ]
     },
     "metadata": {},
     "execution_count": 6
    }
   ],
   "source": [
    "N = data[\"next_port\"].tolist()\n",
    "N = list(set(N))\n",
    "len(N)"
   ]
  },
  {
   "source": [
    "## Playground "
   ],
   "cell_type": "markdown",
   "metadata": {}
  },
  {
   "cell_type": "code",
   "execution_count": null,
   "metadata": {},
   "outputs": [],
   "source": [
    "# G = nx.from_pandas_edgelist(distances, \"prev_port\", \"next_port\",edge_attr= \"distance\",create_using=nx.MultiGraph())\n",
    "# grid = NetworkGrid(G)"
   ]
  },
  {
   "cell_type": "code",
   "execution_count": 19,
   "metadata": {},
   "outputs": [],
   "source": [
    "G = nx.MultiGraph()\n",
    "G.add_nodes_from(N) #instatiate the ports as nodes of network\n",
    "for i in range(len(distances)): #create bi-directional edges with an attribute for length \n",
    "       G.add_edge(distances.iloc[i][0], distances.iloc[i][1], length=distances.iloc[i][2])\n",
    "grid = NetworkGrid(G) #Define Mesa Grid as the just created Network to allow for shipping only in routes"
   ]
  },
  {
   "cell_type": "code",
   "execution_count": 263,
   "metadata": {},
   "outputs": [
    {
     "output_type": "execute_result",
     "data": {
      "text/plain": [
       "49"
      ]
     },
     "metadata": {},
     "execution_count": 263
    }
   ],
   "source": [
    "e = 0\n",
    "for index, row in origin.iterrows():\n",
    "    if pd.isna(ports.iloc[index][\"INDEX_NO\"]):\n",
    "        e += 1\n",
    "\n",
    "e"
   ]
  },
  {
   "cell_type": "code",
   "execution_count": 88,
   "metadata": {},
   "outputs": [
    {
     "output_type": "execute_result",
     "data": {
      "text/plain": [
       "    Unnamed: 0    PORT_NAME  INDEX_NO  \\\n",
       "29         286  Hannan Port       NaN   \n",
       "\n",
       "                                         coords  \n",
       "29  ((135.31110022775667, 34.421924371272326),)  "
      ],
      "text/html": "<div>\n<style scoped>\n    .dataframe tbody tr th:only-of-type {\n        vertical-align: middle;\n    }\n\n    .dataframe tbody tr th {\n        vertical-align: top;\n    }\n\n    .dataframe thead th {\n        text-align: right;\n    }\n</style>\n<table border=\"1\" class=\"dataframe\">\n  <thead>\n    <tr style=\"text-align: right;\">\n      <th></th>\n      <th>Unnamed: 0</th>\n      <th>PORT_NAME</th>\n      <th>INDEX_NO</th>\n      <th>coords</th>\n    </tr>\n  </thead>\n  <tbody>\n    <tr>\n      <th>29</th>\n      <td>286</td>\n      <td>Hannan Port</td>\n      <td>NaN</td>\n      <td>((135.31110022775667, 34.421924371272326),)</td>\n    </tr>\n  </tbody>\n</table>\n</div>"
     },
     "metadata": {},
     "execution_count": 88
    }
   ],
   "source": [
    "ports[ports[\"Unnamed: 0\"]==286]\n",
    "# ports.head()"
   ]
  },
  {
   "cell_type": "code",
   "execution_count": null,
   "metadata": {},
   "outputs": [],
   "source": [
    "def next_dest(sample):\n",
    "    try:\n",
    "\n",
    "        overall_distance = list()\n",
    "        itinerary = list()\n",
    "        for i in range(len(sample)):\n",
    "            distance = dict()\n",
    "            for i in range(1,len(sample)):\n",
    "                distance[sample[i]] = nx.dijkstra_path_length(G, sample[0] ,sample[i], weight='distance')\n",
    "            next_stop = min(distance, key=distance.get)\n",
    "            itinerary.append(nx.dijkstra_path(G, origin, next_stop, weight = 'distance'))\n",
    "            overall_distance.append(next_stop)\n",
    "            sample.pop(0)\n",
    "            ind = sample.index(next_stop)\n",
    "            sample.pop(ind)\n",
    "            sample.insert(0, next_stop)\n",
    "    except:\n",
    "        pass\n",
    "    flat_route = []\n",
    "    for sublist in itinerary:\n",
    "        for port in sublist:\n",
    "            flat_route.append(port)\n",
    "        \n",
    "    return flat_route, sum(overall_distance)\n"
   ]
  },
  {
   "source": [
    "## Model"
   ],
   "cell_type": "markdown",
   "metadata": {}
  },
  {
   "cell_type": "code",
   "execution_count": 52,
   "metadata": {},
   "outputs": [],
   "source": [
    "class ShippingNetwork(Model):\n",
    "    def __init__(self, N, distances, major_ports, S=2):\n",
    "        N\n",
    "        self.major_ports = major_ports\n",
    "        self.num_ships = S\n",
    "        self.distances = distances\n",
    "        self.schedule = SimultaneousActivation(self)\n",
    "        self.running = True\n",
    "\n",
    "        self.G = nx.MultiGraph()\n",
    "        self.G.add_nodes_from(N) #instatiate the ports as nodes of network\n",
    "        \n",
    "       \n",
    "        for i in tqdm(range(len(distances)), desc=\"Building Network\" ): #create bi-directional edges with an attribute for length \n",
    "            self.G.add_edge(distances.iloc[i][0], distances.iloc[i][1], length=distances.iloc[i][2])\n",
    "            \n",
    "        \n",
    "        self.grid = NetworkGrid(self.G) #Define Mesa Grid as the just created Network to allow for shipping only in routes\n",
    "        #create agents \n",
    "        Ships = []\n",
    "       \n",
    "        for i in tqdm(range(self.num_ships), desc=\"Placing Ships\"):\n",
    "            start_port = np.random.choice(self.major_ports[\"Ref\"], size=None, replace=True,  p=self.major_ports[\"PROB\"])\n",
    "            destin_port = random.sample(self.G.nodes, k=1)[0]  # Sample the destination \n",
    "            #We sample the origin port from a list of the 50 biggest ports world, with the prob = TAU of the port / TAU of all origin ports for 2017\n",
    "            a = Ship(i+1, self, self.G, start_port, destin_port, major_ports)\n",
    "            self.schedule.add(a)\n",
    "            #append to list of ships\n",
    "            Ships.append(a)\n",
    "        \n",
    "            #place agent on origin node\n",
    "            self.grid.place_agent(a, start_port)\n",
    "\n",
    "\n",
    "\n",
    "        self.datacollector = DataCollector(\n",
    "            model_reporters={\"Graph\":\"G\"},\n",
    "            agent_reporters={\"Position\": \"position\", \"Destination\":\"destination\", \"Itinerary\":\"itinerary\", \"Distance_Traveled\":\"distance_traveled\", \"Route\":\"current_route\", \"Route Changes\":\"route_chng\" })\n",
    "    \n",
    "        #create ability to remove edges mid-model\n",
    "    def network_change(self, change_type, route_chng):\n",
    "        print(self.G.number_of_edges())\n",
    "        if change_type == \"add\":\n",
    "            self.G.add_edge(self.change_edge[0], self.change_edge[1], length=self.change_edge[2])\n",
    "        if change_type == \"remove\":\n",
    "            for index in range(len(route_chng)):\n",
    "                for i in range(route_chng.iloc[index]['Num of edges']):\n",
    "                    try:\n",
    "                        self.G.remove_edge(route_chng.iloc[index]['prev_port'],route_chng.iloc[index]['next_port'])\n",
    "                    except:\n",
    "                        pass\n",
    "            \n",
    "        #update model with new grid\n",
    "        self.grid = NetworkGrid(self.G)\n",
    "        print(self.G.number_of_edges())\n",
    "\n",
    "    def step(self, change_type='', change_edge=[]):\n",
    "        #check network for changes\n",
    "        if change_type != '' :\n",
    "            self.grid, self.G = network_change(change_type, change_edge)\n",
    "\n",
    "        self.schedule.step()     #Run each Agents\n",
    "        self.datacollector.collect(self)"
   ]
  },
  {
   "cell_type": "code",
   "execution_count": 19,
   "metadata": {},
   "outputs": [],
   "source": [
    "class Ship(Agent):\n",
    "    def __init__(self, unique_id, model, G, start_port, destin_port, major_ports, s=13.0):\n",
    "        super().__init__(unique_id, model)\n",
    "        self.destination = destin_port\n",
    "        self.state = 0 #0 for active, numbers > 0 for weeks that ships have to \"wait\" until arrival to port\n",
    "        self.speed = s*24*1.852 #speed is given in knots, with 1 knot being 1 nautical mile per hour. Since the model works with distances in km, we convert here (1 nm = 1.852m)\n",
    "        self.position = start_port\n",
    "        self.distance_traveled = 0\n",
    "        self.unique_id = unique_id\n",
    "        self.G = G\n",
    "        self.route_chng = 0\n",
    "        self.routes = 0\n",
    "        self.major_ports = major_ports\n",
    "\n",
    "    \n",
    "        #implement dijkstra to define shortest route\n",
    "        try:\n",
    "            self.init_route = nx.dijkstra_path(self.G, self.position, self.destination, weight='length')\n",
    "            self.init_dist = nx.dijkstra_path_length(self.G, self.position, self.destination, weight='length')\n",
    "        except:\n",
    "            self.destination = random.sample(self.G.nodes, k=1)[0]\n",
    "            self.init_route = nx.dijkstra_path(self.G, self.position, self.destination, weight='length')\n",
    "            self.init_dist = nx.dijkstra_path_length(self.G, self.position, self.destination, weight='length')\n",
    "            #include a way for capacity?\n",
    "        \n",
    "\n",
    "         #We keep a copy of the entire itinerary / distance traveled\n",
    "        self.current_route, self.current_dist = self.init_route, self.init_dist  #For comparison & navigational purposes, we use current route & distance\n",
    "        self.next_position = self.current_route[1]\n",
    "        self.itinerary = [self.position]\n",
    "        self.step_size = self.ident_distance()\n",
    "\n",
    "\n",
    "    def routing(self):\n",
    "        #implement dijkstra to define shortest route\n",
    "        try:\n",
    "            route = nx.dijkstra_path(self.G, self.position, self.destination, weight='length')\n",
    "            travel_distance = nx.dijkstra_path_length(self.G, self.position, self.destination, weight='length')\n",
    "        except:\n",
    "            self.destination = random.sample(self.G.nodes, k=1)[0]\n",
    "            route = nx.dijkstra_path(self.G, self.position, self.destination, weight='length')\n",
    "            travel_distance = nx.dijkstra_path_length(self.G, self.position, self.destination, weight='length')\n",
    "        #include a way for capacity?\n",
    "        return route, travel_distance\n",
    "\n",
    "\n",
    "    def move(self):\n",
    "        self.next_position = self.current_route[1]\n",
    "        self.step_size = self.ident_distance() #look up the distance between two cities \n",
    "        self.state = self.step_size / self.speed #change state to step amount\n",
    "        self.current_dist = self.current_dist - self.step_size #adjust current distance minus the distance traveled in the next step\n",
    "        self.model.grid.move_agent(self, self.next_position) #move the agent\n",
    "        self.current_route.remove(self.current_route[0]) #remove the next step from the itinerary\n",
    "        self.position = self.next_position\n",
    "        if len(self.current_route) == 1:\n",
    "            self.next_position = self.current_route[0] \n",
    "        else:\n",
    "            self.next_position = self.current_route[1] #update current route\n",
    "\n",
    "    def ident_distance(self): #look up the distance of the current step\n",
    "        return self.G.get_edge_data(self.position, self.next_position)[0]['length']\n",
    "    \n",
    "    def reroute(self):\n",
    "        self.routes += 1\n",
    "        if self.position in self.major_ports[\"Ref\"].values: # We re-route in such a way that ships that have either an origin port or a destination port that is a major port\n",
    "            self.destination = random.sample(self.G.nodes, k=1)[0]\n",
    "        else:\n",
    "            self.destination = np.random.choice(self.major_ports[\"Ref\"], size=None, replace=True,  p=self.major_ports[\"PROB\"])\n",
    "        \n",
    "        self.current_route, self.current_dist = self.routing()\n",
    "        self.state = 3\n",
    "\n",
    "    \n",
    "\n",
    "    def step(self):\n",
    "        self.state = self.state - 1 #'move' ships by one weeks progress\n",
    "        if self.state <= 0.000: #ships that are en-route to the node they are going to next do not move / perform other activities\n",
    "            self.distance_traveled += self.step_size #ship has arrived at port, let's add the distance traveled to their \n",
    "           \n",
    "            #add the current position to itinerary\n",
    "            if self.position != self.destination: #if current stop is not the final stop\n",
    "                new_route, new_distance = self.routing() #perform a new routing to compare against current routing\n",
    "                \n",
    "                if new_route == self.current_route: #if current routing is the same as new, just move (default case)\n",
    "                    # print(\"default case\")\n",
    "                    self.move()\n",
    "                    self.itinerary.append(self.position)\n",
    "        \n",
    "            # THIS CURRENTLY ONLY CHANGES THE ROUTE IF THE NEXT STEP IS BLOCKED\n",
    "                elif new_distance > self.current_dist: #if current route is shorter than newly calculated route, check for obstructions\n",
    "                    # print('reroute: current route shorter than new route')\n",
    "                    if not has_path(self.G, self.position, self.next_position): \n",
    "                        self.current_route = new_route\n",
    "                        self.current_dist = new_distance\n",
    "                        self.route_chng += 1\n",
    "                    self.move()\n",
    "                    self.itinerary.append(self.position)\n",
    "                \n",
    "                \n",
    "                else: # final option is that current route is longer than new route (think Suez reopening after a while), here, we just take the new option\n",
    "                    # print('reroute: current route longer than new route')\n",
    "                    self.current_route = new_route\n",
    "                    self.current_dist = new_distance\n",
    "                    self.route_chng += 1\n",
    "                    self.move()\n",
    "                    self.itinerary.append(self.position)\n",
    "            \n",
    "            else: #if ship is arrived at final position, get a new route, and start back\n",
    "                # print('arrival')\n",
    "                self.reroute()\n",
    "                self.itinerary.append(self.position)\n",
    "        # print(\"Ship: {}, Source: {}, Destination: {}, Position: {},  Next Stop {}, Time until next Stop {}\".format(self.unique_id, self.itinerary[0], self.destination, self.position, self.next_position, self.state ))\n",
    "\n",
    "    \n",
    "    # def collect_time\n",
    "\n",
    "    # def collect_costs"
   ]
  },
  {
   "cell_type": "code",
   "execution_count": null,
   "metadata": {},
   "outputs": [],
   "source": []
  },
  {
   "source": [
    "## Model Instances"
   ],
   "cell_type": "markdown",
   "metadata": {}
  },
  {
   "cell_type": "code",
   "execution_count": 73,
   "metadata": {},
   "outputs": [
    {
     "output_type": "stream",
     "name": "stderr",
     "text": [
      "Building Network: 100%|██████████| 56154/56154 [00:19<00:00, 2889.36it/s]\n",
      "Placing Ships: 100%|██████████| 1/1 [00:00<00:00,  5.24it/s]\n",
      "Stepping Model: 100%|██████████| 6/6 [00:01<00:00,  5.32it/s]\n",
      "56154\n",
      "54481\n"
     ]
    },
    {
     "output_type": "error",
     "ename": "ValueError",
     "evalue": "list.remove(x): x not in list",
     "traceback": [
      "\u001b[0;31m---------------------------------------------------------------------------\u001b[0m",
      "\u001b[0;31mValueError\u001b[0m                                Traceback (most recent call last)",
      "\u001b[0;32m<ipython-input-73-6756bcf13ff3>\u001b[0m in \u001b[0;36m<module>\u001b[0;34m\u001b[0m\n\u001b[1;32m      8\u001b[0m \u001b[0;34m\u001b[0m\u001b[0m\n\u001b[1;32m      9\u001b[0m \u001b[0;32mfor\u001b[0m \u001b[0mi\u001b[0m \u001b[0;32min\u001b[0m \u001b[0mtrange\u001b[0m\u001b[0;34m(\u001b[0m\u001b[0;36m6\u001b[0m\u001b[0;34m,\u001b[0m \u001b[0mdesc\u001b[0m\u001b[0;34m=\u001b[0m\u001b[0;34m\"Stepping after change\"\u001b[0m\u001b[0;34m,\u001b[0m \u001b[0mdelay\u001b[0m\u001b[0;34m=\u001b[0m\u001b[0;36m0.5\u001b[0m\u001b[0;34m)\u001b[0m\u001b[0;34m:\u001b[0m\u001b[0;34m\u001b[0m\u001b[0;34m\u001b[0m\u001b[0m\n\u001b[0;32m---> 10\u001b[0;31m     \u001b[0mmodel\u001b[0m\u001b[0;34m.\u001b[0m\u001b[0mstep\u001b[0m\u001b[0;34m(\u001b[0m\u001b[0;34m)\u001b[0m\u001b[0;34m\u001b[0m\u001b[0;34m\u001b[0m\u001b[0m\n\u001b[0m\u001b[1;32m     11\u001b[0m \u001b[0;34m\u001b[0m\u001b[0m\n\u001b[1;32m     12\u001b[0m \u001b[0;31m# route_blockages_horm\u001b[0m\u001b[0;34m\u001b[0m\u001b[0;34m\u001b[0m\u001b[0;34m\u001b[0m\u001b[0m\n",
      "\u001b[0;32m<ipython-input-52-40d90fb5acfe>\u001b[0m in \u001b[0;36mstep\u001b[0;34m(self, change_type, change_edge)\u001b[0m\n\u001b[1;32m     60\u001b[0m             \u001b[0mself\u001b[0m\u001b[0;34m.\u001b[0m\u001b[0mgrid\u001b[0m\u001b[0;34m,\u001b[0m \u001b[0mself\u001b[0m\u001b[0;34m.\u001b[0m\u001b[0mG\u001b[0m \u001b[0;34m=\u001b[0m \u001b[0mnetwork_change\u001b[0m\u001b[0;34m(\u001b[0m\u001b[0mchange_type\u001b[0m\u001b[0;34m,\u001b[0m \u001b[0mchange_edge\u001b[0m\u001b[0;34m)\u001b[0m\u001b[0;34m\u001b[0m\u001b[0;34m\u001b[0m\u001b[0m\n\u001b[1;32m     61\u001b[0m \u001b[0;34m\u001b[0m\u001b[0m\n\u001b[0;32m---> 62\u001b[0;31m         \u001b[0mself\u001b[0m\u001b[0;34m.\u001b[0m\u001b[0mschedule\u001b[0m\u001b[0;34m.\u001b[0m\u001b[0mstep\u001b[0m\u001b[0;34m(\u001b[0m\u001b[0;34m)\u001b[0m     \u001b[0;31m#Run each Agents\u001b[0m\u001b[0;34m\u001b[0m\u001b[0;34m\u001b[0m\u001b[0m\n\u001b[0m\u001b[1;32m     63\u001b[0m         \u001b[0mself\u001b[0m\u001b[0;34m.\u001b[0m\u001b[0mdatacollector\u001b[0m\u001b[0;34m.\u001b[0m\u001b[0mcollect\u001b[0m\u001b[0;34m(\u001b[0m\u001b[0mself\u001b[0m\u001b[0;34m)\u001b[0m\u001b[0;34m\u001b[0m\u001b[0;34m\u001b[0m\u001b[0m\n",
      "\u001b[0;32m~/opt/anaconda3/envs/Sim_mod/lib/python3.7/site-packages/mesa/time.py\u001b[0m in \u001b[0;36mstep\u001b[0;34m(self)\u001b[0m\n\u001b[1;32m    143\u001b[0m         \u001b[0magent_keys\u001b[0m \u001b[0;34m=\u001b[0m \u001b[0mlist\u001b[0m\u001b[0;34m(\u001b[0m\u001b[0mself\u001b[0m\u001b[0;34m.\u001b[0m\u001b[0m_agents\u001b[0m\u001b[0;34m.\u001b[0m\u001b[0mkeys\u001b[0m\u001b[0;34m(\u001b[0m\u001b[0;34m)\u001b[0m\u001b[0;34m)\u001b[0m\u001b[0;34m\u001b[0m\u001b[0;34m\u001b[0m\u001b[0m\n\u001b[1;32m    144\u001b[0m         \u001b[0;32mfor\u001b[0m \u001b[0magent_key\u001b[0m \u001b[0;32min\u001b[0m \u001b[0magent_keys\u001b[0m\u001b[0;34m:\u001b[0m\u001b[0;34m\u001b[0m\u001b[0;34m\u001b[0m\u001b[0m\n\u001b[0;32m--> 145\u001b[0;31m             \u001b[0mself\u001b[0m\u001b[0;34m.\u001b[0m\u001b[0m_agents\u001b[0m\u001b[0;34m[\u001b[0m\u001b[0magent_key\u001b[0m\u001b[0;34m]\u001b[0m\u001b[0;34m.\u001b[0m\u001b[0mstep\u001b[0m\u001b[0;34m(\u001b[0m\u001b[0;34m)\u001b[0m\u001b[0;34m\u001b[0m\u001b[0;34m\u001b[0m\u001b[0m\n\u001b[0m\u001b[1;32m    146\u001b[0m         \u001b[0;32mfor\u001b[0m \u001b[0magent_key\u001b[0m \u001b[0;32min\u001b[0m \u001b[0magent_keys\u001b[0m\u001b[0;34m:\u001b[0m\u001b[0;34m\u001b[0m\u001b[0;34m\u001b[0m\u001b[0m\n\u001b[1;32m    147\u001b[0m             \u001b[0mself\u001b[0m\u001b[0;34m.\u001b[0m\u001b[0m_agents\u001b[0m\u001b[0;34m[\u001b[0m\u001b[0magent_key\u001b[0m\u001b[0;34m]\u001b[0m\u001b[0;34m.\u001b[0m\u001b[0madvance\u001b[0m\u001b[0;34m(\u001b[0m\u001b[0;34m)\u001b[0m\u001b[0;34m\u001b[0m\u001b[0;34m\u001b[0m\u001b[0m\n",
      "\u001b[0;32m<ipython-input-19-0ff417eb2af2>\u001b[0m in \u001b[0;36mstep\u001b[0;34m(self)\u001b[0m\n\u001b[1;32m     86\u001b[0m                 \u001b[0;32mif\u001b[0m \u001b[0mnew_route\u001b[0m \u001b[0;34m==\u001b[0m \u001b[0mself\u001b[0m\u001b[0;34m.\u001b[0m\u001b[0mcurrent_route\u001b[0m\u001b[0;34m:\u001b[0m \u001b[0;31m#if current routing is the same as new, just move (default case)\u001b[0m\u001b[0;34m\u001b[0m\u001b[0;34m\u001b[0m\u001b[0m\n\u001b[1;32m     87\u001b[0m                     \u001b[0;31m# print(\"default case\")\u001b[0m\u001b[0;34m\u001b[0m\u001b[0;34m\u001b[0m\u001b[0;34m\u001b[0m\u001b[0m\n\u001b[0;32m---> 88\u001b[0;31m                     \u001b[0mself\u001b[0m\u001b[0;34m.\u001b[0m\u001b[0mmove\u001b[0m\u001b[0;34m(\u001b[0m\u001b[0;34m)\u001b[0m\u001b[0;34m\u001b[0m\u001b[0;34m\u001b[0m\u001b[0m\n\u001b[0m\u001b[1;32m     89\u001b[0m                     \u001b[0mself\u001b[0m\u001b[0;34m.\u001b[0m\u001b[0mitinerary\u001b[0m\u001b[0;34m.\u001b[0m\u001b[0mappend\u001b[0m\u001b[0;34m(\u001b[0m\u001b[0mself\u001b[0m\u001b[0;34m.\u001b[0m\u001b[0mposition\u001b[0m\u001b[0;34m)\u001b[0m\u001b[0;34m\u001b[0m\u001b[0;34m\u001b[0m\u001b[0m\n\u001b[1;32m     90\u001b[0m \u001b[0;34m\u001b[0m\u001b[0m\n",
      "\u001b[0;32m<ipython-input-19-0ff417eb2af2>\u001b[0m in \u001b[0;36mmove\u001b[0;34m(self)\u001b[0m\n\u001b[1;32m     52\u001b[0m         \u001b[0mself\u001b[0m\u001b[0;34m.\u001b[0m\u001b[0mstate\u001b[0m \u001b[0;34m=\u001b[0m \u001b[0mself\u001b[0m\u001b[0;34m.\u001b[0m\u001b[0mstep_size\u001b[0m \u001b[0;34m/\u001b[0m \u001b[0mself\u001b[0m\u001b[0;34m.\u001b[0m\u001b[0mspeed\u001b[0m \u001b[0;31m#change state to step amount\u001b[0m\u001b[0;34m\u001b[0m\u001b[0;34m\u001b[0m\u001b[0m\n\u001b[1;32m     53\u001b[0m         \u001b[0mself\u001b[0m\u001b[0;34m.\u001b[0m\u001b[0mcurrent_dist\u001b[0m \u001b[0;34m=\u001b[0m \u001b[0mself\u001b[0m\u001b[0;34m.\u001b[0m\u001b[0mcurrent_dist\u001b[0m \u001b[0;34m-\u001b[0m \u001b[0mself\u001b[0m\u001b[0;34m.\u001b[0m\u001b[0mstep_size\u001b[0m \u001b[0;31m#adjust current distance minus the distance traveled in the next step\u001b[0m\u001b[0;34m\u001b[0m\u001b[0;34m\u001b[0m\u001b[0m\n\u001b[0;32m---> 54\u001b[0;31m         \u001b[0mself\u001b[0m\u001b[0;34m.\u001b[0m\u001b[0mmodel\u001b[0m\u001b[0;34m.\u001b[0m\u001b[0mgrid\u001b[0m\u001b[0;34m.\u001b[0m\u001b[0mmove_agent\u001b[0m\u001b[0;34m(\u001b[0m\u001b[0mself\u001b[0m\u001b[0;34m,\u001b[0m \u001b[0mself\u001b[0m\u001b[0;34m.\u001b[0m\u001b[0mnext_position\u001b[0m\u001b[0;34m)\u001b[0m \u001b[0;31m#move the agent\u001b[0m\u001b[0;34m\u001b[0m\u001b[0;34m\u001b[0m\u001b[0m\n\u001b[0m\u001b[1;32m     55\u001b[0m         \u001b[0mself\u001b[0m\u001b[0;34m.\u001b[0m\u001b[0mcurrent_route\u001b[0m\u001b[0;34m.\u001b[0m\u001b[0mremove\u001b[0m\u001b[0;34m(\u001b[0m\u001b[0mself\u001b[0m\u001b[0;34m.\u001b[0m\u001b[0mcurrent_route\u001b[0m\u001b[0;34m[\u001b[0m\u001b[0;36m0\u001b[0m\u001b[0;34m]\u001b[0m\u001b[0;34m)\u001b[0m \u001b[0;31m#remove the next step from the itinerary\u001b[0m\u001b[0;34m\u001b[0m\u001b[0;34m\u001b[0m\u001b[0m\n\u001b[1;32m     56\u001b[0m         \u001b[0mself\u001b[0m\u001b[0;34m.\u001b[0m\u001b[0mposition\u001b[0m \u001b[0;34m=\u001b[0m \u001b[0mself\u001b[0m\u001b[0;34m.\u001b[0m\u001b[0mnext_position\u001b[0m\u001b[0;34m\u001b[0m\u001b[0;34m\u001b[0m\u001b[0m\n",
      "\u001b[0;32m~/opt/anaconda3/envs/Sim_mod/lib/python3.7/site-packages/mesa/space.py\u001b[0m in \u001b[0;36mmove_agent\u001b[0;34m(self, agent, node_id)\u001b[0m\n\u001b[1;32m    939\u001b[0m         \u001b[0;34m\"\"\"Move an agent from its current node to a new node.\"\"\"\u001b[0m\u001b[0;34m\u001b[0m\u001b[0;34m\u001b[0m\u001b[0m\n\u001b[1;32m    940\u001b[0m \u001b[0;34m\u001b[0m\u001b[0m\n\u001b[0;32m--> 941\u001b[0;31m         \u001b[0mself\u001b[0m\u001b[0;34m.\u001b[0m\u001b[0m_remove_agent\u001b[0m\u001b[0;34m(\u001b[0m\u001b[0magent\u001b[0m\u001b[0;34m,\u001b[0m \u001b[0magent\u001b[0m\u001b[0;34m.\u001b[0m\u001b[0mpos\u001b[0m\u001b[0;34m)\u001b[0m\u001b[0;34m\u001b[0m\u001b[0;34m\u001b[0m\u001b[0m\n\u001b[0m\u001b[1;32m    942\u001b[0m         \u001b[0mself\u001b[0m\u001b[0;34m.\u001b[0m\u001b[0m_place_agent\u001b[0m\u001b[0;34m(\u001b[0m\u001b[0magent\u001b[0m\u001b[0;34m,\u001b[0m \u001b[0mnode_id\u001b[0m\u001b[0;34m)\u001b[0m\u001b[0;34m\u001b[0m\u001b[0;34m\u001b[0m\u001b[0m\n\u001b[1;32m    943\u001b[0m         \u001b[0magent\u001b[0m\u001b[0;34m.\u001b[0m\u001b[0mpos\u001b[0m \u001b[0;34m=\u001b[0m \u001b[0mnode_id\u001b[0m\u001b[0;34m\u001b[0m\u001b[0;34m\u001b[0m\u001b[0m\n",
      "\u001b[0;32m~/opt/anaconda3/envs/Sim_mod/lib/python3.7/site-packages/mesa/space.py\u001b[0m in \u001b[0;36m_remove_agent\u001b[0;34m(self, agent, node_id)\u001b[0m\n\u001b[1;32m    951\u001b[0m         \u001b[0;34m\"\"\"Remove an agent from a node.\"\"\"\u001b[0m\u001b[0;34m\u001b[0m\u001b[0;34m\u001b[0m\u001b[0m\n\u001b[1;32m    952\u001b[0m \u001b[0;34m\u001b[0m\u001b[0m\n\u001b[0;32m--> 953\u001b[0;31m         \u001b[0mself\u001b[0m\u001b[0;34m.\u001b[0m\u001b[0mG\u001b[0m\u001b[0;34m.\u001b[0m\u001b[0mnodes\u001b[0m\u001b[0;34m[\u001b[0m\u001b[0mnode_id\u001b[0m\u001b[0;34m]\u001b[0m\u001b[0;34m[\u001b[0m\u001b[0;34m\"agent\"\u001b[0m\u001b[0;34m]\u001b[0m\u001b[0;34m.\u001b[0m\u001b[0mremove\u001b[0m\u001b[0;34m(\u001b[0m\u001b[0magent\u001b[0m\u001b[0;34m)\u001b[0m\u001b[0;34m\u001b[0m\u001b[0;34m\u001b[0m\u001b[0m\n\u001b[0m\u001b[1;32m    954\u001b[0m \u001b[0;34m\u001b[0m\u001b[0m\n\u001b[1;32m    955\u001b[0m     \u001b[0;32mdef\u001b[0m \u001b[0mremove_agent\u001b[0m\u001b[0;34m(\u001b[0m\u001b[0mself\u001b[0m\u001b[0;34m,\u001b[0m \u001b[0magent\u001b[0m\u001b[0;34m:\u001b[0m \u001b[0mAgent\u001b[0m\u001b[0;34m)\u001b[0m \u001b[0;34m->\u001b[0m \u001b[0;32mNone\u001b[0m\u001b[0;34m:\u001b[0m\u001b[0;34m\u001b[0m\u001b[0;34m\u001b[0m\u001b[0m\n",
      "\u001b[0;31mValueError\u001b[0m: list.remove(x): x not in list"
     ]
    }
   ],
   "source": [
    "test = route_blockages_horm.iloc[0:20]\n",
    "model = ShippingNetwork(N, distances, origin, 1)\n",
    "\n",
    "steps = 6\n",
    "for i in trange(steps, desc=\"Stepping Model\"):\n",
    "    model.step()\n",
    "model.network_change(\"remove\", route_blockages_horm)\n",
    "\n",
    "for i in trange(6, desc=\"Stepping after change\", delay=0.5):\n",
    "    model.step()\n",
    "\n",
    "# route_blockages_horm\n",
    "\n",
    "agent_state = model.datacollector.get_agent_vars_dataframe()\n"
   ]
  },
  {
   "cell_type": "code",
   "execution_count": 70,
   "metadata": {},
   "outputs": [
    {
     "output_type": "execute_result",
     "data": {
      "text/plain": [
       "              Position  Destination                          Itinerary  \\\n",
       "Step AgentID                                                             \n",
       "1    1         22735.0         3812  [3728.0, 22735.0, 2667.0, 6869.0]   \n",
       "2    1          2667.0         3812  [3728.0, 22735.0, 2667.0, 6869.0]   \n",
       "3    1          2667.0         3812  [3728.0, 22735.0, 2667.0, 6869.0]   \n",
       "4    1          6869.0         3812  [3728.0, 22735.0, 2667.0, 6869.0]   \n",
       "5    1          6869.0         3812  [3728.0, 22735.0, 2667.0, 6869.0]   \n",
       "6    1          6869.0         3812  [3728.0, 22735.0, 2667.0, 6869.0]   \n",
       "7    1          6869.0         3812  [3728.0, 22735.0, 2667.0, 6869.0]   \n",
       "8    1          6869.0         3812  [3728.0, 22735.0, 2667.0, 6869.0]   \n",
       "9    1          6869.0         3812  [3728.0, 22735.0, 2667.0, 6869.0]   \n",
       "10   1          6869.0         3812  [3728.0, 22735.0, 2667.0, 6869.0]   \n",
       "11   1          6869.0         3812  [3728.0, 22735.0, 2667.0, 6869.0]   \n",
       "12   1          6869.0         3812  [3728.0, 22735.0, 2667.0, 6869.0]   \n",
       "\n",
       "              Distance_Traveled  \\\n",
       "Step AgentID                      \n",
       "1    1                 9.722991   \n",
       "2    1                19.445982   \n",
       "3    1                19.445982   \n",
       "4    1               796.007266   \n",
       "5    1               796.007266   \n",
       "6    1               796.007266   \n",
       "7    1               796.007266   \n",
       "8    1               796.007266   \n",
       "9    1               796.007266   \n",
       "10   1               796.007266   \n",
       "11   1               796.007266   \n",
       "12   1               796.007266   \n",
       "\n",
       "                                                          Route  Route Changes  \n",
       "Step AgentID                                                                    \n",
       "1    1        [6869.0, 2052.0, 2111.0, 1592.0, 1761.0, 3026....              0  \n",
       "2    1        [6869.0, 2052.0, 2111.0, 1592.0, 1761.0, 3026....              0  \n",
       "3    1        [6869.0, 2052.0, 2111.0, 1592.0, 1761.0, 3026....              0  \n",
       "4    1        [6869.0, 2052.0, 2111.0, 1592.0, 1761.0, 3026....              0  \n",
       "5    1        [6869.0, 2052.0, 2111.0, 1592.0, 1761.0, 3026....              0  \n",
       "6    1        [6869.0, 2052.0, 2111.0, 1592.0, 1761.0, 3026....              0  \n",
       "7    1        [6869.0, 2052.0, 2111.0, 1592.0, 1761.0, 3026....              0  \n",
       "8    1        [6869.0, 2052.0, 2111.0, 1592.0, 1761.0, 3026....              0  \n",
       "9    1        [6869.0, 2052.0, 2111.0, 1592.0, 1761.0, 3026....              0  \n",
       "10   1        [6869.0, 2052.0, 2111.0, 1592.0, 1761.0, 3026....              0  \n",
       "11   1        [6869.0, 2052.0, 2111.0, 1592.0, 1761.0, 3026....              0  \n",
       "12   1        [6869.0, 2052.0, 2111.0, 1592.0, 1761.0, 3026....              0  "
      ],
      "text/html": "<div>\n<style scoped>\n    .dataframe tbody tr th:only-of-type {\n        vertical-align: middle;\n    }\n\n    .dataframe tbody tr th {\n        vertical-align: top;\n    }\n\n    .dataframe thead th {\n        text-align: right;\n    }\n</style>\n<table border=\"1\" class=\"dataframe\">\n  <thead>\n    <tr style=\"text-align: right;\">\n      <th></th>\n      <th></th>\n      <th>Position</th>\n      <th>Destination</th>\n      <th>Itinerary</th>\n      <th>Distance_Traveled</th>\n      <th>Route</th>\n      <th>Route Changes</th>\n    </tr>\n    <tr>\n      <th>Step</th>\n      <th>AgentID</th>\n      <th></th>\n      <th></th>\n      <th></th>\n      <th></th>\n      <th></th>\n      <th></th>\n    </tr>\n  </thead>\n  <tbody>\n    <tr>\n      <th>1</th>\n      <th>1</th>\n      <td>22735.0</td>\n      <td>3812</td>\n      <td>[3728.0, 22735.0, 2667.0, 6869.0]</td>\n      <td>9.722991</td>\n      <td>[6869.0, 2052.0, 2111.0, 1592.0, 1761.0, 3026....</td>\n      <td>0</td>\n    </tr>\n    <tr>\n      <th>2</th>\n      <th>1</th>\n      <td>2667.0</td>\n      <td>3812</td>\n      <td>[3728.0, 22735.0, 2667.0, 6869.0]</td>\n      <td>19.445982</td>\n      <td>[6869.0, 2052.0, 2111.0, 1592.0, 1761.0, 3026....</td>\n      <td>0</td>\n    </tr>\n    <tr>\n      <th>3</th>\n      <th>1</th>\n      <td>2667.0</td>\n      <td>3812</td>\n      <td>[3728.0, 22735.0, 2667.0, 6869.0]</td>\n      <td>19.445982</td>\n      <td>[6869.0, 2052.0, 2111.0, 1592.0, 1761.0, 3026....</td>\n      <td>0</td>\n    </tr>\n    <tr>\n      <th>4</th>\n      <th>1</th>\n      <td>6869.0</td>\n      <td>3812</td>\n      <td>[3728.0, 22735.0, 2667.0, 6869.0]</td>\n      <td>796.007266</td>\n      <td>[6869.0, 2052.0, 2111.0, 1592.0, 1761.0, 3026....</td>\n      <td>0</td>\n    </tr>\n    <tr>\n      <th>5</th>\n      <th>1</th>\n      <td>6869.0</td>\n      <td>3812</td>\n      <td>[3728.0, 22735.0, 2667.0, 6869.0]</td>\n      <td>796.007266</td>\n      <td>[6869.0, 2052.0, 2111.0, 1592.0, 1761.0, 3026....</td>\n      <td>0</td>\n    </tr>\n    <tr>\n      <th>6</th>\n      <th>1</th>\n      <td>6869.0</td>\n      <td>3812</td>\n      <td>[3728.0, 22735.0, 2667.0, 6869.0]</td>\n      <td>796.007266</td>\n      <td>[6869.0, 2052.0, 2111.0, 1592.0, 1761.0, 3026....</td>\n      <td>0</td>\n    </tr>\n    <tr>\n      <th>7</th>\n      <th>1</th>\n      <td>6869.0</td>\n      <td>3812</td>\n      <td>[3728.0, 22735.0, 2667.0, 6869.0]</td>\n      <td>796.007266</td>\n      <td>[6869.0, 2052.0, 2111.0, 1592.0, 1761.0, 3026....</td>\n      <td>0</td>\n    </tr>\n    <tr>\n      <th>8</th>\n      <th>1</th>\n      <td>6869.0</td>\n      <td>3812</td>\n      <td>[3728.0, 22735.0, 2667.0, 6869.0]</td>\n      <td>796.007266</td>\n      <td>[6869.0, 2052.0, 2111.0, 1592.0, 1761.0, 3026....</td>\n      <td>0</td>\n    </tr>\n    <tr>\n      <th>9</th>\n      <th>1</th>\n      <td>6869.0</td>\n      <td>3812</td>\n      <td>[3728.0, 22735.0, 2667.0, 6869.0]</td>\n      <td>796.007266</td>\n      <td>[6869.0, 2052.0, 2111.0, 1592.0, 1761.0, 3026....</td>\n      <td>0</td>\n    </tr>\n    <tr>\n      <th>10</th>\n      <th>1</th>\n      <td>6869.0</td>\n      <td>3812</td>\n      <td>[3728.0, 22735.0, 2667.0, 6869.0]</td>\n      <td>796.007266</td>\n      <td>[6869.0, 2052.0, 2111.0, 1592.0, 1761.0, 3026....</td>\n      <td>0</td>\n    </tr>\n    <tr>\n      <th>11</th>\n      <th>1</th>\n      <td>6869.0</td>\n      <td>3812</td>\n      <td>[3728.0, 22735.0, 2667.0, 6869.0]</td>\n      <td>796.007266</td>\n      <td>[6869.0, 2052.0, 2111.0, 1592.0, 1761.0, 3026....</td>\n      <td>0</td>\n    </tr>\n    <tr>\n      <th>12</th>\n      <th>1</th>\n      <td>6869.0</td>\n      <td>3812</td>\n      <td>[3728.0, 22735.0, 2667.0, 6869.0]</td>\n      <td>796.007266</td>\n      <td>[6869.0, 2052.0, 2111.0, 1592.0, 1761.0, 3026....</td>\n      <td>0</td>\n    </tr>\n  </tbody>\n</table>\n</div>"
     },
     "metadata": {},
     "execution_count": 70
    }
   ],
   "source": [
    "agent_state = model.datacollector.get_agent_vars_dataframe()\n",
    "a"
   ]
  },
  {
   "cell_type": "code",
   "execution_count": 68,
   "metadata": {},
   "outputs": [],
   "source": [
    "agent_state.to_csv('../test_out.csv')"
   ]
  },
  {
   "cell_type": "code",
   "execution_count": 43,
   "metadata": {},
   "outputs": [
    {
     "output_type": "execute_result",
     "data": {
      "text/plain": [
       "138038.67166337415"
      ]
     },
     "metadata": {},
     "execution_count": 43
    }
   ],
   "source": []
  }
 ]
}