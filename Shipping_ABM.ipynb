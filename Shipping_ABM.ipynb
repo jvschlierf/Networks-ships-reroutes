{
 "metadata": {
  "language_info": {
   "codemirror_mode": {
    "name": "ipython",
    "version": 3
   },
   "file_extension": ".py",
   "mimetype": "text/x-python",
   "name": "python",
   "nbconvert_exporter": "python",
   "pygments_lexer": "ipython3",
   "version": "3.8.10"
  },
  "orig_nbformat": 2,
  "kernelspec": {
   "name": "python3810jvsc74a57bd0aee8b7b246df8f9039afb4144a1f6fd8d2ca17a180786b69acc140d282b71a49",
   "display_name": "Python 3.8.10 64-bit"
  }
 },
 "nbformat": 4,
 "nbformat_minor": 2,
 "cells": [
  {
   "source": [
    "# ABM"
   ],
   "cell_type": "markdown",
   "metadata": {}
  },
  {
   "cell_type": "code",
   "execution_count": 128,
   "metadata": {},
   "outputs": [],
   "source": [
    "import time, enum, math\n",
    "import numpy as np\n",
    "import pandas as pd\n",
    "import pylab as plt\n",
    "from mesa import Agent, Model\n",
    "from mesa.time import SimultaneousActivation, RandomActivation\n",
    "from mesa.space import NetworkGrid\n",
    "from mesa.datacollection import DataCollector\n",
    "from networkx.algorithms.shortest_paths.generic import has_path\n",
    "import networkx as nx\n",
    "import panel as pn\n",
    "import panel.widgets as pnw\n",
    "import random\n",
    "data_path = '../' #set to wherever the data files are, will be used on every input"
   ]
  },
  {
   "cell_type": "code",
   "execution_count": 130,
   "metadata": {},
   "outputs": [
    {
     "output_type": "stream",
     "name": "stdout",
     "text": [
      "../ports.csv\n"
     ]
    }
   ],
   "source": [
    "print(data_path + \"ports.csv\")"
   ]
  },
  {
   "cell_type": "code",
   "execution_count": 3,
   "metadata": {},
   "outputs": [],
   "source": [
    "def kmtoNaut(km):\n",
    "    return km / 1.852"
   ]
  },
  {
   "cell_type": "code",
   "execution_count": 222,
   "metadata": {},
   "outputs": [],
   "source": [
    "ports = pd.read_csv((data_path +'ports.csv'))\n",
    "data = pd.read_csv((data_path + 'distances.csv'))\n",
    "origin = pd.read_csv((data_path + 'origin_ports.csv'))"
   ]
  },
  {
   "cell_type": "code",
   "execution_count": 243,
   "metadata": {},
   "outputs": [
    {
     "output_type": "execute_result",
     "data": {
      "text/plain": [
       "   Unnamed: 0                      PORT_NAME  INDEX_NO  \\\n",
       "0       49159  Terminal Pesquero Cta. Quiane       NaN   \n",
       "1       49164                      Oil Berth       NaN   \n",
       "2          16                Port of Basamuk       NaN   \n",
       "3          26                       Victoria       NaN   \n",
       "4          34                            NaN       NaN   \n",
       "\n",
       "                                         coords  \n",
       "0  ((-70.31722387298942, -18.513597026467323),)  \n",
       "1   ((-61.86886473007713, 17.150384410999997),)  \n",
       "2    ((146.14295817405977, -5.53913255687803),)  \n",
       "3  ((-123.32715191091728, 48.402783083729446),)  \n",
       "4   ((126.50786074843957, 36.333661512471735),)  "
      ],
      "text/html": "<div>\n<style scoped>\n    .dataframe tbody tr th:only-of-type {\n        vertical-align: middle;\n    }\n\n    .dataframe tbody tr th {\n        vertical-align: top;\n    }\n\n    .dataframe thead th {\n        text-align: right;\n    }\n</style>\n<table border=\"1\" class=\"dataframe\">\n  <thead>\n    <tr style=\"text-align: right;\">\n      <th></th>\n      <th>Unnamed: 0</th>\n      <th>PORT_NAME</th>\n      <th>INDEX_NO</th>\n      <th>coords</th>\n    </tr>\n  </thead>\n  <tbody>\n    <tr>\n      <th>0</th>\n      <td>49159</td>\n      <td>Terminal Pesquero Cta. Quiane</td>\n      <td>NaN</td>\n      <td>((-70.31722387298942, -18.513597026467323),)</td>\n    </tr>\n    <tr>\n      <th>1</th>\n      <td>49164</td>\n      <td>Oil Berth</td>\n      <td>NaN</td>\n      <td>((-61.86886473007713, 17.150384410999997),)</td>\n    </tr>\n    <tr>\n      <th>2</th>\n      <td>16</td>\n      <td>Port of Basamuk</td>\n      <td>NaN</td>\n      <td>((146.14295817405977, -5.53913255687803),)</td>\n    </tr>\n    <tr>\n      <th>3</th>\n      <td>26</td>\n      <td>Victoria</td>\n      <td>NaN</td>\n      <td>((-123.32715191091728, 48.402783083729446),)</td>\n    </tr>\n    <tr>\n      <th>4</th>\n      <td>34</td>\n      <td>NaN</td>\n      <td>NaN</td>\n      <td>((126.50786074843957, 36.333661512471735),)</td>\n    </tr>\n  </tbody>\n</table>\n</div>"
     },
     "metadata": {},
     "execution_count": 243
    }
   ],
   "source": [
    "ports.head()"
   ]
  },
  {
   "cell_type": "code",
   "execution_count": 263,
   "metadata": {},
   "outputs": [
    {
     "output_type": "execute_result",
     "data": {
      "text/plain": [
       "49"
      ]
     },
     "metadata": {},
     "execution_count": 263
    }
   ],
   "source": [
    "e = 0\n",
    "for index, row in origin.iterrows():\n",
    "    if pd.isna(ports.iloc[index][\"INDEX_NO\"]):\n",
    "        e += 1\n",
    "\n",
    "e"
   ]
  },
  {
   "cell_type": "code",
   "execution_count": 225,
   "metadata": {},
   "outputs": [
    {
     "output_type": "execute_result",
     "data": {
      "text/plain": [
       "2742.0"
      ]
     },
     "metadata": {},
     "execution_count": 225
    }
   ],
   "source": [
    "start_port = np.random.choice(origin[\"Ref\"], size=None, replace=True,  p=origin[\"PROB\"])\n",
    "start_port"
   ]
  },
  {
   "cell_type": "code",
   "execution_count": 232,
   "metadata": {},
   "outputs": [
    {
     "output_type": "execute_result",
     "data": {
      "text/plain": [
       "True"
      ]
     },
     "metadata": {},
     "execution_count": 232
    }
   ],
   "source": [
    "2742 in origin[\"Ref\"].values"
   ]
  },
  {
   "cell_type": "code",
   "execution_count": 9,
   "metadata": {},
   "outputs": [
    {
     "output_type": "stream",
     "name": "stdout",
     "text": [
      "56154\n2842\n"
     ]
    }
   ],
   "source": [
    "N = data[\"next_port\"].tolist()\n",
    "N = list(set(N))\n",
    "print(len(N))"
   ]
  },
  {
   "cell_type": "code",
   "execution_count": 43,
   "metadata": {},
   "outputs": [],
   "source": [
    "G = nx.MultiGraph()\n",
    "G.add_nodes_from(N) #instatiate the ports as nodes of network\n",
    "for i in range(len(distances)): #create bi-directional edges with an attribute for length \n",
    "       G.add_edge(distances.iloc[i][0], distances.iloc[i][1], length=distances.iloc[i][2])\n",
    "grid = NetworkGrid(G) #Define Mesa Grid as the just created Network to allow for shipping only in routes"
   ]
  },
  {
   "cell_type": "code",
   "execution_count": 236,
   "metadata": {},
   "outputs": [
    {
     "output_type": "execute_result",
     "data": {
      "text/plain": [
       "3579"
      ]
     },
     "metadata": {},
     "execution_count": 236
    }
   ],
   "source": [
    "random.sample(G.nodes, k=1)[0]"
   ]
  },
  {
   "cell_type": "code",
   "execution_count": 6,
   "metadata": {},
   "outputs": [],
   "source": [
    "# for i in range(len(distances)):\n",
    "#     distances[i][2] = kmtoNaut(distances[i][2])"
   ]
  },
  {
   "cell_type": "code",
   "execution_count": 269,
   "metadata": {},
   "outputs": [],
   "source": [
    "class ShippingNetwork(Model):\n",
    "    def __init__(self, N, distances, major_ports, S=2):\n",
    "        N\n",
    "        self.major_ports = major_ports\n",
    "        self.num_ships = S\n",
    "        self.distances = distances\n",
    "        self.schedule = SimultaneousActivation(self)\n",
    "        self.running = True\n",
    "\n",
    "        self.G = nx.MultiGraph()\n",
    "        self.G.add_nodes_from(N) #instatiate the ports as nodes of network\n",
    "        for i in range(len(distances)): #create bi-directional edges with an attribute for length \n",
    "            self.G.add_edge(distances.iloc[i][0], distances.iloc[i][1], length=distances.iloc[i][2])\n",
    "        self.grid = NetworkGrid(self.G) #Define Mesa Grid as the just created Network to allow for shipping only in routes\n",
    "\n",
    "        #create ability to remove edges mid-model\n",
    "        def network_change(self, change_type, change_edge):\n",
    "            if change_type == \"add\":\n",
    "                self.G.add_edge(self.change_edge[0], self.change_edge[1], length=self.change_edge[2])\n",
    "            if change_type == \"remove\":\n",
    "                self.G.remove_edge(self.change_edge[0],self.change_edge[1]) #can we identify an edge by node 1, node 2 & distance?\n",
    "            #update model with new grid    \n",
    "            return NetworkGrid(self.G), G\n",
    "\n",
    "\n",
    "        #create agents \n",
    "        Ships = []\n",
    "        for i in range(self.num_ships):\n",
    "            dest_port = random.sample(self.G.nodes, k=1)[0] # Sample the destination \n",
    "            start_port = np.random.choice(self.major_ports[\"Ref\"], size=None, replace=True,  p=self.major_ports[\"PROB\"])\n",
    "            destin_port = random.sample(self.G.nodes, k=1)[0]\n",
    "            #We sample the origin port from a list of the 50 biggest ports world, with the prob = TAU of the port / TAU of all origin ports for 2017\n",
    "            a = Ship(i+1, self, self.G, start_port, destin_port, major_ports)\n",
    "            self.schedule.add(a)\n",
    "            #append to list of ships\n",
    "            Ships.append(a)\n",
    "            #place agent on origin node\n",
    "            self.grid.place_agent(a, start_port)\n",
    "\n",
    "\n",
    "        self.datacollector = DataCollector(\n",
    "            model_reporters={\"Graph\":\"G\"},\n",
    "            agent_reporters={\"Position\": \"position\", \"Destination\":\"destination\", \"Itinerary\":\"itinerary\", \"Distance_Traveled\":\"distance_traveled\", \"Route\":\"current_route\", \"Route Changes\":\"route_chng\" })\n",
    "\n",
    "\n",
    "    def step(self, change_type='', change_edge=[]):\n",
    "        #check network for changes\n",
    "        if change_type != '' :\n",
    "            self.grid, self.G = network_change(change_type, change_edge)\n",
    "\n",
    "        self.schedule.step()     #Run each Agents\n",
    "        self.datacollector.collect(self)"
   ]
  },
  {
   "cell_type": "code",
   "execution_count": 274,
   "metadata": {},
   "outputs": [],
   "source": [
    "class Ship(Agent):\n",
    "    def __init__(self, unique_id, model, G, start_port, destin_port, major_ports, s=13.0):\n",
    "        super().__init__(unique_id, model)\n",
    "        self.destination = destin_port\n",
    "        self.state = 0 #0 for active, numbers > 0 for weeks that ships have to \"wait\" until arrival to port\n",
    "        self.speed = s*24*1.852 #speed is given in knots, with 1 knot being 1 nautical mile per hour. Since the model works with distances in km, we convert here (1 nm = 1.852m)\n",
    "        self.position = start_port\n",
    "        self.init_route = nx.dijkstra_path(G, self.position, self.destination, weight='length') #We keep a copy of the entire itinerary / distance traveled\n",
    "        self.init_dist = nx.dijkstra_path_length(G,self.position, self.destination, weight='length') \n",
    "        self.current_route, self.current_dist = self.init_route, self.init_dist  #For comparison & navigational purposes, we use current route & distance\n",
    "        self.next_position = self.current_route[1]\n",
    "        self.itinerary = [self.position]\n",
    "        self.distance_traveled = 0\n",
    "        self.unique_id = unique_id\n",
    "        self.G = G\n",
    "        self.step_size = self.ident_distance()\n",
    "        self.route_chng = 0\n",
    "        self.routes = 0\n",
    "        self.major_ports = major_ports\n",
    "    \n",
    "\n",
    "    def routing(self):\n",
    "        #implement dijkstra to define shortest route\n",
    "        route = nx.dijkstra_path(self.G, self.position, self.destination, weight='length')\n",
    "        travel_distance = nx.dijkstra_path_length(self.G,self.position, self.destination, weight='length')\n",
    "        #include a way for capacity?\n",
    "        return route, travel_distance\n",
    "\n",
    "    def move(self):\n",
    "        self.next_position = self.current_route[1]\n",
    "        self.step_size = self.ident_distance() #look up the distance between two cities \n",
    "        self.state = self.step_size / self.speed #change state to step amount\n",
    "        self.current_dist = self.current_dist - self.step_size #adjust current distance minus the distance traveled in the next step\n",
    "        self.model.grid.move_agent(self, self.next_position) #move the agent\n",
    "        self.current_route.remove(self.current_route[0]) #remove the next step from the itinerary\n",
    "        self.position = self.next_position\n",
    "        if len(self.current_route) == 1:\n",
    "            self.next_position = self.current_route[0] \n",
    "        else:\n",
    "            self.next_position = self.current_route[1] #update current route\n",
    "\n",
    "    def ident_distance(self): #look up the distance of the current step\n",
    "        return self.G.get_edge_data(self.position, self.next_position)[0]['length']\n",
    "    \n",
    "    def reroute(self):\n",
    "        self.routes += 1\n",
    "        if self.position in self.major_ports[\"Ref\"].values: # We re-route in such a way that ships that have either an origin port or a destination port that is a major port\n",
    "            self.destination = random.sample(self.G.nodes, k=1)[0]\n",
    "        else:\n",
    "            self.destination = np.random.choice(self.major_ports[\"Ref\"], size=None, replace=True,  p=self.major_ports[\"PROB\"])\n",
    "        \n",
    "        self.current_route, self.current_dist = self.routing()\n",
    "        self.state = 3\n",
    "\n",
    "    \n",
    "\n",
    "    def step(self):\n",
    "        self.state = self.state - 1 #'move' ships by one weeks progress\n",
    "        if self.state <= 0.000: #ships that are en-route to the node they are going to next do not move / perform other activities\n",
    "            self.distance_traveled += self.step_size #ship has arrived at port, let's add the distance traveled to their \n",
    "           \n",
    "            #add the current position to itinerary\n",
    "            if self.position != self.destination: #if current stop is not the final stop\n",
    "                new_route, new_distance = self.routing() #perform a new routing to compare against current routing\n",
    "                \n",
    "                if new_route == self.current_route: #if current routing is the same as new, just move (default case)\n",
    "                    print(\"default case\")\n",
    "                    self.move()\n",
    "                    self.itinerary.append(self.position)\n",
    "        \n",
    "            # THIS CURRENTLY ONLY CHANGES THE ROUTE IF THE NEXT STEP IS BLOCKED\n",
    "                elif new_distance > self.current_dist: #if current route is shorter than newly calculated route, check for obstructions\n",
    "                    print('reroute: current route shorter than new route')\n",
    "                    if not has_path(self.G, self.position, self.next_position): \n",
    "                        self.current_route = new_route\n",
    "                        self.current_dist = new_distance\n",
    "                        self.route_chng += 1\n",
    "                    self.move()\n",
    "                    self.itinerary.append(self.position)\n",
    "                \n",
    "                \n",
    "                else: # final option is that current route is longer than new route (think Suez reopening after a while), here, we just take the new option\n",
    "                    print('reroute: current route longer than new route')\n",
    "                    self.current_route = new_route\n",
    "                    self.current_dist = new_distance\n",
    "                    self.route_chng += 1\n",
    "                    self.move()\n",
    "                    self.itinerary.append(self.position)\n",
    "            \n",
    "            else: #if ship is arrived at final position, get a new route, and start back\n",
    "                print('arrival')\n",
    "                self.reroute()\n",
    "                self.itinerary.append(self.position)\n",
    "        print(\"Ship: {}, Source: {}, Destination: {}, Position: {},  Next Stop {}, Time until next Stop {}\".format(self.unique_id, self.itinerary[0], self.destination, self.position, self.next_position, self.state ))\n",
    "\n",
    "    \n",
    "    # def collect_time\n",
    "\n",
    "    # def collect_costs"
   ]
  },
  {
   "cell_type": "code",
   "execution_count": 275,
   "metadata": {},
   "outputs": [
    {
     "output_type": "stream",
     "name": "stdout",
     "text": [
      "\n",
      " Step:  0\n",
      "default case\n",
      "Ship: 1, Source: 2088.0, Destination: 1920.0, Position: 3365.0,  Next Stop 6869.0, Time until next Stop 0.007820877193882544\n",
      "\n",
      " Step:  1\n",
      "default case\n",
      "Ship: 1, Source: 2088.0, Destination: 1920.0, Position: 6869.0,  Next Stop 6859.0, Time until next Stop 0.0005679470155272658\n",
      "\n",
      " Step:  2\n",
      "default case\n",
      "Ship: 1, Source: 2088.0, Destination: 1920.0, Position: 6859.0,  Next Stop 1975.0, Time until next Stop 0.0002596711053396633\n",
      "\n",
      " Step:  3\n",
      "default case\n",
      "Ship: 1, Source: 2088.0, Destination: 1920.0, Position: 1975.0,  Next Stop 6864.0, Time until next Stop 0.015434379373696863\n",
      "\n",
      " Step:  4\n",
      "default case\n",
      "Ship: 1, Source: 2088.0, Destination: 1920.0, Position: 6864.0,  Next Stop 6861.0, Time until next Stop 0.01123480976467415\n",
      "\n",
      " Step:  5\n",
      "default case\n",
      "Ship: 1, Source: 2088.0, Destination: 1920.0, Position: 6861.0,  Next Stop 1973.0, Time until next Stop 0.001979412432742288\n",
      "\n",
      " Step:  6\n",
      "default case\n",
      "Ship: 1, Source: 2088.0, Destination: 1920.0, Position: 1973.0,  Next Stop 2211.0, Time until next Stop 0.009546737807104706\n",
      "\n",
      " Step:  7\n",
      "default case\n",
      "Ship: 1, Source: 2088.0, Destination: 1920.0, Position: 2211.0,  Next Stop 2171.0, Time until next Stop 0.0053776751088511245\n",
      "\n",
      " Step:  8\n",
      "default case\n",
      "Ship: 1, Source: 2088.0, Destination: 1920.0, Position: 2171.0,  Next Stop 2161.0, Time until next Stop 0.1350872449586179\n",
      "\n",
      " Step:  9\n",
      "default case\n",
      "Ship: 1, Source: 2088.0, Destination: 1920.0, Position: 2161.0,  Next Stop 2162.0, Time until next Stop 0.020985614004162365\n",
      "\n",
      " Step:  10\n",
      "default case\n",
      "Ship: 1, Source: 2088.0, Destination: 1920.0, Position: 2162.0,  Next Stop 1921.0, Time until next Stop 0.007389988814724734\n",
      "\n",
      " Step:  11\n",
      "default case\n",
      "Ship: 1, Source: 2088.0, Destination: 1920.0, Position: 1921.0,  Next Stop 1920.0, Time until next Stop 0.13487420038206743\n",
      "\n",
      " Step:  12\n",
      "default case\n",
      "Ship: 1, Source: 2088.0, Destination: 1920.0, Position: 1920.0,  Next Stop 1920.0, Time until next Stop 0.005306512603509671\n",
      "\n",
      " Step:  13\n",
      "arrival\n",
      "Ship: 1, Source: 2088.0, Destination: 2034.0, Position: 1921.0,  Next Stop 2162.0, Time until next Stop 0.005306512603509671\n",
      "\n",
      " Step:  14\n",
      "default case\n",
      "Ship: 1, Source: 2088.0, Destination: 2034.0, Position: 2162.0,  Next Stop 2161.0, Time until next Stop 0.13487420038206743\n",
      "\n",
      " Step:  15\n",
      "default case\n",
      "Ship: 1, Source: 2088.0, Destination: 2034.0, Position: 2161.0,  Next Stop 2171.0, Time until next Stop 0.007389988814724734\n",
      "\n",
      " Step:  16\n",
      "default case\n",
      "Ship: 1, Source: 2088.0, Destination: 2034.0, Position: 2171.0,  Next Stop 2211.0, Time until next Stop 0.020985614004162365\n",
      "\n",
      " Step:  17\n",
      "default case\n",
      "Ship: 1, Source: 2088.0, Destination: 2034.0, Position: 2211.0,  Next Stop 1973.0, Time until next Stop 0.1350872449586179\n",
      "\n",
      " Step:  18\n",
      "default case\n",
      "Ship: 1, Source: 2088.0, Destination: 2034.0, Position: 1973.0,  Next Stop 6861.0, Time until next Stop 0.0053776751088511245\n",
      "\n",
      " Step:  19\n",
      "default case\n",
      "Ship: 1, Source: 2088.0, Destination: 2034.0, Position: 6861.0,  Next Stop 6864.0, Time until next Stop 0.009546737807104706\n",
      "\n",
      " Step:  20\n",
      "default case\n",
      "Ship: 1, Source: 2088.0, Destination: 2034.0, Position: 6864.0,  Next Stop 1975.0, Time until next Stop 0.001979412432742288\n",
      "\n",
      " Step:  21\n",
      "default case\n",
      "Ship: 1, Source: 2088.0, Destination: 2034.0, Position: 1975.0,  Next Stop 6868.0, Time until next Stop 0.01123480976467415\n",
      "\n",
      " Step:  22\n",
      "default case\n",
      "Ship: 1, Source: 2088.0, Destination: 2034.0, Position: 6868.0,  Next Stop 2040.0, Time until next Stop 0.028211857773540672\n",
      "\n",
      " Step:  23\n",
      "default case\n",
      "Ship: 1, Source: 2088.0, Destination: 2034.0, Position: 2040.0,  Next Stop 2034.0, Time until next Stop 1.113265025340028\n",
      "\n",
      " Step:  24\n",
      "Ship: 1, Source: 2088.0, Destination: 2034.0, Position: 2040.0,  Next Stop 2034.0, Time until next Stop 0.11326502534002802\n",
      "\n",
      " Step:  25\n",
      "default case\n",
      "Ship: 1, Source: 2088.0, Destination: 2034.0, Position: 2034.0,  Next Stop 2034.0, Time until next Stop 0.008209725209803698\n",
      "\n",
      " Step:  26\n",
      "arrival\n",
      "Ship: 1, Source: 2088.0, Destination: 6415, Position: 2040.0,  Next Stop 6868.0, Time until next Stop 0.008209725209803698\n",
      "\n",
      " Step:  27\n",
      "default case\n",
      "Ship: 1, Source: 2088.0, Destination: 6415, Position: 6868.0,  Next Stop 6869.0, Time until next Stop 1.113265025340028\n",
      "\n",
      " Step:  28\n",
      "Ship: 1, Source: 2088.0, Destination: 6415, Position: 6868.0,  Next Stop 6869.0, Time until next Stop 0.11326502534002802\n",
      "\n",
      " Step:  29\n",
      "default case\n",
      "Ship: 1, Source: 2088.0, Destination: 6415, Position: 6869.0,  Next Stop 6827.0, Time until next Stop 0.0003231351410791495\n",
      "\n",
      " Step:  30\n",
      "default case\n",
      "Ship: 1, Source: 2088.0, Destination: 6415, Position: 6827.0,  Next Stop 5354.0, Time until next Stop 0.0005539340153627518\n",
      "\n",
      " Step:  31\n",
      "default case\n",
      "Ship: 1, Source: 2088.0, Destination: 6415, Position: 5354.0,  Next Stop 2930.0, Time until next Stop 0.13048631276038938\n",
      "\n",
      " Step:  32\n",
      "default case\n",
      "Ship: 1, Source: 2088.0, Destination: 6415, Position: 2930.0,  Next Stop 6415.0, Time until next Stop 0.006564638853216689\n",
      "\n",
      " Step:  33\n",
      "default case\n",
      "Ship: 1, Source: 2088.0, Destination: 6415, Position: 6415.0,  Next Stop 6415.0, Time until next Stop 0.02549164168179882\n",
      "\n",
      " Step:  34\n",
      "arrival\n",
      "Ship: 1, Source: 2088.0, Destination: 2246.0, Position: 2930.0,  Next Stop 5354.0, Time until next Stop 0.02549164168179882\n",
      "\n",
      " Step:  35\n",
      "default case\n",
      "Ship: 1, Source: 2088.0, Destination: 2246.0, Position: 5354.0,  Next Stop 6827.0, Time until next Stop 0.006564638853216689\n",
      "\n",
      " Step:  36\n",
      "default case\n",
      "Ship: 1, Source: 2088.0, Destination: 2246.0, Position: 6827.0,  Next Stop 6869.0, Time until next Stop 0.13048631276038938\n",
      "\n",
      " Step:  37\n",
      "default case\n",
      "Ship: 1, Source: 2088.0, Destination: 2246.0, Position: 6869.0,  Next Stop 7100.0, Time until next Stop 0.0005539340153627518\n",
      "\n",
      " Step:  38\n",
      "default case\n",
      "Ship: 1, Source: 2088.0, Destination: 2246.0, Position: 7100.0,  Next Stop 27973.0, Time until next Stop 0.8519733703830172\n",
      "\n",
      " Step:  39\n",
      "default case\n",
      "Ship: 1, Source: 2088.0, Destination: 2246.0, Position: 27973.0,  Next Stop 2246.0, Time until next Stop 0.00036751711989740964\n"
     ]
    },
    {
     "output_type": "execute_result",
     "data": {
      "text/plain": [
       "              Position  Destination  \\\n",
       "Step AgentID                          \n",
       "1    1          3365.0       1920.0   \n",
       "2    1          6869.0       1920.0   \n",
       "3    1          6859.0       1920.0   \n",
       "4    1          1975.0       1920.0   \n",
       "5    1          6864.0       1920.0   \n",
       "6    1          6861.0       1920.0   \n",
       "7    1          1973.0       1920.0   \n",
       "8    1          2211.0       1920.0   \n",
       "9    1          2171.0       1920.0   \n",
       "10   1          2161.0       1920.0   \n",
       "11   1          2162.0       1920.0   \n",
       "12   1          1921.0       1920.0   \n",
       "13   1          1920.0       1920.0   \n",
       "14   1          1921.0       2034.0   \n",
       "15   1          2162.0       2034.0   \n",
       "16   1          2161.0       2034.0   \n",
       "17   1          2171.0       2034.0   \n",
       "18   1          2211.0       2034.0   \n",
       "19   1          1973.0       2034.0   \n",
       "20   1          6861.0       2034.0   \n",
       "21   1          6864.0       2034.0   \n",
       "22   1          1975.0       2034.0   \n",
       "23   1          6868.0       2034.0   \n",
       "24   1          2040.0       2034.0   \n",
       "25   1          2040.0       2034.0   \n",
       "26   1          2034.0       2034.0   \n",
       "27   1          2040.0       6415.0   \n",
       "28   1          6868.0       6415.0   \n",
       "29   1          6868.0       6415.0   \n",
       "30   1          6869.0       6415.0   \n",
       "31   1          6827.0       6415.0   \n",
       "32   1          5354.0       6415.0   \n",
       "33   1          2930.0       6415.0   \n",
       "34   1          6415.0       6415.0   \n",
       "35   1          2930.0       2246.0   \n",
       "36   1          5354.0       2246.0   \n",
       "37   1          6827.0       2246.0   \n",
       "38   1          6869.0       2246.0   \n",
       "39   1          7100.0       2246.0   \n",
       "40   1         27973.0       2246.0   \n",
       "\n",
       "                                                      Itinerary  \\\n",
       "Step AgentID                                                      \n",
       "1    1        [2088.0, 3365.0, 6869.0, 6859.0, 1975.0, 6864....   \n",
       "2    1        [2088.0, 3365.0, 6869.0, 6859.0, 1975.0, 6864....   \n",
       "3    1        [2088.0, 3365.0, 6869.0, 6859.0, 1975.0, 6864....   \n",
       "4    1        [2088.0, 3365.0, 6869.0, 6859.0, 1975.0, 6864....   \n",
       "5    1        [2088.0, 3365.0, 6869.0, 6859.0, 1975.0, 6864....   \n",
       "6    1        [2088.0, 3365.0, 6869.0, 6859.0, 1975.0, 6864....   \n",
       "7    1        [2088.0, 3365.0, 6869.0, 6859.0, 1975.0, 6864....   \n",
       "8    1        [2088.0, 3365.0, 6869.0, 6859.0, 1975.0, 6864....   \n",
       "9    1        [2088.0, 3365.0, 6869.0, 6859.0, 1975.0, 6864....   \n",
       "10   1        [2088.0, 3365.0, 6869.0, 6859.0, 1975.0, 6864....   \n",
       "11   1        [2088.0, 3365.0, 6869.0, 6859.0, 1975.0, 6864....   \n",
       "12   1        [2088.0, 3365.0, 6869.0, 6859.0, 1975.0, 6864....   \n",
       "13   1        [2088.0, 3365.0, 6869.0, 6859.0, 1975.0, 6864....   \n",
       "14   1        [2088.0, 3365.0, 6869.0, 6859.0, 1975.0, 6864....   \n",
       "15   1        [2088.0, 3365.0, 6869.0, 6859.0, 1975.0, 6864....   \n",
       "16   1        [2088.0, 3365.0, 6869.0, 6859.0, 1975.0, 6864....   \n",
       "17   1        [2088.0, 3365.0, 6869.0, 6859.0, 1975.0, 6864....   \n",
       "18   1        [2088.0, 3365.0, 6869.0, 6859.0, 1975.0, 6864....   \n",
       "19   1        [2088.0, 3365.0, 6869.0, 6859.0, 1975.0, 6864....   \n",
       "20   1        [2088.0, 3365.0, 6869.0, 6859.0, 1975.0, 6864....   \n",
       "21   1        [2088.0, 3365.0, 6869.0, 6859.0, 1975.0, 6864....   \n",
       "22   1        [2088.0, 3365.0, 6869.0, 6859.0, 1975.0, 6864....   \n",
       "23   1        [2088.0, 3365.0, 6869.0, 6859.0, 1975.0, 6864....   \n",
       "24   1        [2088.0, 3365.0, 6869.0, 6859.0, 1975.0, 6864....   \n",
       "25   1        [2088.0, 3365.0, 6869.0, 6859.0, 1975.0, 6864....   \n",
       "26   1        [2088.0, 3365.0, 6869.0, 6859.0, 1975.0, 6864....   \n",
       "27   1        [2088.0, 3365.0, 6869.0, 6859.0, 1975.0, 6864....   \n",
       "28   1        [2088.0, 3365.0, 6869.0, 6859.0, 1975.0, 6864....   \n",
       "29   1        [2088.0, 3365.0, 6869.0, 6859.0, 1975.0, 6864....   \n",
       "30   1        [2088.0, 3365.0, 6869.0, 6859.0, 1975.0, 6864....   \n",
       "31   1        [2088.0, 3365.0, 6869.0, 6859.0, 1975.0, 6864....   \n",
       "32   1        [2088.0, 3365.0, 6869.0, 6859.0, 1975.0, 6864....   \n",
       "33   1        [2088.0, 3365.0, 6869.0, 6859.0, 1975.0, 6864....   \n",
       "34   1        [2088.0, 3365.0, 6869.0, 6859.0, 1975.0, 6864....   \n",
       "35   1        [2088.0, 3365.0, 6869.0, 6859.0, 1975.0, 6864....   \n",
       "36   1        [2088.0, 3365.0, 6869.0, 6859.0, 1975.0, 6864....   \n",
       "37   1        [2088.0, 3365.0, 6869.0, 6859.0, 1975.0, 6864....   \n",
       "38   1        [2088.0, 3365.0, 6869.0, 6859.0, 1975.0, 6864....   \n",
       "39   1        [2088.0, 3365.0, 6869.0, 6859.0, 1975.0, 6864....   \n",
       "40   1        [2088.0, 3365.0, 6869.0, 6859.0, 1975.0, 6864....   \n",
       "\n",
       "              Distance_Traveled              Route  Route Changes  \n",
       "Step AgentID                                                       \n",
       "1    1                31.633634           [1920.0]              0  \n",
       "2    1                63.267268           [1920.0]              0  \n",
       "3    1                65.564482           [1920.0]              0  \n",
       "4    1                66.614791           [1920.0]              0  \n",
       "5    1               129.043275           [1920.0]              0  \n",
       "6    1               174.485474           [1920.0]              0  \n",
       "7    1               182.491738           [1920.0]              0  \n",
       "8    1               221.106077           [1920.0]              0  \n",
       "9    1               242.857526           [1920.0]              0  \n",
       "10   1               789.254091           [1920.0]              0  \n",
       "11   1               874.136031           [1920.0]              0  \n",
       "12   1               904.026821           [1920.0]              0  \n",
       "13   1              1449.561671           [1920.0]              0  \n",
       "14   1              1471.025284           [2034.0]              0  \n",
       "15   1              1492.488896           [2034.0]              0  \n",
       "16   1              2038.023746           [2034.0]              0  \n",
       "17   1              2067.914536           [2034.0]              0  \n",
       "18   1              2152.796476           [2034.0]              0  \n",
       "19   1              2699.193042           [2034.0]              0  \n",
       "20   1              2720.944490           [2034.0]              0  \n",
       "21   1              2759.558829           [2034.0]              0  \n",
       "22   1              2767.565093           [2034.0]              0  \n",
       "23   1              2813.007292           [2034.0]              0  \n",
       "24   1              2927.117712           [2034.0]              0  \n",
       "25   1              2927.117712           [2034.0]              0  \n",
       "26   1              7430.016462           [2034.0]              0  \n",
       "27   1              7463.222896           [6415.0]              0  \n",
       "28   1              7496.429330           [6415.0]              0  \n",
       "29   1              7496.429330           [6415.0]              0  \n",
       "30   1             11999.328080           [6415.0]              0  \n",
       "31   1             12000.635086           [6415.0]              0  \n",
       "32   1             12002.875621           [6415.0]              0  \n",
       "33   1             12530.662483           [6415.0]              0  \n",
       "34   1             12557.214924           [6415.0]              0  \n",
       "35   1             12660.322701  [27973.0, 2246.0]              0  \n",
       "36   1             12763.430477  [27973.0, 2246.0]              0  \n",
       "37   1             12789.982919  [27973.0, 2246.0]              0  \n",
       "38   1             13317.769781  [27973.0, 2246.0]              0  \n",
       "39   1             13320.010315  [27973.0, 2246.0]              0  \n",
       "40   1             16766.044941  [27973.0, 2246.0]              0  "
      ],
      "text/html": "<div>\n<style scoped>\n    .dataframe tbody tr th:only-of-type {\n        vertical-align: middle;\n    }\n\n    .dataframe tbody tr th {\n        vertical-align: top;\n    }\n\n    .dataframe thead th {\n        text-align: right;\n    }\n</style>\n<table border=\"1\" class=\"dataframe\">\n  <thead>\n    <tr style=\"text-align: right;\">\n      <th></th>\n      <th></th>\n      <th>Position</th>\n      <th>Destination</th>\n      <th>Itinerary</th>\n      <th>Distance_Traveled</th>\n      <th>Route</th>\n      <th>Route Changes</th>\n    </tr>\n    <tr>\n      <th>Step</th>\n      <th>AgentID</th>\n      <th></th>\n      <th></th>\n      <th></th>\n      <th></th>\n      <th></th>\n      <th></th>\n    </tr>\n  </thead>\n  <tbody>\n    <tr>\n      <th>1</th>\n      <th>1</th>\n      <td>3365.0</td>\n      <td>1920.0</td>\n      <td>[2088.0, 3365.0, 6869.0, 6859.0, 1975.0, 6864....</td>\n      <td>31.633634</td>\n      <td>[1920.0]</td>\n      <td>0</td>\n    </tr>\n    <tr>\n      <th>2</th>\n      <th>1</th>\n      <td>6869.0</td>\n      <td>1920.0</td>\n      <td>[2088.0, 3365.0, 6869.0, 6859.0, 1975.0, 6864....</td>\n      <td>63.267268</td>\n      <td>[1920.0]</td>\n      <td>0</td>\n    </tr>\n    <tr>\n      <th>3</th>\n      <th>1</th>\n      <td>6859.0</td>\n      <td>1920.0</td>\n      <td>[2088.0, 3365.0, 6869.0, 6859.0, 1975.0, 6864....</td>\n      <td>65.564482</td>\n      <td>[1920.0]</td>\n      <td>0</td>\n    </tr>\n    <tr>\n      <th>4</th>\n      <th>1</th>\n      <td>1975.0</td>\n      <td>1920.0</td>\n      <td>[2088.0, 3365.0, 6869.0, 6859.0, 1975.0, 6864....</td>\n      <td>66.614791</td>\n      <td>[1920.0]</td>\n      <td>0</td>\n    </tr>\n    <tr>\n      <th>5</th>\n      <th>1</th>\n      <td>6864.0</td>\n      <td>1920.0</td>\n      <td>[2088.0, 3365.0, 6869.0, 6859.0, 1975.0, 6864....</td>\n      <td>129.043275</td>\n      <td>[1920.0]</td>\n      <td>0</td>\n    </tr>\n    <tr>\n      <th>6</th>\n      <th>1</th>\n      <td>6861.0</td>\n      <td>1920.0</td>\n      <td>[2088.0, 3365.0, 6869.0, 6859.0, 1975.0, 6864....</td>\n      <td>174.485474</td>\n      <td>[1920.0]</td>\n      <td>0</td>\n    </tr>\n    <tr>\n      <th>7</th>\n      <th>1</th>\n      <td>1973.0</td>\n      <td>1920.0</td>\n      <td>[2088.0, 3365.0, 6869.0, 6859.0, 1975.0, 6864....</td>\n      <td>182.491738</td>\n      <td>[1920.0]</td>\n      <td>0</td>\n    </tr>\n    <tr>\n      <th>8</th>\n      <th>1</th>\n      <td>2211.0</td>\n      <td>1920.0</td>\n      <td>[2088.0, 3365.0, 6869.0, 6859.0, 1975.0, 6864....</td>\n      <td>221.106077</td>\n      <td>[1920.0]</td>\n      <td>0</td>\n    </tr>\n    <tr>\n      <th>9</th>\n      <th>1</th>\n      <td>2171.0</td>\n      <td>1920.0</td>\n      <td>[2088.0, 3365.0, 6869.0, 6859.0, 1975.0, 6864....</td>\n      <td>242.857526</td>\n      <td>[1920.0]</td>\n      <td>0</td>\n    </tr>\n    <tr>\n      <th>10</th>\n      <th>1</th>\n      <td>2161.0</td>\n      <td>1920.0</td>\n      <td>[2088.0, 3365.0, 6869.0, 6859.0, 1975.0, 6864....</td>\n      <td>789.254091</td>\n      <td>[1920.0]</td>\n      <td>0</td>\n    </tr>\n    <tr>\n      <th>11</th>\n      <th>1</th>\n      <td>2162.0</td>\n      <td>1920.0</td>\n      <td>[2088.0, 3365.0, 6869.0, 6859.0, 1975.0, 6864....</td>\n      <td>874.136031</td>\n      <td>[1920.0]</td>\n      <td>0</td>\n    </tr>\n    <tr>\n      <th>12</th>\n      <th>1</th>\n      <td>1921.0</td>\n      <td>1920.0</td>\n      <td>[2088.0, 3365.0, 6869.0, 6859.0, 1975.0, 6864....</td>\n      <td>904.026821</td>\n      <td>[1920.0]</td>\n      <td>0</td>\n    </tr>\n    <tr>\n      <th>13</th>\n      <th>1</th>\n      <td>1920.0</td>\n      <td>1920.0</td>\n      <td>[2088.0, 3365.0, 6869.0, 6859.0, 1975.0, 6864....</td>\n      <td>1449.561671</td>\n      <td>[1920.0]</td>\n      <td>0</td>\n    </tr>\n    <tr>\n      <th>14</th>\n      <th>1</th>\n      <td>1921.0</td>\n      <td>2034.0</td>\n      <td>[2088.0, 3365.0, 6869.0, 6859.0, 1975.0, 6864....</td>\n      <td>1471.025284</td>\n      <td>[2034.0]</td>\n      <td>0</td>\n    </tr>\n    <tr>\n      <th>15</th>\n      <th>1</th>\n      <td>2162.0</td>\n      <td>2034.0</td>\n      <td>[2088.0, 3365.0, 6869.0, 6859.0, 1975.0, 6864....</td>\n      <td>1492.488896</td>\n      <td>[2034.0]</td>\n      <td>0</td>\n    </tr>\n    <tr>\n      <th>16</th>\n      <th>1</th>\n      <td>2161.0</td>\n      <td>2034.0</td>\n      <td>[2088.0, 3365.0, 6869.0, 6859.0, 1975.0, 6864....</td>\n      <td>2038.023746</td>\n      <td>[2034.0]</td>\n      <td>0</td>\n    </tr>\n    <tr>\n      <th>17</th>\n      <th>1</th>\n      <td>2171.0</td>\n      <td>2034.0</td>\n      <td>[2088.0, 3365.0, 6869.0, 6859.0, 1975.0, 6864....</td>\n      <td>2067.914536</td>\n      <td>[2034.0]</td>\n      <td>0</td>\n    </tr>\n    <tr>\n      <th>18</th>\n      <th>1</th>\n      <td>2211.0</td>\n      <td>2034.0</td>\n      <td>[2088.0, 3365.0, 6869.0, 6859.0, 1975.0, 6864....</td>\n      <td>2152.796476</td>\n      <td>[2034.0]</td>\n      <td>0</td>\n    </tr>\n    <tr>\n      <th>19</th>\n      <th>1</th>\n      <td>1973.0</td>\n      <td>2034.0</td>\n      <td>[2088.0, 3365.0, 6869.0, 6859.0, 1975.0, 6864....</td>\n      <td>2699.193042</td>\n      <td>[2034.0]</td>\n      <td>0</td>\n    </tr>\n    <tr>\n      <th>20</th>\n      <th>1</th>\n      <td>6861.0</td>\n      <td>2034.0</td>\n      <td>[2088.0, 3365.0, 6869.0, 6859.0, 1975.0, 6864....</td>\n      <td>2720.944490</td>\n      <td>[2034.0]</td>\n      <td>0</td>\n    </tr>\n    <tr>\n      <th>21</th>\n      <th>1</th>\n      <td>6864.0</td>\n      <td>2034.0</td>\n      <td>[2088.0, 3365.0, 6869.0, 6859.0, 1975.0, 6864....</td>\n      <td>2759.558829</td>\n      <td>[2034.0]</td>\n      <td>0</td>\n    </tr>\n    <tr>\n      <th>22</th>\n      <th>1</th>\n      <td>1975.0</td>\n      <td>2034.0</td>\n      <td>[2088.0, 3365.0, 6869.0, 6859.0, 1975.0, 6864....</td>\n      <td>2767.565093</td>\n      <td>[2034.0]</td>\n      <td>0</td>\n    </tr>\n    <tr>\n      <th>23</th>\n      <th>1</th>\n      <td>6868.0</td>\n      <td>2034.0</td>\n      <td>[2088.0, 3365.0, 6869.0, 6859.0, 1975.0, 6864....</td>\n      <td>2813.007292</td>\n      <td>[2034.0]</td>\n      <td>0</td>\n    </tr>\n    <tr>\n      <th>24</th>\n      <th>1</th>\n      <td>2040.0</td>\n      <td>2034.0</td>\n      <td>[2088.0, 3365.0, 6869.0, 6859.0, 1975.0, 6864....</td>\n      <td>2927.117712</td>\n      <td>[2034.0]</td>\n      <td>0</td>\n    </tr>\n    <tr>\n      <th>25</th>\n      <th>1</th>\n      <td>2040.0</td>\n      <td>2034.0</td>\n      <td>[2088.0, 3365.0, 6869.0, 6859.0, 1975.0, 6864....</td>\n      <td>2927.117712</td>\n      <td>[2034.0]</td>\n      <td>0</td>\n    </tr>\n    <tr>\n      <th>26</th>\n      <th>1</th>\n      <td>2034.0</td>\n      <td>2034.0</td>\n      <td>[2088.0, 3365.0, 6869.0, 6859.0, 1975.0, 6864....</td>\n      <td>7430.016462</td>\n      <td>[2034.0]</td>\n      <td>0</td>\n    </tr>\n    <tr>\n      <th>27</th>\n      <th>1</th>\n      <td>2040.0</td>\n      <td>6415.0</td>\n      <td>[2088.0, 3365.0, 6869.0, 6859.0, 1975.0, 6864....</td>\n      <td>7463.222896</td>\n      <td>[6415.0]</td>\n      <td>0</td>\n    </tr>\n    <tr>\n      <th>28</th>\n      <th>1</th>\n      <td>6868.0</td>\n      <td>6415.0</td>\n      <td>[2088.0, 3365.0, 6869.0, 6859.0, 1975.0, 6864....</td>\n      <td>7496.429330</td>\n      <td>[6415.0]</td>\n      <td>0</td>\n    </tr>\n    <tr>\n      <th>29</th>\n      <th>1</th>\n      <td>6868.0</td>\n      <td>6415.0</td>\n      <td>[2088.0, 3365.0, 6869.0, 6859.0, 1975.0, 6864....</td>\n      <td>7496.429330</td>\n      <td>[6415.0]</td>\n      <td>0</td>\n    </tr>\n    <tr>\n      <th>30</th>\n      <th>1</th>\n      <td>6869.0</td>\n      <td>6415.0</td>\n      <td>[2088.0, 3365.0, 6869.0, 6859.0, 1975.0, 6864....</td>\n      <td>11999.328080</td>\n      <td>[6415.0]</td>\n      <td>0</td>\n    </tr>\n    <tr>\n      <th>31</th>\n      <th>1</th>\n      <td>6827.0</td>\n      <td>6415.0</td>\n      <td>[2088.0, 3365.0, 6869.0, 6859.0, 1975.0, 6864....</td>\n      <td>12000.635086</td>\n      <td>[6415.0]</td>\n      <td>0</td>\n    </tr>\n    <tr>\n      <th>32</th>\n      <th>1</th>\n      <td>5354.0</td>\n      <td>6415.0</td>\n      <td>[2088.0, 3365.0, 6869.0, 6859.0, 1975.0, 6864....</td>\n      <td>12002.875621</td>\n      <td>[6415.0]</td>\n      <td>0</td>\n    </tr>\n    <tr>\n      <th>33</th>\n      <th>1</th>\n      <td>2930.0</td>\n      <td>6415.0</td>\n      <td>[2088.0, 3365.0, 6869.0, 6859.0, 1975.0, 6864....</td>\n      <td>12530.662483</td>\n      <td>[6415.0]</td>\n      <td>0</td>\n    </tr>\n    <tr>\n      <th>34</th>\n      <th>1</th>\n      <td>6415.0</td>\n      <td>6415.0</td>\n      <td>[2088.0, 3365.0, 6869.0, 6859.0, 1975.0, 6864....</td>\n      <td>12557.214924</td>\n      <td>[6415.0]</td>\n      <td>0</td>\n    </tr>\n    <tr>\n      <th>35</th>\n      <th>1</th>\n      <td>2930.0</td>\n      <td>2246.0</td>\n      <td>[2088.0, 3365.0, 6869.0, 6859.0, 1975.0, 6864....</td>\n      <td>12660.322701</td>\n      <td>[27973.0, 2246.0]</td>\n      <td>0</td>\n    </tr>\n    <tr>\n      <th>36</th>\n      <th>1</th>\n      <td>5354.0</td>\n      <td>2246.0</td>\n      <td>[2088.0, 3365.0, 6869.0, 6859.0, 1975.0, 6864....</td>\n      <td>12763.430477</td>\n      <td>[27973.0, 2246.0]</td>\n      <td>0</td>\n    </tr>\n    <tr>\n      <th>37</th>\n      <th>1</th>\n      <td>6827.0</td>\n      <td>2246.0</td>\n      <td>[2088.0, 3365.0, 6869.0, 6859.0, 1975.0, 6864....</td>\n      <td>12789.982919</td>\n      <td>[27973.0, 2246.0]</td>\n      <td>0</td>\n    </tr>\n    <tr>\n      <th>38</th>\n      <th>1</th>\n      <td>6869.0</td>\n      <td>2246.0</td>\n      <td>[2088.0, 3365.0, 6869.0, 6859.0, 1975.0, 6864....</td>\n      <td>13317.769781</td>\n      <td>[27973.0, 2246.0]</td>\n      <td>0</td>\n    </tr>\n    <tr>\n      <th>39</th>\n      <th>1</th>\n      <td>7100.0</td>\n      <td>2246.0</td>\n      <td>[2088.0, 3365.0, 6869.0, 6859.0, 1975.0, 6864....</td>\n      <td>13320.010315</td>\n      <td>[27973.0, 2246.0]</td>\n      <td>0</td>\n    </tr>\n    <tr>\n      <th>40</th>\n      <th>1</th>\n      <td>27973.0</td>\n      <td>2246.0</td>\n      <td>[2088.0, 3365.0, 6869.0, 6859.0, 1975.0, 6864....</td>\n      <td>16766.044941</td>\n      <td>[27973.0, 2246.0]</td>\n      <td>0</td>\n    </tr>\n  </tbody>\n</table>\n</div>"
     },
     "metadata": {},
     "execution_count": 275
    }
   ],
   "source": [
    "\n",
    "model = ShippingNetwork(N, distances, origin, 1)\n",
    "steps = 40\n",
    "for i in range(steps):\n",
    "    print(\"\\n\", \"Step: \", i)\n",
    "    model.step()\n",
    "agent_state = model.datacollector.get_agent_vars_dataframe()\n",
    "agent_state"
   ]
  },
  {
   "cell_type": "code",
   "execution_count": 126,
   "metadata": {},
   "outputs": [
    {
     "output_type": "execute_result",
     "data": {
      "text/plain": [
       "              Position  Destination  \\\n",
       "Step AgentID                          \n",
       "0    1          2939.0         3688   \n",
       "1    1          2040.0         3688   \n",
       "2    1          6868.0         3688   \n",
       "3    1          6868.0         3688   \n",
       "4    1          6868.0         3688   \n",
       "5    1          6869.0         3688   \n",
       "6    1          7100.0         3688   \n",
       "7    1          7100.0         3688   \n",
       "8    1         27973.0         3688   \n",
       "9    1          2876.0         3688   \n",
       "10   1          3268.0         3688   \n",
       "11   1          3688.0         3688   \n",
       "\n",
       "                                                      Itinerary  \\\n",
       "Step AgentID                                                      \n",
       "0    1        [2939, 2040.0, 6868.0, 6869.0, 7100.0, 27973.0...   \n",
       "1    1        [2939, 2040.0, 6868.0, 6869.0, 7100.0, 27973.0...   \n",
       "2    1        [2939, 2040.0, 6868.0, 6869.0, 7100.0, 27973.0...   \n",
       "3    1        [2939, 2040.0, 6868.0, 6869.0, 7100.0, 27973.0...   \n",
       "4    1        [2939, 2040.0, 6868.0, 6869.0, 7100.0, 27973.0...   \n",
       "5    1        [2939, 2040.0, 6868.0, 6869.0, 7100.0, 27973.0...   \n",
       "6    1        [2939, 2040.0, 6868.0, 6869.0, 7100.0, 27973.0...   \n",
       "7    1        [2939, 2040.0, 6868.0, 6869.0, 7100.0, 27973.0...   \n",
       "8    1        [2939, 2040.0, 6868.0, 6869.0, 7100.0, 27973.0...   \n",
       "9    1        [2939, 2040.0, 6868.0, 6869.0, 7100.0, 27973.0...   \n",
       "10   1        [2939, 2040.0, 6868.0, 6869.0, 7100.0, 27973.0...   \n",
       "11   1        [2939, 2040.0, 6868.0, 6869.0, 7100.0, 27973.0...   \n",
       "\n",
       "              Distance_Traveled     route  \n",
       "Step AgentID                               \n",
       "0    1                 0.000000  [3688.0]  \n",
       "1    1               374.293611  [3688.0]  \n",
       "2    1               748.587221  [3688.0]  \n",
       "3    1               748.587221  [3688.0]  \n",
       "4    1               748.587221  [3688.0]  \n",
       "5    1              5251.485971  [3688.0]  \n",
       "6    1              5252.792978  [3688.0]  \n",
       "7    1              5252.792978  [3688.0]  \n",
       "8    1              8698.827603  [3688.0]  \n",
       "9    1              8700.314125  [3688.0]  \n",
       "10   1              8719.317912  [3688.0]  \n",
       "11   1              9679.555339  [3688.0]  "
      ],
      "text/html": "<div>\n<style scoped>\n    .dataframe tbody tr th:only-of-type {\n        vertical-align: middle;\n    }\n\n    .dataframe tbody tr th {\n        vertical-align: top;\n    }\n\n    .dataframe thead th {\n        text-align: right;\n    }\n</style>\n<table border=\"1\" class=\"dataframe\">\n  <thead>\n    <tr style=\"text-align: right;\">\n      <th></th>\n      <th></th>\n      <th>Position</th>\n      <th>Destination</th>\n      <th>Itinerary</th>\n      <th>Distance_Traveled</th>\n      <th>route</th>\n    </tr>\n    <tr>\n      <th>Step</th>\n      <th>AgentID</th>\n      <th></th>\n      <th></th>\n      <th></th>\n      <th></th>\n      <th></th>\n    </tr>\n  </thead>\n  <tbody>\n    <tr>\n      <th>0</th>\n      <th>1</th>\n      <td>2939.0</td>\n      <td>3688</td>\n      <td>[2939, 2040.0, 6868.0, 6869.0, 7100.0, 27973.0...</td>\n      <td>0.000000</td>\n      <td>[3688.0]</td>\n    </tr>\n    <tr>\n      <th>1</th>\n      <th>1</th>\n      <td>2040.0</td>\n      <td>3688</td>\n      <td>[2939, 2040.0, 6868.0, 6869.0, 7100.0, 27973.0...</td>\n      <td>374.293611</td>\n      <td>[3688.0]</td>\n    </tr>\n    <tr>\n      <th>2</th>\n      <th>1</th>\n      <td>6868.0</td>\n      <td>3688</td>\n      <td>[2939, 2040.0, 6868.0, 6869.0, 7100.0, 27973.0...</td>\n      <td>748.587221</td>\n      <td>[3688.0]</td>\n    </tr>\n    <tr>\n      <th>3</th>\n      <th>1</th>\n      <td>6868.0</td>\n      <td>3688</td>\n      <td>[2939, 2040.0, 6868.0, 6869.0, 7100.0, 27973.0...</td>\n      <td>748.587221</td>\n      <td>[3688.0]</td>\n    </tr>\n    <tr>\n      <th>4</th>\n      <th>1</th>\n      <td>6868.0</td>\n      <td>3688</td>\n      <td>[2939, 2040.0, 6868.0, 6869.0, 7100.0, 27973.0...</td>\n      <td>748.587221</td>\n      <td>[3688.0]</td>\n    </tr>\n    <tr>\n      <th>5</th>\n      <th>1</th>\n      <td>6869.0</td>\n      <td>3688</td>\n      <td>[2939, 2040.0, 6868.0, 6869.0, 7100.0, 27973.0...</td>\n      <td>5251.485971</td>\n      <td>[3688.0]</td>\n    </tr>\n    <tr>\n      <th>6</th>\n      <th>1</th>\n      <td>7100.0</td>\n      <td>3688</td>\n      <td>[2939, 2040.0, 6868.0, 6869.0, 7100.0, 27973.0...</td>\n      <td>5252.792978</td>\n      <td>[3688.0]</td>\n    </tr>\n    <tr>\n      <th>7</th>\n      <th>1</th>\n      <td>7100.0</td>\n      <td>3688</td>\n      <td>[2939, 2040.0, 6868.0, 6869.0, 7100.0, 27973.0...</td>\n      <td>5252.792978</td>\n      <td>[3688.0]</td>\n    </tr>\n    <tr>\n      <th>8</th>\n      <th>1</th>\n      <td>27973.0</td>\n      <td>3688</td>\n      <td>[2939, 2040.0, 6868.0, 6869.0, 7100.0, 27973.0...</td>\n      <td>8698.827603</td>\n      <td>[3688.0]</td>\n    </tr>\n    <tr>\n      <th>9</th>\n      <th>1</th>\n      <td>2876.0</td>\n      <td>3688</td>\n      <td>[2939, 2040.0, 6868.0, 6869.0, 7100.0, 27973.0...</td>\n      <td>8700.314125</td>\n      <td>[3688.0]</td>\n    </tr>\n    <tr>\n      <th>10</th>\n      <th>1</th>\n      <td>3268.0</td>\n      <td>3688</td>\n      <td>[2939, 2040.0, 6868.0, 6869.0, 7100.0, 27973.0...</td>\n      <td>8719.317912</td>\n      <td>[3688.0]</td>\n    </tr>\n    <tr>\n      <th>11</th>\n      <th>1</th>\n      <td>3688.0</td>\n      <td>3688</td>\n      <td>[2939, 2040.0, 6868.0, 6869.0, 7100.0, 27973.0...</td>\n      <td>9679.555339</td>\n      <td>[3688.0]</td>\n    </tr>\n  </tbody>\n</table>\n</div>"
     },
     "metadata": {},
     "execution_count": 126
    }
   ],
   "source": [
    "agent_state = model.datacollector.get_agent_vars_dataframe()\n",
    "agent_state\n"
   ]
  },
  {
   "cell_type": "code",
   "execution_count": 127,
   "metadata": {},
   "outputs": [
    {
     "output_type": "execute_result",
     "data": {
      "text/plain": [
       "[2939, 2040.0, 6868.0, 6869.0, 7100.0, 27973.0, 2876.0, 3268.0, 3688.0]"
      ]
     },
     "metadata": {},
     "execution_count": 127
    }
   ],
   "source": [
    "route = nx.dijkstra_path(G,2939, 3688, weight='length')\n",
    "route"
   ]
  },
  {
   "cell_type": "code",
   "execution_count": 123,
   "metadata": {},
   "outputs": [
    {
     "output_type": "execute_result",
     "data": {
      "text/plain": [
       "597.5009531952306"
      ]
     },
     "metadata": {},
     "execution_count": 123
    }
   ],
   "source": [
    " travel_distance = nx.dijkstra_path_length(G,5561, 6165, weight='length')\n",
    " travel_distance *"
   ]
  },
  {
   "cell_type": "code",
   "execution_count": 88,
   "metadata": {},
   "outputs": [
    {
     "output_type": "stream",
     "name": "stderr",
     "text": [
      "/Library/Frameworks/Python.framework/Versions/3.8/lib/python3.8/site-packages/pandas/core/ops/array_ops.py:253: FutureWarning: elementwise comparison failed; returning scalar instead, but in the future will perform elementwise comparison\n  res_values = method(rvalues)\n"
     ]
    },
    {
     "output_type": "error",
     "ename": "ValueError",
     "evalue": "The truth value of a DataFrame is ambiguous. Use a.empty, a.bool(), a.item(), a.any() or a.all().",
     "traceback": [
      "\u001b[0;31m---------------------------------------------------------------------------\u001b[0m",
      "\u001b[0;31mValueError\u001b[0m                                Traceback (most recent call last)",
      "\u001b[0;32m<ipython-input-88-8d705cdeffcf>\u001b[0m in \u001b[0;36m<module>\u001b[0;34m\u001b[0m\n\u001b[1;32m     21\u001b[0m \u001b[0mfig\u001b[0m\u001b[0;34m,\u001b[0m\u001b[0max\u001b[0m\u001b[0;34m=\u001b[0m\u001b[0mplt\u001b[0m\u001b[0;34m.\u001b[0m\u001b[0msubplots\u001b[0m\u001b[0;34m(\u001b[0m\u001b[0;36m1\u001b[0m\u001b[0;34m,\u001b[0m\u001b[0;36m2\u001b[0m\u001b[0;34m,\u001b[0m\u001b[0mfigsize\u001b[0m\u001b[0;34m=\u001b[0m\u001b[0;34m(\u001b[0m\u001b[0;36m16\u001b[0m\u001b[0;34m,\u001b[0m\u001b[0;36m10\u001b[0m\u001b[0;34m)\u001b[0m\u001b[0;34m)\u001b[0m\u001b[0;34m\u001b[0m\u001b[0;34m\u001b[0m\u001b[0m\n\u001b[1;32m     22\u001b[0m \u001b[0mmodel\u001b[0m \u001b[0;34m=\u001b[0m \u001b[0mShippingNetwork\u001b[0m\u001b[0;34m(\u001b[0m\u001b[0mN\u001b[0m\u001b[0;34m,\u001b[0m \u001b[0mdistances\u001b[0m\u001b[0;34m)\u001b[0m\u001b[0;34m\u001b[0m\u001b[0;34m\u001b[0m\u001b[0m\n\u001b[0;32m---> 23\u001b[0;31m \u001b[0mmodel\u001b[0m\u001b[0;34m.\u001b[0m\u001b[0mstep\u001b[0m\u001b[0;34m(\u001b[0m\u001b[0mdistances\u001b[0m\u001b[0;34m)\u001b[0m\u001b[0;34m\u001b[0m\u001b[0;34m\u001b[0m\u001b[0m\n\u001b[0m\u001b[1;32m     24\u001b[0m \u001b[0mf\u001b[0m\u001b[0;34m=\u001b[0m\u001b[0mplot_grid\u001b[0m\u001b[0;34m(\u001b[0m\u001b[0mmodel\u001b[0m\u001b[0;34m,\u001b[0m\u001b[0mfig\u001b[0m\u001b[0;34m,\u001b[0m\u001b[0mlayout\u001b[0m\u001b[0;34m=\u001b[0m\u001b[0;34m'kamada-kawai'\u001b[0m\u001b[0;34m)\u001b[0m\u001b[0;34m\u001b[0m\u001b[0;34m\u001b[0m\u001b[0m\n",
      "\u001b[0;32m<ipython-input-64-839e972f5c37>\u001b[0m in \u001b[0;36mstep\u001b[0;34m(self, change_type, change_edge)\u001b[0m\n\u001b[1;32m     43\u001b[0m         \u001b[0mself\u001b[0m\u001b[0;34m.\u001b[0m\u001b[0mdatacollector\u001b[0m\u001b[0;34m.\u001b[0m\u001b[0mcollect\u001b[0m\u001b[0;34m(\u001b[0m\u001b[0mself\u001b[0m\u001b[0;34m)\u001b[0m\u001b[0;34m\u001b[0m\u001b[0;34m\u001b[0m\u001b[0m\n\u001b[1;32m     44\u001b[0m         \u001b[0;31m#check network for changes\u001b[0m\u001b[0;34m\u001b[0m\u001b[0;34m\u001b[0m\u001b[0;34m\u001b[0m\u001b[0m\n\u001b[0;32m---> 45\u001b[0;31m         \u001b[0;32mif\u001b[0m \u001b[0mchange_type\u001b[0m \u001b[0;34m!=\u001b[0m \u001b[0;34m''\u001b[0m \u001b[0;34m:\u001b[0m\u001b[0;34m\u001b[0m\u001b[0;34m\u001b[0m\u001b[0m\n\u001b[0m\u001b[1;32m     46\u001b[0m             \u001b[0mself\u001b[0m\u001b[0;34m.\u001b[0m\u001b[0mgrid\u001b[0m\u001b[0;34m,\u001b[0m \u001b[0mself\u001b[0m\u001b[0;34m.\u001b[0m\u001b[0mG\u001b[0m \u001b[0;34m=\u001b[0m \u001b[0mnetwork_change\u001b[0m\u001b[0;34m(\u001b[0m\u001b[0mchange_type\u001b[0m\u001b[0;34m,\u001b[0m \u001b[0mchange_edge\u001b[0m\u001b[0;34m)\u001b[0m\u001b[0;34m\u001b[0m\u001b[0;34m\u001b[0m\u001b[0m\n\u001b[1;32m     47\u001b[0m \u001b[0;34m\u001b[0m\u001b[0m\n",
      "\u001b[0;32m/Library/Frameworks/Python.framework/Versions/3.8/lib/python3.8/site-packages/pandas/core/generic.py\u001b[0m in \u001b[0;36m__nonzero__\u001b[0;34m(self)\u001b[0m\n\u001b[1;32m   1476\u001b[0m \u001b[0;34m\u001b[0m\u001b[0m\n\u001b[1;32m   1477\u001b[0m     \u001b[0;32mdef\u001b[0m \u001b[0m__nonzero__\u001b[0m\u001b[0;34m(\u001b[0m\u001b[0mself\u001b[0m\u001b[0;34m)\u001b[0m\u001b[0;34m:\u001b[0m\u001b[0;34m\u001b[0m\u001b[0;34m\u001b[0m\u001b[0m\n\u001b[0;32m-> 1478\u001b[0;31m         raise ValueError(\n\u001b[0m\u001b[1;32m   1479\u001b[0m             \u001b[0;34mf\"The truth value of a {type(self).__name__} is ambiguous. \"\u001b[0m\u001b[0;34m\u001b[0m\u001b[0;34m\u001b[0m\u001b[0m\n\u001b[1;32m   1480\u001b[0m             \u001b[0;34m\"Use a.empty, a.bool(), a.item(), a.any() or a.all().\"\u001b[0m\u001b[0;34m\u001b[0m\u001b[0;34m\u001b[0m\u001b[0m\n",
      "\u001b[0;31mValueError\u001b[0m: The truth value of a DataFrame is ambiguous. Use a.empty, a.bool(), a.item(), a.any() or a.all()."
     ]
    }
   ],
   "source": [
    "from matplotlib.colors import ListedColormap, LinearSegmentedColormap\n",
    "cmap = ListedColormap([\"lightblue\", \"orange\", \"green\",])\n",
    "\n",
    "def plot_grid(model,fig,layout='spring',title=''):\n",
    "    graph = model.G\n",
    "    if layout == 'kamada-kawai':      \n",
    "        pos = nx.kamada_kawai_layout(graph)  \n",
    "    elif layout == 'circular':\n",
    "        pos = nx.circular_layout(graph)\n",
    "    else:\n",
    "        pos = nx.spring_layout(graph, iterations=5, seed=8)  \n",
    "    plt.clf()\n",
    "    ax=fig.add_subplot()\n",
    "\n",
    "    nx.draw(graph, pos, node_size=100, edge_color='gray', with_labels=True,\n",
    "            alpha=0.9,font_size=14,ax=ax)\n",
    "    ax.set_title(title)\n",
    "    return\n",
    "\n",
    "#example usage\n",
    "fig,ax=plt.subplots(1,2,figsize=(16,10))\n",
    "model = ShippingNetwork(N, distances)\n",
    "model.step(distances)\n",
    "f=plot_grid(model,fig,layout='kamada-kawai')"
   ]
  },
  {
   "cell_type": "code",
   "execution_count": 24,
   "metadata": {},
   "outputs": [
    {
     "output_type": "execute_result",
     "data": {
      "text/plain": [
       "[]"
      ]
     },
     "metadata": {},
     "execution_count": 24
    }
   ],
   "source": [
    "model.schedule."
   ]
  }
 ]
}