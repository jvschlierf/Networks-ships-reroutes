{
 "metadata": {
  "language_info": {
   "codemirror_mode": {
    "name": "ipython",
    "version": 3
   },
   "file_extension": ".py",
   "mimetype": "text/x-python",
   "name": "python",
   "nbconvert_exporter": "python",
   "pygments_lexer": "ipython3",
   "version": "3.8.10"
  },
  "orig_nbformat": 2,
  "kernelspec": {
   "name": "python3810jvsc74a57bd0aee8b7b246df8f9039afb4144a1f6fd8d2ca17a180786b69acc140d282b71a49",
   "display_name": "Python 3.8.10 64-bit"
  }
 },
 "nbformat": 4,
 "nbformat_minor": 2,
 "cells": [
  {
   "cell_type": "code",
   "execution_count": 1,
   "metadata": {},
   "outputs": [],
   "source": [
    "import time, enum, math\n",
    "import numpy as np\n",
    "import pandas as pd\n",
    "import pylab as plt\n",
    "from mesa import Agent, Model\n",
    "from mesa.time import SimultaneousActivation\n",
    "from mesa.space import NetworkGrid\n",
    "from mesa.datacollection import DataCollector\n",
    "from networkx.algorithms.shortest_paths.generic import has_path\n",
    "import networkx as nx\n",
    "import panel as pn\n",
    "import panel.widgets as pnw\n",
    "import random"
   ]
  },
  {
   "cell_type": "code",
   "execution_count": 2,
   "metadata": {},
   "outputs": [],
   "source": [
    "def kmtoNaut(km):\n",
    "    return km / 1.852"
   ]
  },
  {
   "cell_type": "code",
   "execution_count": 3,
   "metadata": {},
   "outputs": [],
   "source": [
    "N = ['SHA', 'ROT', 'CAP', 'SUE', 'PSA']"
   ]
  },
  {
   "cell_type": "code",
   "execution_count": 4,
   "metadata": {},
   "outputs": [],
   "source": [
    "distances = [\n",
    "    ['CAP', 'ROT', 11367.07658],\n",
    "    ['CAP', 'SUE', 9814.514498],\n",
    "    ['CAP', 'SHA', 14090.03741],\n",
    "    ['ROT', 'PSA', 6013.579478],\n",
    "    ['PSA', 'SUE', 162.274111],\n",
    "    ['SHA', 'SUE', 13162.53259]]"
   ]
  },
  {
   "cell_type": "code",
   "execution_count": 5,
   "metadata": {},
   "outputs": [],
   "source": [
    "for i in range(len(distances)):\n",
    "    distances[i][2] = kmtoNaut(distances[i][2])"
   ]
  },
  {
   "cell_type": "code",
   "execution_count": 10,
   "metadata": {},
   "outputs": [],
   "source": [
    "class ShippingNetwork(Model):\n",
    "    def __init__(self, N, distances, S=2):\n",
    "        self.ports = N\n",
    "        self.num_ships = S\n",
    "        # self.distances = distances\n",
    "        self.schedule = SimultaneousActivation(self)\n",
    "\n",
    "        self.G = nx.Graph()\n",
    "        self.G.add_nodes_from(self.ports) #instatiate the ports as nodes of network\n",
    "        for i in range(len(distances)): #create bi-directional edges with an attribute for length \n",
    "            self.G.add_edge(distances[i][0], distances[i][1], length=distances[i][2])\n",
    "        self.grid = NetworkGrid(self.G) #Define Mesa Grid as the just created Network to allow for shipping only in routes\n",
    "\n",
    "        #create agents \n",
    "        Ships = []\n",
    "        for i in range(self.num_ships):\n",
    "            port = random.sample(self.ports, k=2) # this is a test - implementation, more complex algorithming is necessary\n",
    "            a = Ship(i+1, self, self.G, port[0], port[1], distances)\n",
    "            #append to list of ships\n",
    "            Ships.append(a)\n",
    "            #place agent on origin node\n",
    "            self.grid.place_agent(a, port[0])\n",
    "        \n",
    "    #create ability to remove edges mid-model\n",
    "    def network_change (self, change_type, change_edge):\n",
    "        if change_type == \"add\":\n",
    "            self.G.add_edge(self.change_edge[0], self.change_edge[1], length=self.change_edge[2])\n",
    "        if change_type == \"remove\":\n",
    "            self.G.remove_edge(self.change_edge[0],self.change_edge[1])\n",
    "        #update model with new grid    \n",
    "        return NetworkGrid(self.G), G\n",
    "\n",
    "    def step(self, distances, change_type='', change_edge=[]):\n",
    "        #check network for changes\n",
    "        if change_type != '':\n",
    "            self.grid, self.G = network_change(change_type, change_edge)\n",
    "        #Run each Agents\n",
    "        self.schedule.step()\n",
    "\n",
    "        # draw the network? \n",
    "\n"
   ]
  },
  {
   "cell_type": "code",
   "execution_count": 7,
   "metadata": {},
   "outputs": [],
   "source": [
    "class Ship(Agent):\n",
    "    def __init__(self, unique_id, model, G, start_port, destin_port, distances, s=13):\n",
    "        self.destination = destin_port\n",
    "        self.state = 0 #0 for active, numbers > 0 for weeks that ships have to \"wait\" until arrival to port\n",
    "        self.speed = s*24*7 #speed is given in knots, with 1 knot being 1 nautical mile per hour\n",
    "        self.position = start_port\n",
    "        self.init_route = nx.dijkstra_path(G, self.position, self.destination, weight='length') #We keep a copy of the entire itinerary / distance traveled\n",
    "        self.init_dist = nx.dijkstra_path_length(G,self.position, self.destination, weight='length') \n",
    "        self.current_route, self.current_dist = self.init_route, self.init_dist  #For comparison & navigational purposes, we use current route & distance\n",
    "        self.next_position = self.current_route[1]\n",
    "        self.itinerary = [self.position] # we keep track of the distance traveled using \n",
    "        self.distance_traveled = 0\n",
    "\n",
    "\n",
    "    def routing(self, G):\n",
    "        #implement dijkstra to define shortest route\n",
    "        route = nx.dijkstra_path(G, self.position, self.destination, weight='length')\n",
    "        travel_distance = nx.dijkstra_path_length(G,self.position, self.destination, weight='length')\n",
    "        #include a way for capacity?\n",
    "        return route, travel_distance\n",
    "    \n",
    "    def move(self, distances):\n",
    "        self.step_size = ident_distance(distances) #look up the distance between two cities \n",
    "        self.state = step_size / self.speed #change state to step amount\n",
    "        self.current_dist = self.current_dist - self.step_size #adjust current distance minus the distance traveled in the next step\n",
    "        self.model.grid.move_agent(self, next_position) #move the agent\n",
    "        self.current_route.remove(current_route[0]) #remove the next step from the itinerary\n",
    "        self.next_position = self.current_route[1] #update current route\n",
    "\n",
    "\n",
    "    def ident_distance(self, distances): #look up the distance of the current step\n",
    "        for i in range(len(distances)):\n",
    "            if distances[i][0] == self.position and distances[i][1] == self.next_position:\n",
    "                dist = distances[i][2]\n",
    "                return dist\n",
    "            if distances[i][1] == self.next_position and distances[i][0] == self.position:\n",
    "                dist = distances[i][2]\n",
    "                return dist\n",
    "\n",
    "    def step(self, distances, G):\n",
    "        self.state = self.state - 1 #'move' ships by one weeks progress\n",
    "        if self.state <= 0: #ships that are en-route to the node they are going to next do not move / perform other activities\n",
    "            self.itinerary.append(self.position) #add the current position to itinerary\n",
    "            new_route, new_distance = routing(G) #perform a new routing to compare against current routing\n",
    "            if new_route == self.current_route: #if current routing is the same as new, just move (default case)\n",
    "                self.move(distances)\n",
    "            elif new_distance > self.current_dist: #if current route is shorter than newly calculated route, check for obstructions\n",
    "                for i in range(len(self.current_route)-1):\n",
    "                    if not has_path(G, current_route[i], current_route[i+1]): \n",
    "                        self.current_route = new_route\n",
    "                        self.current_dist = new_distance\n",
    "                self.move(distances)\n",
    "            else: # final option is that current route is longer than new route (think Suez reopening after a while), here, we just take the new option\n",
    "                self.current_route = new_route\n",
    "                self.current_dist = new_distance\n",
    "                self.move(distances)\n",
    "\n",
    "\n",
    "    \n",
    "    # def collect_time\n",
    "\n",
    "    # def collect_costs"
   ]
  },
  {
   "cell_type": "code",
   "execution_count": 11,
   "metadata": {},
   "outputs": [],
   "source": [
    "model = ShippingNetwork(N, distances)\n",
    "steps = 2\n",
    "for i in range(steps):\n",
    "    model.step(distances)"
   ]
  }
 ]
}