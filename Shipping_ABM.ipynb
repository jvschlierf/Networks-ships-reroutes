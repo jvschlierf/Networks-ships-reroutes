{
 "metadata": {
  "language_info": {
   "codemirror_mode": {
    "name": "ipython",
    "version": 3
   },
   "file_extension": ".py",
   "mimetype": "text/x-python",
   "name": "python",
   "nbconvert_exporter": "python",
   "pygments_lexer": "ipython3",
   "version": "3.8.10"
  },
  "orig_nbformat": 2,
  "kernelspec": {
   "name": "python3810jvsc74a57bd0aee8b7b246df8f9039afb4144a1f6fd8d2ca17a180786b69acc140d282b71a49",
   "display_name": "Python 3.8.10 64-bit"
  }
 },
 "nbformat": 4,
 "nbformat_minor": 2,
 "cells": [
  {
   "cell_type": "code",
   "execution_count": 2,
   "metadata": {},
   "outputs": [],
   "source": [
    "import time, enum, math\n",
    "import numpy as np\n",
    "import pandas as pd\n",
    "import pylab as plt\n",
    "from mesa import Agent, Model\n",
    "from mesa.time import SimultaneousActivation, RandomActivation\n",
    "from mesa.space import NetworkGrid\n",
    "from mesa.datacollection import DataCollector\n",
    "from networkx.algorithms.shortest_paths.generic import has_path\n",
    "import networkx as nx\n",
    "import panel as pn\n",
    "import panel.widgets as pnw\n",
    "import random"
   ]
  },
  {
   "cell_type": "code",
   "execution_count": 3,
   "metadata": {},
   "outputs": [],
   "source": [
    "def kmtoNaut(km):\n",
    "    return km / 1.852"
   ]
  },
  {
   "cell_type": "code",
   "execution_count": 93,
   "metadata": {},
   "outputs": [],
   "source": [
    "ports = pd.read_csv('../ports.csv')\n",
    "data = pd.read_csv('../distances.csv')\n",
    "origin = pd.read_csv('../origin_dest.csv', sep=\";\")"
   ]
  },
  {
   "cell_type": "code",
   "execution_count": 94,
   "metadata": {},
   "outputs": [
    {
     "output_type": "execute_result",
     "data": {
      "text/plain": [
       "   Unnamed: 0                      PORT_NAME  INDEX_NO  \\\n",
       "0       49159  Terminal Pesquero Cta. Quiane       NaN   \n",
       "1       49164                      Oil Berth       NaN   \n",
       "2          16                Port of Basamuk       NaN   \n",
       "3          26                       Victoria       NaN   \n",
       "4          34                            NaN       NaN   \n",
       "\n",
       "                                         coords  \n",
       "0  ((-70.31722387298942, -18.513597026467323),)  \n",
       "1   ((-61.86886473007713, 17.150384410999997),)  \n",
       "2    ((146.14295817405977, -5.53913255687803),)  \n",
       "3  ((-123.32715191091728, 48.402783083729446),)  \n",
       "4   ((126.50786074843957, 36.333661512471735),)  "
      ],
      "text/html": "<div>\n<style scoped>\n    .dataframe tbody tr th:only-of-type {\n        vertical-align: middle;\n    }\n\n    .dataframe tbody tr th {\n        vertical-align: top;\n    }\n\n    .dataframe thead th {\n        text-align: right;\n    }\n</style>\n<table border=\"1\" class=\"dataframe\">\n  <thead>\n    <tr style=\"text-align: right;\">\n      <th></th>\n      <th>Unnamed: 0</th>\n      <th>PORT_NAME</th>\n      <th>INDEX_NO</th>\n      <th>coords</th>\n    </tr>\n  </thead>\n  <tbody>\n    <tr>\n      <th>0</th>\n      <td>49159</td>\n      <td>Terminal Pesquero Cta. Quiane</td>\n      <td>NaN</td>\n      <td>((-70.31722387298942, -18.513597026467323),)</td>\n    </tr>\n    <tr>\n      <th>1</th>\n      <td>49164</td>\n      <td>Oil Berth</td>\n      <td>NaN</td>\n      <td>((-61.86886473007713, 17.150384410999997),)</td>\n    </tr>\n    <tr>\n      <th>2</th>\n      <td>16</td>\n      <td>Port of Basamuk</td>\n      <td>NaN</td>\n      <td>((146.14295817405977, -5.53913255687803),)</td>\n    </tr>\n    <tr>\n      <th>3</th>\n      <td>26</td>\n      <td>Victoria</td>\n      <td>NaN</td>\n      <td>((-123.32715191091728, 48.402783083729446),)</td>\n    </tr>\n    <tr>\n      <th>4</th>\n      <td>34</td>\n      <td>NaN</td>\n      <td>NaN</td>\n      <td>((126.50786074843957, 36.333661512471735),)</td>\n    </tr>\n  </tbody>\n</table>\n</div>"
     },
     "metadata": {},
     "execution_count": 94
    }
   ],
   "source": [
    "ports.head()"
   ]
  },
  {
   "cell_type": "code",
   "execution_count": 92,
   "metadata": {},
   "outputs": [
    {
     "output_type": "execute_result",
     "data": {
      "text/plain": [
       "   table        Port_Name     Ref       Port_Ref    Country  1000TEU (2017)  \\\n",
       "0      1         Shanghai     NaN  Shanghai Gang      China           40233   \n",
       "1      2        Singapore  6859.0            NaN  Singapore           33666   \n",
       "2      3         Shenzhen     NaN       Shenzhen       Gang           25208   \n",
       "3      4  Ningbo-Zhoushan     NaN       ZHOUSHAN      China           24607   \n",
       "4      5        Hong Kong     NaN      HONG KONG      China           20770   \n",
       "\n",
       "  PROB (TAU_port / TAU_all) 2017  \n",
       "0                    0,085759048  \n",
       "1                    0,071761095  \n",
       "2                    0,053732361  \n",
       "3                    0,052451294  \n",
       "4                    0,044272499  "
      ],
      "text/html": "<div>\n<style scoped>\n    .dataframe tbody tr th:only-of-type {\n        vertical-align: middle;\n    }\n\n    .dataframe tbody tr th {\n        vertical-align: top;\n    }\n\n    .dataframe thead th {\n        text-align: right;\n    }\n</style>\n<table border=\"1\" class=\"dataframe\">\n  <thead>\n    <tr style=\"text-align: right;\">\n      <th></th>\n      <th>table</th>\n      <th>Port_Name</th>\n      <th>Ref</th>\n      <th>Port_Ref</th>\n      <th>Country</th>\n      <th>1000TEU (2017)</th>\n      <th>PROB (TAU_port / TAU_all) 2017</th>\n    </tr>\n  </thead>\n  <tbody>\n    <tr>\n      <th>0</th>\n      <td>1</td>\n      <td>Shanghai</td>\n      <td>NaN</td>\n      <td>Shanghai Gang</td>\n      <td>China</td>\n      <td>40233</td>\n      <td>0,085759048</td>\n    </tr>\n    <tr>\n      <th>1</th>\n      <td>2</td>\n      <td>Singapore</td>\n      <td>6859.0</td>\n      <td>NaN</td>\n      <td>Singapore</td>\n      <td>33666</td>\n      <td>0,071761095</td>\n    </tr>\n    <tr>\n      <th>2</th>\n      <td>3</td>\n      <td>Shenzhen</td>\n      <td>NaN</td>\n      <td>Shenzhen</td>\n      <td>Gang</td>\n      <td>25208</td>\n      <td>0,053732361</td>\n    </tr>\n    <tr>\n      <th>3</th>\n      <td>4</td>\n      <td>Ningbo-Zhoushan</td>\n      <td>NaN</td>\n      <td>ZHOUSHAN</td>\n      <td>China</td>\n      <td>24607</td>\n      <td>0,052451294</td>\n    </tr>\n    <tr>\n      <th>4</th>\n      <td>5</td>\n      <td>Hong Kong</td>\n      <td>NaN</td>\n      <td>HONG KONG</td>\n      <td>China</td>\n      <td>20770</td>\n      <td>0,044272499</td>\n    </tr>\n  </tbody>\n</table>\n</div>"
     },
     "metadata": {},
     "execution_count": 92
    }
   ],
   "source": [
    "origin.head()"
   ]
  },
  {
   "cell_type": "code",
   "execution_count": 95,
   "metadata": {},
   "outputs": [
    {
     "output_type": "error",
     "ename": "ValueError",
     "evalue": "You are trying to merge on object and int64 columns. If you wish to proceed you should use pd.concat",
     "traceback": [
      "\u001b[0;31m---------------------------------------------------------------------------\u001b[0m",
      "\u001b[0;31mValueError\u001b[0m                                Traceback (most recent call last)",
      "\u001b[0;32m<ipython-input-95-3ea818de542c>\u001b[0m in \u001b[0;36m<module>\u001b[0;34m\u001b[0m\n\u001b[0;32m----> 1\u001b[0;31m \u001b[0morigin\u001b[0m\u001b[0;34m.\u001b[0m\u001b[0mmerge\u001b[0m\u001b[0;34m(\u001b[0m\u001b[0mports\u001b[0m\u001b[0;34m,\u001b[0m \u001b[0mleft_on\u001b[0m\u001b[0;34m=\u001b[0m\u001b[0;34m'Port_Ref'\u001b[0m\u001b[0;34m,\u001b[0m \u001b[0mright_on\u001b[0m\u001b[0;34m=\u001b[0m\u001b[0;34m'Unnamed: 0'\u001b[0m\u001b[0;34m)\u001b[0m\u001b[0;34m\u001b[0m\u001b[0;34m\u001b[0m\u001b[0m\n\u001b[0m",
      "\u001b[0;32m/Library/Frameworks/Python.framework/Versions/3.8/lib/python3.8/site-packages/pandas/core/frame.py\u001b[0m in \u001b[0;36mmerge\u001b[0;34m(self, right, how, on, left_on, right_on, left_index, right_index, sort, suffixes, copy, indicator, validate)\u001b[0m\n\u001b[1;32m   7282\u001b[0m         \u001b[0;32mfrom\u001b[0m \u001b[0mpandas\u001b[0m\u001b[0;34m.\u001b[0m\u001b[0mcore\u001b[0m\u001b[0;34m.\u001b[0m\u001b[0mreshape\u001b[0m\u001b[0;34m.\u001b[0m\u001b[0mmerge\u001b[0m \u001b[0;32mimport\u001b[0m \u001b[0mmerge\u001b[0m\u001b[0;34m\u001b[0m\u001b[0;34m\u001b[0m\u001b[0m\n\u001b[1;32m   7283\u001b[0m \u001b[0;34m\u001b[0m\u001b[0m\n\u001b[0;32m-> 7284\u001b[0;31m         return merge(\n\u001b[0m\u001b[1;32m   7285\u001b[0m             \u001b[0mself\u001b[0m\u001b[0;34m,\u001b[0m\u001b[0;34m\u001b[0m\u001b[0;34m\u001b[0m\u001b[0m\n\u001b[1;32m   7286\u001b[0m             \u001b[0mright\u001b[0m\u001b[0;34m,\u001b[0m\u001b[0;34m\u001b[0m\u001b[0;34m\u001b[0m\u001b[0m\n",
      "\u001b[0;32m/Library/Frameworks/Python.framework/Versions/3.8/lib/python3.8/site-packages/pandas/core/reshape/merge.py\u001b[0m in \u001b[0;36mmerge\u001b[0;34m(left, right, how, on, left_on, right_on, left_index, right_index, sort, suffixes, copy, indicator, validate)\u001b[0m\n\u001b[1;32m     71\u001b[0m     \u001b[0mvalidate\u001b[0m\u001b[0;34m=\u001b[0m\u001b[0;32mNone\u001b[0m\u001b[0;34m,\u001b[0m\u001b[0;34m\u001b[0m\u001b[0;34m\u001b[0m\u001b[0m\n\u001b[1;32m     72\u001b[0m ) -> \"DataFrame\":\n\u001b[0;32m---> 73\u001b[0;31m     op = _MergeOperation(\n\u001b[0m\u001b[1;32m     74\u001b[0m         \u001b[0mleft\u001b[0m\u001b[0;34m,\u001b[0m\u001b[0;34m\u001b[0m\u001b[0;34m\u001b[0m\u001b[0m\n\u001b[1;32m     75\u001b[0m         \u001b[0mright\u001b[0m\u001b[0;34m,\u001b[0m\u001b[0;34m\u001b[0m\u001b[0;34m\u001b[0m\u001b[0m\n",
      "\u001b[0;32m/Library/Frameworks/Python.framework/Versions/3.8/lib/python3.8/site-packages/pandas/core/reshape/merge.py\u001b[0m in \u001b[0;36m__init__\u001b[0;34m(self, left, right, how, on, left_on, right_on, axis, left_index, right_index, sort, suffixes, copy, indicator, validate)\u001b[0m\n\u001b[1;32m    629\u001b[0m         \u001b[0;31m# validate the merge keys dtypes. We may need to coerce\u001b[0m\u001b[0;34m\u001b[0m\u001b[0;34m\u001b[0m\u001b[0;34m\u001b[0m\u001b[0m\n\u001b[1;32m    630\u001b[0m         \u001b[0;31m# to avoid incompat dtypes\u001b[0m\u001b[0;34m\u001b[0m\u001b[0;34m\u001b[0m\u001b[0;34m\u001b[0m\u001b[0m\n\u001b[0;32m--> 631\u001b[0;31m         \u001b[0mself\u001b[0m\u001b[0;34m.\u001b[0m\u001b[0m_maybe_coerce_merge_keys\u001b[0m\u001b[0;34m(\u001b[0m\u001b[0;34m)\u001b[0m\u001b[0;34m\u001b[0m\u001b[0;34m\u001b[0m\u001b[0m\n\u001b[0m\u001b[1;32m    632\u001b[0m \u001b[0;34m\u001b[0m\u001b[0m\n\u001b[1;32m    633\u001b[0m         \u001b[0;31m# If argument passed to validate,\u001b[0m\u001b[0;34m\u001b[0m\u001b[0;34m\u001b[0m\u001b[0;34m\u001b[0m\u001b[0m\n",
      "\u001b[0;32m/Library/Frameworks/Python.framework/Versions/3.8/lib/python3.8/site-packages/pandas/core/reshape/merge.py\u001b[0m in \u001b[0;36m_maybe_coerce_merge_keys\u001b[0;34m(self)\u001b[0m\n\u001b[1;32m   1144\u001b[0m                     \u001b[0minferred_right\u001b[0m \u001b[0;32min\u001b[0m \u001b[0mstring_types\u001b[0m \u001b[0;32mand\u001b[0m \u001b[0minferred_left\u001b[0m \u001b[0;32mnot\u001b[0m \u001b[0;32min\u001b[0m \u001b[0mstring_types\u001b[0m\u001b[0;34m\u001b[0m\u001b[0;34m\u001b[0m\u001b[0m\n\u001b[1;32m   1145\u001b[0m                 ):\n\u001b[0;32m-> 1146\u001b[0;31m                     \u001b[0;32mraise\u001b[0m \u001b[0mValueError\u001b[0m\u001b[0;34m(\u001b[0m\u001b[0mmsg\u001b[0m\u001b[0;34m)\u001b[0m\u001b[0;34m\u001b[0m\u001b[0;34m\u001b[0m\u001b[0m\n\u001b[0m\u001b[1;32m   1147\u001b[0m \u001b[0;34m\u001b[0m\u001b[0m\n\u001b[1;32m   1148\u001b[0m             \u001b[0;31m# datetimelikes must match exactly\u001b[0m\u001b[0;34m\u001b[0m\u001b[0;34m\u001b[0m\u001b[0;34m\u001b[0m\u001b[0m\n",
      "\u001b[0;31mValueError\u001b[0m: You are trying to merge on object and int64 columns. If you wish to proceed you should use pd.concat"
     ]
    }
   ],
   "source": [
    "origin.merge(ports, left_on='Port_Ref', right_on='Unnamed: 0')"
   ]
  },
  {
   "cell_type": "code",
   "execution_count": 9,
   "metadata": {},
   "outputs": [
    {
     "output_type": "stream",
     "name": "stdout",
     "text": [
      "56154\n2842\n"
     ]
    }
   ],
   "source": [
    "N = data[\"next_port\"].tolist()\n",
    "print(len(N))\n",
    "N = list(set(N))\n",
    "print(len(N))"
   ]
  },
  {
   "cell_type": "code",
   "execution_count": 5,
   "metadata": {},
   "outputs": [],
   "source": [
    "# distances = [\n",
    "#     ['CAP', 'ROT', 11367.07658],\n",
    "#     ['CAP', 'SUE', 9814.514498],\n",
    "#     ['CAP', 'SHA', 14090.03741],\n",
    "#     ['ROT', 'PSA', 6013.579478],\n",
    "#     ['PSA', 'SUE', 162.274111],\n",
    "#     ['SHA', 'SUE', 13162.53259]]"
   ]
  },
  {
   "cell_type": "code",
   "execution_count": 11,
   "metadata": {},
   "outputs": [],
   "source": [
    "distances = data[[\"prev_port\", \"next_port\", \"distance\"]]"
   ]
  },
  {
   "source": [
    "distances.astype({'prev_port':'int64', 'next_port':'int64'}).dtypes"
   ],
   "cell_type": "code",
   "metadata": {},
   "execution_count": 21,
   "outputs": [
    {
     "output_type": "execute_result",
     "data": {
      "text/plain": [
       "prev_port      int64\n",
       "next_port      int64\n",
       "distance     float64\n",
       "dtype: object"
      ]
     },
     "metadata": {},
     "execution_count": 21
    }
   ]
  },
  {
   "cell_type": "code",
   "execution_count": 43,
   "metadata": {},
   "outputs": [],
   "source": [
    "G = nx.MultiGraph()\n",
    "G.add_nodes_from(N) #instatiate the ports as nodes of network\n",
    "for i in range(len(distances)): #create bi-directional edges with an attribute for length \n",
    "       G.add_edge(distances.iloc[i][0], distances.iloc[i][1], length=distances.iloc[i][2])\n",
    "grid = NetworkGrid(G) #Define Mesa Grid as the just created Network to allow for shipping only in routes"
   ]
  },
  {
   "cell_type": "code",
   "execution_count": 6,
   "metadata": {},
   "outputs": [],
   "source": [
    "# for i in range(len(distances)):\n",
    "#     distances[i][2] = kmtoNaut(distances[i][2])"
   ]
  },
  {
   "cell_type": "code",
   "execution_count": 64,
   "metadata": {},
   "outputs": [],
   "source": [
    "class ShippingNetwork(Model):\n",
    "    def __init__(self, N, distances, S=2):\n",
    "        self.ports = N\n",
    "        self.num_ships = S\n",
    "        self.distances = distances\n",
    "        self.schedule = SimultaneousActivation(self)\n",
    "        self.running = True\n",
    "\n",
    "        self.G = nx.MultiGraph()\n",
    "        self.G.add_nodes_from(self.ports) #instatiate the ports as nodes of network\n",
    "        for i in range(len(distances)): #create bi-directional edges with an attribute for length \n",
    "            self.G.add_edge(distances.iloc[i][0], distances.iloc[i][1], length=distances.iloc[i][2])\n",
    "        self.grid = NetworkGrid(self.G) #Define Mesa Grid as the just created Network to allow for shipping only in routes\n",
    "\n",
    "        #create ability to remove edges mid-model\n",
    "        def network_change(self, change_type, change_edge):\n",
    "            if change_type == \"add\":\n",
    "                self.G.add_edge(self.change_edge[0], self.change_edge[1], length=self.change_edge[2])\n",
    "            if change_type == \"remove\":\n",
    "                self.G.remove_edge(self.change_edge[0],self.change_edge[1]) #can we identify an edge by node 1, node 2 & distance?\n",
    "            #update model with new grid    \n",
    "            return NetworkGrid(self.G), G\n",
    "\n",
    "\n",
    "        #create agents \n",
    "        Ships = []\n",
    "        for i in range(self.num_ships):\n",
    "            port = random.sample(self.ports, k=2) # this is a test - implementation, more complex algorithming is necessary\n",
    "            a = Ship(i+1, self, self.G, port[0], port[1])\n",
    "            self.schedule.add(a)\n",
    "            #append to list of ships\n",
    "            Ships.append(a)\n",
    "            #place agent on origin node\n",
    "            self.grid.place_agent(a, port[0])\n",
    "\n",
    "\n",
    "        self.datacollector = DataCollector(\n",
    "            model_reporters={\"Ports\": \"ports\", \"Graph\":\"G\"},\n",
    "            agent_reporters={\"Position\": \"position\", \"Destination\":\"destination\", \"Itinerary\":\"itinerary\", \"Distance_Traveled\":\"distance_traveled\", \"route\":\"current_route\" })\n",
    "\n",
    "\n",
    "    def step(self, change_type='', change_edge=[]):\n",
    "        self.datacollector.collect(self)\n",
    "        #check network for changes\n",
    "        if change_type != '' :\n",
    "            self.grid, self.G = network_change(change_type, change_edge)\n",
    "\n",
    "        self.schedule.step()     #Run each Agents\n"
   ]
  },
  {
   "cell_type": "code",
   "execution_count": 124,
   "metadata": {},
   "outputs": [],
   "source": [
    "class Ship(Agent):\n",
    "    def __init__(self, unique_id, model, G, start_port, destin_port, s=13.0):\n",
    "        super().__init__(unique_id, model)\n",
    "        self.destination = destin_port\n",
    "        self.state = 0 #0 for active, numbers > 0 for weeks that ships have to \"wait\" until arrival to port\n",
    "        self.speed = s*24*7 #speed is given in knots, with 1 knot being 1 nautical mile per hour\n",
    "        self.position = start_port\n",
    "        self.init_route = nx.dijkstra_path(G, self.position, self.destination, weight='length') #We keep a copy of the entire itinerary / distance traveled\n",
    "        self.init_dist = nx.dijkstra_path_length(G,self.position, self.destination, weight='length') \n",
    "        self.current_route, self.current_dist = self.init_route, self.init_dist  #For comparison & navigational purposes, we use current route & distance\n",
    "        self.next_position = self.current_route[1]\n",
    "        self.itinerary = [self.position]\n",
    "        self.distance_traveled = 0\n",
    "        self.unique_id = unique_id\n",
    "        self.G = G\n",
    "        self.step_size = self.ident_distance()\n",
    "        self.route_chng = 0\n",
    "    \n",
    "\n",
    "    def routing(self):\n",
    "        #implement dijkstra to define shortest route\n",
    "        route = nx.dijkstra_path(self.G, self.position, self.destination, weight='length')\n",
    "        travel_distance = nx.dijkstra_path_length(self.G,self.position, self.destination, weight='length')\n",
    "        #include a way for capacity?\n",
    "        return route, travel_distance\n",
    "\n",
    "    def move(self):\n",
    "        self.next_position = self.current_route[1]\n",
    "        self.step_size = self.ident_distance() #look up the distance between two cities \n",
    "        self.state = self.step_size / self.speed #change state to step amount\n",
    "        self.current_dist = self.current_dist - self.step_size #adjust current distance minus the distance traveled in the next step\n",
    "        self.model.grid.move_agent(self, self.next_position) #move the agent\n",
    "        self.current_route.remove(self.current_route[0]) #remove the next step from the itinerary\n",
    "        self.position = self.next_position\n",
    "        if len(self.current_route) == 1:\n",
    "            self.next_position = self.current_route[0] \n",
    "        else:\n",
    "            self.next_position = self.current_route[1] #update current route\n",
    "\n",
    "    def ident_distance(self): #look up the distance of the current step\n",
    "        return self.G.get_edge_data(self.position, self.next_position)[0]['length']\n",
    "    \n",
    "    def reroute(self):\n",
    "         pass\n",
    "\n",
    "    def step(self):\n",
    "        self.state = self.state - 1 #'move' ships by one weeks progress\n",
    "        if self.state <= 0.000: #ships that are en-route to the node they are going to next do not move / perform other activities\n",
    "            self.distance_traveled += self.step_size #ship has arrived at port, let's add the distance traveled to their \n",
    "           \n",
    "            #add the current position to itinerary\n",
    "            if self.position != self.destination: #if current stop is not the final stop\n",
    "                new_route, new_distance = self.routing() #perform a new routing to compare against current routing\n",
    "                \n",
    "                if new_route == self.current_route: #if current routing is the same as new, just move (default case)\n",
    "                    print(\"default case\")\n",
    "                    self.move()\n",
    "                    self.itinerary.append(self.position)\n",
    "        \n",
    "            # THIS CURRENTLY ONLY CHANGES THE ROUTE IF THE NEXT STEP IS BLOCKED\n",
    "                elif new_distance > self.current_dist: #if current route is shorter than newly calculated route, check for obstructions\n",
    "                    print('reroute: current route shorter than new route')\n",
    "                    if not has_path(self.G, self.position, self.next_position): \n",
    "                        self.current_route = new_route\n",
    "                        self.current_dist = new_distance\n",
    "                        self.route_chng += 1\n",
    "                    self.move()\n",
    "                    self.itinerary.append(self.position)\n",
    "                \n",
    "                \n",
    "                else: # final option is that current route is longer than new route (think Suez reopening after a while), here, we just take the new option\n",
    "                    print('reroute: current route longer than new route')\n",
    "                    self.current_route = new_route\n",
    "                    self.current_dist = new_distance\n",
    "                    self.move()\n",
    "                    self.itinerary.append(self.position)\n",
    "            \n",
    "            else: #if ship is arrived at final position, get a new route, and start back\n",
    "                print('arrival')\n",
    "                self.destination = self.reroute()\n",
    "                self.move()\n",
    "                self.itinerary.append(self.position)\n",
    "        print(\"Ship: {}, Source: {}, Destination: {}, Position: {},  Next Stop {}, Time until next Stop {}\".format(self.unique_id, self.itinerary[0], self.destination, self.position, self.next_position, self.state ))\n",
    "\n",
    "    \n",
    "    # def collect_time\n",
    "\n",
    "    # def collect_costs"
   ]
  },
  {
   "cell_type": "code",
   "execution_count": 125,
   "metadata": {},
   "outputs": [
    {
     "output_type": "stream",
     "name": "stdout",
     "text": [
      "\n",
      " Step:  0\n",
      "default case\n",
      "Ship: 1, Source: 2939, Destination: 3688, Position: 2040.0,  Next Stop 6868.0, Time until next Stop 0.17137985834056998\n",
      "\n",
      " Step:  1\n",
      "default case\n",
      "Ship: 1, Source: 2939, Destination: 3688, Position: 6868.0,  Next Stop 6869.0, Time until next Stop 2.0617668269297322\n",
      "\n",
      " Step:  2\n",
      "Ship: 1, Source: 2939, Destination: 3688, Position: 6868.0,  Next Stop 6869.0, Time until next Stop 1.0617668269297322\n",
      "\n",
      " Step:  3\n",
      "Ship: 1, Source: 2939, Destination: 3688, Position: 6868.0,  Next Stop 6869.0, Time until next Stop 0.06176682692973223\n",
      "\n",
      " Step:  4\n",
      "default case\n",
      "Ship: 1, Source: 2939, Destination: 3688, Position: 6869.0,  Next Stop 7100.0, Time until next Stop 0.0005984462812785849\n",
      "\n",
      " Step:  5\n",
      "default case\n",
      "Ship: 1, Source: 2939, Destination: 3688, Position: 7100.0,  Next Stop 27973.0, Time until next Stop 1.577854681949348\n",
      "\n",
      " Step:  6\n",
      "Ship: 1, Source: 2939, Destination: 3688, Position: 7100.0,  Next Stop 27973.0, Time until next Stop 0.577854681949348\n",
      "\n",
      " Step:  7\n",
      "default case\n",
      "Ship: 1, Source: 2939, Destination: 3688, Position: 27973.0,  Next Stop 2876.0, Time until next Stop 0.0006806417060500027\n",
      "\n",
      " Step:  8\n",
      "default case\n",
      "Ship: 1, Source: 2939, Destination: 3688, Position: 2876.0,  Next Stop 3268.0, Time until next Stop 0.008701367986945\n",
      "\n",
      " Step:  9\n",
      "default case\n",
      "Ship: 1, Source: 2939, Destination: 3688, Position: 3268.0,  Next Stop 3688.0, Time until next Stop 0.439669151510985\n",
      "\n",
      " Step:  10\n",
      "default case\n",
      "Ship: 1, Source: 2939, Destination: 3688, Position: 3688.0,  Next Stop 3688.0, Time until next Stop 0.07632206418937001\n",
      "\n",
      " Step:  11\n",
      "arrival\n"
     ]
    },
    {
     "output_type": "error",
     "ename": "IndexError",
     "evalue": "list index out of range",
     "traceback": [
      "\u001b[0;31m---------------------------------------------------------------------------\u001b[0m",
      "\u001b[0;31mIndexError\u001b[0m                                Traceback (most recent call last)",
      "\u001b[0;32m<ipython-input-125-01e78c7e5410>\u001b[0m in \u001b[0;36m<module>\u001b[0;34m\u001b[0m\n\u001b[1;32m      3\u001b[0m \u001b[0;32mfor\u001b[0m \u001b[0mi\u001b[0m \u001b[0;32min\u001b[0m \u001b[0mrange\u001b[0m\u001b[0;34m(\u001b[0m\u001b[0msteps\u001b[0m\u001b[0;34m)\u001b[0m\u001b[0;34m:\u001b[0m\u001b[0;34m\u001b[0m\u001b[0;34m\u001b[0m\u001b[0m\n\u001b[1;32m      4\u001b[0m     \u001b[0mprint\u001b[0m\u001b[0;34m(\u001b[0m\u001b[0;34m\"\\n\"\u001b[0m\u001b[0;34m,\u001b[0m \u001b[0;34m\"Step: \"\u001b[0m\u001b[0;34m,\u001b[0m \u001b[0mi\u001b[0m\u001b[0;34m)\u001b[0m\u001b[0;34m\u001b[0m\u001b[0;34m\u001b[0m\u001b[0m\n\u001b[0;32m----> 5\u001b[0;31m     \u001b[0mmodel\u001b[0m\u001b[0;34m.\u001b[0m\u001b[0mstep\u001b[0m\u001b[0;34m(\u001b[0m\u001b[0;34m)\u001b[0m\u001b[0;34m\u001b[0m\u001b[0;34m\u001b[0m\u001b[0m\n\u001b[0m\u001b[1;32m      6\u001b[0m \u001b[0magent_state\u001b[0m \u001b[0;34m=\u001b[0m \u001b[0mmodel\u001b[0m\u001b[0;34m.\u001b[0m\u001b[0mdatacollector\u001b[0m\u001b[0;34m.\u001b[0m\u001b[0mget_agent_vars_dataframe\u001b[0m\u001b[0;34m(\u001b[0m\u001b[0;34m)\u001b[0m\u001b[0;34m\u001b[0m\u001b[0;34m\u001b[0m\u001b[0m\n\u001b[1;32m      7\u001b[0m \u001b[0magent_state\u001b[0m\u001b[0;34m\u001b[0m\u001b[0;34m\u001b[0m\u001b[0m\n",
      "\u001b[0;32m<ipython-input-64-839e972f5c37>\u001b[0m in \u001b[0;36mstep\u001b[0;34m(self, change_type, change_edge)\u001b[0m\n\u001b[1;32m     46\u001b[0m             \u001b[0mself\u001b[0m\u001b[0;34m.\u001b[0m\u001b[0mgrid\u001b[0m\u001b[0;34m,\u001b[0m \u001b[0mself\u001b[0m\u001b[0;34m.\u001b[0m\u001b[0mG\u001b[0m \u001b[0;34m=\u001b[0m \u001b[0mnetwork_change\u001b[0m\u001b[0;34m(\u001b[0m\u001b[0mchange_type\u001b[0m\u001b[0;34m,\u001b[0m \u001b[0mchange_edge\u001b[0m\u001b[0;34m)\u001b[0m\u001b[0;34m\u001b[0m\u001b[0;34m\u001b[0m\u001b[0m\n\u001b[1;32m     47\u001b[0m \u001b[0;34m\u001b[0m\u001b[0m\n\u001b[0;32m---> 48\u001b[0;31m         \u001b[0mself\u001b[0m\u001b[0;34m.\u001b[0m\u001b[0mschedule\u001b[0m\u001b[0;34m.\u001b[0m\u001b[0mstep\u001b[0m\u001b[0;34m(\u001b[0m\u001b[0;34m)\u001b[0m     \u001b[0;31m#Run each Agents\u001b[0m\u001b[0;34m\u001b[0m\u001b[0;34m\u001b[0m\u001b[0m\n\u001b[0m\u001b[1;32m     49\u001b[0m \u001b[0;34m\u001b[0m\u001b[0m\n\u001b[1;32m     50\u001b[0m \u001b[0;34m\u001b[0m\u001b[0m\n",
      "\u001b[0;32m/Library/Frameworks/Python.framework/Versions/3.8/lib/python3.8/site-packages/mesa/time.py\u001b[0m in \u001b[0;36mstep\u001b[0;34m(self)\u001b[0m\n\u001b[1;32m    143\u001b[0m         \u001b[0magent_keys\u001b[0m \u001b[0;34m=\u001b[0m \u001b[0mlist\u001b[0m\u001b[0;34m(\u001b[0m\u001b[0mself\u001b[0m\u001b[0;34m.\u001b[0m\u001b[0m_agents\u001b[0m\u001b[0;34m.\u001b[0m\u001b[0mkeys\u001b[0m\u001b[0;34m(\u001b[0m\u001b[0;34m)\u001b[0m\u001b[0;34m)\u001b[0m\u001b[0;34m\u001b[0m\u001b[0;34m\u001b[0m\u001b[0m\n\u001b[1;32m    144\u001b[0m         \u001b[0;32mfor\u001b[0m \u001b[0magent_key\u001b[0m \u001b[0;32min\u001b[0m \u001b[0magent_keys\u001b[0m\u001b[0;34m:\u001b[0m\u001b[0;34m\u001b[0m\u001b[0;34m\u001b[0m\u001b[0m\n\u001b[0;32m--> 145\u001b[0;31m             \u001b[0mself\u001b[0m\u001b[0;34m.\u001b[0m\u001b[0m_agents\u001b[0m\u001b[0;34m[\u001b[0m\u001b[0magent_key\u001b[0m\u001b[0;34m]\u001b[0m\u001b[0;34m.\u001b[0m\u001b[0mstep\u001b[0m\u001b[0;34m(\u001b[0m\u001b[0;34m)\u001b[0m\u001b[0;34m\u001b[0m\u001b[0;34m\u001b[0m\u001b[0m\n\u001b[0m\u001b[1;32m    146\u001b[0m         \u001b[0;32mfor\u001b[0m \u001b[0magent_key\u001b[0m \u001b[0;32min\u001b[0m \u001b[0magent_keys\u001b[0m\u001b[0;34m:\u001b[0m\u001b[0;34m\u001b[0m\u001b[0;34m\u001b[0m\u001b[0m\n\u001b[1;32m    147\u001b[0m             \u001b[0mself\u001b[0m\u001b[0;34m.\u001b[0m\u001b[0m_agents\u001b[0m\u001b[0;34m[\u001b[0m\u001b[0magent_key\u001b[0m\u001b[0;34m]\u001b[0m\u001b[0;34m.\u001b[0m\u001b[0madvance\u001b[0m\u001b[0;34m(\u001b[0m\u001b[0;34m)\u001b[0m\u001b[0;34m\u001b[0m\u001b[0;34m\u001b[0m\u001b[0m\n",
      "\u001b[0;32m<ipython-input-124-68a3ed36fabb>\u001b[0m in \u001b[0;36mstep\u001b[0;34m(self)\u001b[0m\n\u001b[1;32m     79\u001b[0m                 \u001b[0mprint\u001b[0m\u001b[0;34m(\u001b[0m\u001b[0;34m'arrival'\u001b[0m\u001b[0;34m)\u001b[0m\u001b[0;34m\u001b[0m\u001b[0;34m\u001b[0m\u001b[0m\n\u001b[1;32m     80\u001b[0m                 \u001b[0mself\u001b[0m\u001b[0;34m.\u001b[0m\u001b[0mdestination\u001b[0m \u001b[0;34m=\u001b[0m \u001b[0mself\u001b[0m\u001b[0;34m.\u001b[0m\u001b[0mreroute\u001b[0m\u001b[0;34m(\u001b[0m\u001b[0;34m)\u001b[0m\u001b[0;34m\u001b[0m\u001b[0;34m\u001b[0m\u001b[0m\n\u001b[0;32m---> 81\u001b[0;31m                 \u001b[0mself\u001b[0m\u001b[0;34m.\u001b[0m\u001b[0mmove\u001b[0m\u001b[0;34m(\u001b[0m\u001b[0;34m)\u001b[0m\u001b[0;34m\u001b[0m\u001b[0;34m\u001b[0m\u001b[0m\n\u001b[0m\u001b[1;32m     82\u001b[0m                 \u001b[0mself\u001b[0m\u001b[0;34m.\u001b[0m\u001b[0mitinerary\u001b[0m\u001b[0;34m.\u001b[0m\u001b[0mappend\u001b[0m\u001b[0;34m(\u001b[0m\u001b[0mself\u001b[0m\u001b[0;34m.\u001b[0m\u001b[0mposition\u001b[0m\u001b[0;34m)\u001b[0m\u001b[0;34m\u001b[0m\u001b[0;34m\u001b[0m\u001b[0m\n\u001b[1;32m     83\u001b[0m         \u001b[0mprint\u001b[0m\u001b[0;34m(\u001b[0m\u001b[0;34m\"Ship: {}, Source: {}, Destination: {}, Position: {},  Next Stop {}, Time until next Stop {}\"\u001b[0m\u001b[0;34m.\u001b[0m\u001b[0mformat\u001b[0m\u001b[0;34m(\u001b[0m\u001b[0mself\u001b[0m\u001b[0;34m.\u001b[0m\u001b[0munique_id\u001b[0m\u001b[0;34m,\u001b[0m \u001b[0mself\u001b[0m\u001b[0;34m.\u001b[0m\u001b[0mitinerary\u001b[0m\u001b[0;34m[\u001b[0m\u001b[0;36m0\u001b[0m\u001b[0;34m]\u001b[0m\u001b[0;34m,\u001b[0m \u001b[0mself\u001b[0m\u001b[0;34m.\u001b[0m\u001b[0mdestination\u001b[0m\u001b[0;34m,\u001b[0m \u001b[0mself\u001b[0m\u001b[0;34m.\u001b[0m\u001b[0mposition\u001b[0m\u001b[0;34m,\u001b[0m \u001b[0mself\u001b[0m\u001b[0;34m.\u001b[0m\u001b[0mnext_position\u001b[0m\u001b[0;34m,\u001b[0m \u001b[0mself\u001b[0m\u001b[0;34m.\u001b[0m\u001b[0mstate\u001b[0m \u001b[0;34m)\u001b[0m\u001b[0;34m)\u001b[0m\u001b[0;34m\u001b[0m\u001b[0;34m\u001b[0m\u001b[0m\n",
      "\u001b[0;32m<ipython-input-124-68a3ed36fabb>\u001b[0m in \u001b[0;36mmove\u001b[0;34m(self)\u001b[0m\n\u001b[1;32m     26\u001b[0m \u001b[0;34m\u001b[0m\u001b[0m\n\u001b[1;32m     27\u001b[0m     \u001b[0;32mdef\u001b[0m \u001b[0mmove\u001b[0m\u001b[0;34m(\u001b[0m\u001b[0mself\u001b[0m\u001b[0;34m)\u001b[0m\u001b[0;34m:\u001b[0m\u001b[0;34m\u001b[0m\u001b[0;34m\u001b[0m\u001b[0m\n\u001b[0;32m---> 28\u001b[0;31m         \u001b[0mself\u001b[0m\u001b[0;34m.\u001b[0m\u001b[0mnext_position\u001b[0m \u001b[0;34m=\u001b[0m \u001b[0mself\u001b[0m\u001b[0;34m.\u001b[0m\u001b[0mcurrent_route\u001b[0m\u001b[0;34m[\u001b[0m\u001b[0;36m1\u001b[0m\u001b[0;34m]\u001b[0m\u001b[0;34m\u001b[0m\u001b[0;34m\u001b[0m\u001b[0m\n\u001b[0m\u001b[1;32m     29\u001b[0m         \u001b[0mself\u001b[0m\u001b[0;34m.\u001b[0m\u001b[0mstep_size\u001b[0m \u001b[0;34m=\u001b[0m \u001b[0mself\u001b[0m\u001b[0;34m.\u001b[0m\u001b[0mident_distance\u001b[0m\u001b[0;34m(\u001b[0m\u001b[0;34m)\u001b[0m \u001b[0;31m#look up the distance between two cities\u001b[0m\u001b[0;34m\u001b[0m\u001b[0;34m\u001b[0m\u001b[0m\n\u001b[1;32m     30\u001b[0m         \u001b[0mself\u001b[0m\u001b[0;34m.\u001b[0m\u001b[0mstate\u001b[0m \u001b[0;34m=\u001b[0m \u001b[0mself\u001b[0m\u001b[0;34m.\u001b[0m\u001b[0mstep_size\u001b[0m \u001b[0;34m/\u001b[0m \u001b[0mself\u001b[0m\u001b[0;34m.\u001b[0m\u001b[0mspeed\u001b[0m \u001b[0;31m#change state to step amount\u001b[0m\u001b[0;34m\u001b[0m\u001b[0;34m\u001b[0m\u001b[0m\n",
      "\u001b[0;31mIndexError\u001b[0m: list index out of range"
     ]
    }
   ],
   "source": [
    "\n",
    "model = ShippingNetwork(N, distances, 1)\n",
    "steps = 20\n",
    "for i in range(steps):\n",
    "    print(\"\\n\", \"Step: \", i)\n",
    "    model.step()\n",
    "agent_state = model.datacollector.get_agent_vars_dataframe()\n",
    "agent_state"
   ]
  },
  {
   "cell_type": "code",
   "execution_count": 126,
   "metadata": {},
   "outputs": [
    {
     "output_type": "execute_result",
     "data": {
      "text/plain": [
       "              Position  Destination  \\\n",
       "Step AgentID                          \n",
       "0    1          2939.0         3688   \n",
       "1    1          2040.0         3688   \n",
       "2    1          6868.0         3688   \n",
       "3    1          6868.0         3688   \n",
       "4    1          6868.0         3688   \n",
       "5    1          6869.0         3688   \n",
       "6    1          7100.0         3688   \n",
       "7    1          7100.0         3688   \n",
       "8    1         27973.0         3688   \n",
       "9    1          2876.0         3688   \n",
       "10   1          3268.0         3688   \n",
       "11   1          3688.0         3688   \n",
       "\n",
       "                                                      Itinerary  \\\n",
       "Step AgentID                                                      \n",
       "0    1        [2939, 2040.0, 6868.0, 6869.0, 7100.0, 27973.0...   \n",
       "1    1        [2939, 2040.0, 6868.0, 6869.0, 7100.0, 27973.0...   \n",
       "2    1        [2939, 2040.0, 6868.0, 6869.0, 7100.0, 27973.0...   \n",
       "3    1        [2939, 2040.0, 6868.0, 6869.0, 7100.0, 27973.0...   \n",
       "4    1        [2939, 2040.0, 6868.0, 6869.0, 7100.0, 27973.0...   \n",
       "5    1        [2939, 2040.0, 6868.0, 6869.0, 7100.0, 27973.0...   \n",
       "6    1        [2939, 2040.0, 6868.0, 6869.0, 7100.0, 27973.0...   \n",
       "7    1        [2939, 2040.0, 6868.0, 6869.0, 7100.0, 27973.0...   \n",
       "8    1        [2939, 2040.0, 6868.0, 6869.0, 7100.0, 27973.0...   \n",
       "9    1        [2939, 2040.0, 6868.0, 6869.0, 7100.0, 27973.0...   \n",
       "10   1        [2939, 2040.0, 6868.0, 6869.0, 7100.0, 27973.0...   \n",
       "11   1        [2939, 2040.0, 6868.0, 6869.0, 7100.0, 27973.0...   \n",
       "\n",
       "              Distance_Traveled     route  \n",
       "Step AgentID                               \n",
       "0    1                 0.000000  [3688.0]  \n",
       "1    1               374.293611  [3688.0]  \n",
       "2    1               748.587221  [3688.0]  \n",
       "3    1               748.587221  [3688.0]  \n",
       "4    1               748.587221  [3688.0]  \n",
       "5    1              5251.485971  [3688.0]  \n",
       "6    1              5252.792978  [3688.0]  \n",
       "7    1              5252.792978  [3688.0]  \n",
       "8    1              8698.827603  [3688.0]  \n",
       "9    1              8700.314125  [3688.0]  \n",
       "10   1              8719.317912  [3688.0]  \n",
       "11   1              9679.555339  [3688.0]  "
      ],
      "text/html": "<div>\n<style scoped>\n    .dataframe tbody tr th:only-of-type {\n        vertical-align: middle;\n    }\n\n    .dataframe tbody tr th {\n        vertical-align: top;\n    }\n\n    .dataframe thead th {\n        text-align: right;\n    }\n</style>\n<table border=\"1\" class=\"dataframe\">\n  <thead>\n    <tr style=\"text-align: right;\">\n      <th></th>\n      <th></th>\n      <th>Position</th>\n      <th>Destination</th>\n      <th>Itinerary</th>\n      <th>Distance_Traveled</th>\n      <th>route</th>\n    </tr>\n    <tr>\n      <th>Step</th>\n      <th>AgentID</th>\n      <th></th>\n      <th></th>\n      <th></th>\n      <th></th>\n      <th></th>\n    </tr>\n  </thead>\n  <tbody>\n    <tr>\n      <th>0</th>\n      <th>1</th>\n      <td>2939.0</td>\n      <td>3688</td>\n      <td>[2939, 2040.0, 6868.0, 6869.0, 7100.0, 27973.0...</td>\n      <td>0.000000</td>\n      <td>[3688.0]</td>\n    </tr>\n    <tr>\n      <th>1</th>\n      <th>1</th>\n      <td>2040.0</td>\n      <td>3688</td>\n      <td>[2939, 2040.0, 6868.0, 6869.0, 7100.0, 27973.0...</td>\n      <td>374.293611</td>\n      <td>[3688.0]</td>\n    </tr>\n    <tr>\n      <th>2</th>\n      <th>1</th>\n      <td>6868.0</td>\n      <td>3688</td>\n      <td>[2939, 2040.0, 6868.0, 6869.0, 7100.0, 27973.0...</td>\n      <td>748.587221</td>\n      <td>[3688.0]</td>\n    </tr>\n    <tr>\n      <th>3</th>\n      <th>1</th>\n      <td>6868.0</td>\n      <td>3688</td>\n      <td>[2939, 2040.0, 6868.0, 6869.0, 7100.0, 27973.0...</td>\n      <td>748.587221</td>\n      <td>[3688.0]</td>\n    </tr>\n    <tr>\n      <th>4</th>\n      <th>1</th>\n      <td>6868.0</td>\n      <td>3688</td>\n      <td>[2939, 2040.0, 6868.0, 6869.0, 7100.0, 27973.0...</td>\n      <td>748.587221</td>\n      <td>[3688.0]</td>\n    </tr>\n    <tr>\n      <th>5</th>\n      <th>1</th>\n      <td>6869.0</td>\n      <td>3688</td>\n      <td>[2939, 2040.0, 6868.0, 6869.0, 7100.0, 27973.0...</td>\n      <td>5251.485971</td>\n      <td>[3688.0]</td>\n    </tr>\n    <tr>\n      <th>6</th>\n      <th>1</th>\n      <td>7100.0</td>\n      <td>3688</td>\n      <td>[2939, 2040.0, 6868.0, 6869.0, 7100.0, 27973.0...</td>\n      <td>5252.792978</td>\n      <td>[3688.0]</td>\n    </tr>\n    <tr>\n      <th>7</th>\n      <th>1</th>\n      <td>7100.0</td>\n      <td>3688</td>\n      <td>[2939, 2040.0, 6868.0, 6869.0, 7100.0, 27973.0...</td>\n      <td>5252.792978</td>\n      <td>[3688.0]</td>\n    </tr>\n    <tr>\n      <th>8</th>\n      <th>1</th>\n      <td>27973.0</td>\n      <td>3688</td>\n      <td>[2939, 2040.0, 6868.0, 6869.0, 7100.0, 27973.0...</td>\n      <td>8698.827603</td>\n      <td>[3688.0]</td>\n    </tr>\n    <tr>\n      <th>9</th>\n      <th>1</th>\n      <td>2876.0</td>\n      <td>3688</td>\n      <td>[2939, 2040.0, 6868.0, 6869.0, 7100.0, 27973.0...</td>\n      <td>8700.314125</td>\n      <td>[3688.0]</td>\n    </tr>\n    <tr>\n      <th>10</th>\n      <th>1</th>\n      <td>3268.0</td>\n      <td>3688</td>\n      <td>[2939, 2040.0, 6868.0, 6869.0, 7100.0, 27973.0...</td>\n      <td>8719.317912</td>\n      <td>[3688.0]</td>\n    </tr>\n    <tr>\n      <th>11</th>\n      <th>1</th>\n      <td>3688.0</td>\n      <td>3688</td>\n      <td>[2939, 2040.0, 6868.0, 6869.0, 7100.0, 27973.0...</td>\n      <td>9679.555339</td>\n      <td>[3688.0]</td>\n    </tr>\n  </tbody>\n</table>\n</div>"
     },
     "metadata": {},
     "execution_count": 126
    }
   ],
   "source": [
    "agent_state = model.datacollector.get_agent_vars_dataframe()\n",
    "agent_state\n"
   ]
  },
  {
   "cell_type": "code",
   "execution_count": 127,
   "metadata": {},
   "outputs": [
    {
     "output_type": "execute_result",
     "data": {
      "text/plain": [
       "[2939, 2040.0, 6868.0, 6869.0, 7100.0, 27973.0, 2876.0, 3268.0, 3688.0]"
      ]
     },
     "metadata": {},
     "execution_count": 127
    }
   ],
   "source": [
    "route = nx.dijkstra_path(G,2939, 3688, weight='length')\n",
    "route"
   ]
  },
  {
   "cell_type": "code",
   "execution_count": 123,
   "metadata": {},
   "outputs": [
    {
     "output_type": "execute_result",
     "data": {
      "text/plain": [
       "597.5009531952306"
      ]
     },
     "metadata": {},
     "execution_count": 123
    }
   ],
   "source": [
    " travel_distance = nx.dijkstra_path_length(G,5561, 6165, weight='length')\n",
    " travel_distance *"
   ]
  },
  {
   "cell_type": "code",
   "execution_count": 88,
   "metadata": {},
   "outputs": [
    {
     "output_type": "stream",
     "name": "stderr",
     "text": [
      "/Library/Frameworks/Python.framework/Versions/3.8/lib/python3.8/site-packages/pandas/core/ops/array_ops.py:253: FutureWarning: elementwise comparison failed; returning scalar instead, but in the future will perform elementwise comparison\n  res_values = method(rvalues)\n"
     ]
    },
    {
     "output_type": "error",
     "ename": "ValueError",
     "evalue": "The truth value of a DataFrame is ambiguous. Use a.empty, a.bool(), a.item(), a.any() or a.all().",
     "traceback": [
      "\u001b[0;31m---------------------------------------------------------------------------\u001b[0m",
      "\u001b[0;31mValueError\u001b[0m                                Traceback (most recent call last)",
      "\u001b[0;32m<ipython-input-88-8d705cdeffcf>\u001b[0m in \u001b[0;36m<module>\u001b[0;34m\u001b[0m\n\u001b[1;32m     21\u001b[0m \u001b[0mfig\u001b[0m\u001b[0;34m,\u001b[0m\u001b[0max\u001b[0m\u001b[0;34m=\u001b[0m\u001b[0mplt\u001b[0m\u001b[0;34m.\u001b[0m\u001b[0msubplots\u001b[0m\u001b[0;34m(\u001b[0m\u001b[0;36m1\u001b[0m\u001b[0;34m,\u001b[0m\u001b[0;36m2\u001b[0m\u001b[0;34m,\u001b[0m\u001b[0mfigsize\u001b[0m\u001b[0;34m=\u001b[0m\u001b[0;34m(\u001b[0m\u001b[0;36m16\u001b[0m\u001b[0;34m,\u001b[0m\u001b[0;36m10\u001b[0m\u001b[0;34m)\u001b[0m\u001b[0;34m)\u001b[0m\u001b[0;34m\u001b[0m\u001b[0;34m\u001b[0m\u001b[0m\n\u001b[1;32m     22\u001b[0m \u001b[0mmodel\u001b[0m \u001b[0;34m=\u001b[0m \u001b[0mShippingNetwork\u001b[0m\u001b[0;34m(\u001b[0m\u001b[0mN\u001b[0m\u001b[0;34m,\u001b[0m \u001b[0mdistances\u001b[0m\u001b[0;34m)\u001b[0m\u001b[0;34m\u001b[0m\u001b[0;34m\u001b[0m\u001b[0m\n\u001b[0;32m---> 23\u001b[0;31m \u001b[0mmodel\u001b[0m\u001b[0;34m.\u001b[0m\u001b[0mstep\u001b[0m\u001b[0;34m(\u001b[0m\u001b[0mdistances\u001b[0m\u001b[0;34m)\u001b[0m\u001b[0;34m\u001b[0m\u001b[0;34m\u001b[0m\u001b[0m\n\u001b[0m\u001b[1;32m     24\u001b[0m \u001b[0mf\u001b[0m\u001b[0;34m=\u001b[0m\u001b[0mplot_grid\u001b[0m\u001b[0;34m(\u001b[0m\u001b[0mmodel\u001b[0m\u001b[0;34m,\u001b[0m\u001b[0mfig\u001b[0m\u001b[0;34m,\u001b[0m\u001b[0mlayout\u001b[0m\u001b[0;34m=\u001b[0m\u001b[0;34m'kamada-kawai'\u001b[0m\u001b[0;34m)\u001b[0m\u001b[0;34m\u001b[0m\u001b[0;34m\u001b[0m\u001b[0m\n",
      "\u001b[0;32m<ipython-input-64-839e972f5c37>\u001b[0m in \u001b[0;36mstep\u001b[0;34m(self, change_type, change_edge)\u001b[0m\n\u001b[1;32m     43\u001b[0m         \u001b[0mself\u001b[0m\u001b[0;34m.\u001b[0m\u001b[0mdatacollector\u001b[0m\u001b[0;34m.\u001b[0m\u001b[0mcollect\u001b[0m\u001b[0;34m(\u001b[0m\u001b[0mself\u001b[0m\u001b[0;34m)\u001b[0m\u001b[0;34m\u001b[0m\u001b[0;34m\u001b[0m\u001b[0m\n\u001b[1;32m     44\u001b[0m         \u001b[0;31m#check network for changes\u001b[0m\u001b[0;34m\u001b[0m\u001b[0;34m\u001b[0m\u001b[0;34m\u001b[0m\u001b[0m\n\u001b[0;32m---> 45\u001b[0;31m         \u001b[0;32mif\u001b[0m \u001b[0mchange_type\u001b[0m \u001b[0;34m!=\u001b[0m \u001b[0;34m''\u001b[0m \u001b[0;34m:\u001b[0m\u001b[0;34m\u001b[0m\u001b[0;34m\u001b[0m\u001b[0m\n\u001b[0m\u001b[1;32m     46\u001b[0m             \u001b[0mself\u001b[0m\u001b[0;34m.\u001b[0m\u001b[0mgrid\u001b[0m\u001b[0;34m,\u001b[0m \u001b[0mself\u001b[0m\u001b[0;34m.\u001b[0m\u001b[0mG\u001b[0m \u001b[0;34m=\u001b[0m \u001b[0mnetwork_change\u001b[0m\u001b[0;34m(\u001b[0m\u001b[0mchange_type\u001b[0m\u001b[0;34m,\u001b[0m \u001b[0mchange_edge\u001b[0m\u001b[0;34m)\u001b[0m\u001b[0;34m\u001b[0m\u001b[0;34m\u001b[0m\u001b[0m\n\u001b[1;32m     47\u001b[0m \u001b[0;34m\u001b[0m\u001b[0m\n",
      "\u001b[0;32m/Library/Frameworks/Python.framework/Versions/3.8/lib/python3.8/site-packages/pandas/core/generic.py\u001b[0m in \u001b[0;36m__nonzero__\u001b[0;34m(self)\u001b[0m\n\u001b[1;32m   1476\u001b[0m \u001b[0;34m\u001b[0m\u001b[0m\n\u001b[1;32m   1477\u001b[0m     \u001b[0;32mdef\u001b[0m \u001b[0m__nonzero__\u001b[0m\u001b[0;34m(\u001b[0m\u001b[0mself\u001b[0m\u001b[0;34m)\u001b[0m\u001b[0;34m:\u001b[0m\u001b[0;34m\u001b[0m\u001b[0;34m\u001b[0m\u001b[0m\n\u001b[0;32m-> 1478\u001b[0;31m         raise ValueError(\n\u001b[0m\u001b[1;32m   1479\u001b[0m             \u001b[0;34mf\"The truth value of a {type(self).__name__} is ambiguous. \"\u001b[0m\u001b[0;34m\u001b[0m\u001b[0;34m\u001b[0m\u001b[0m\n\u001b[1;32m   1480\u001b[0m             \u001b[0;34m\"Use a.empty, a.bool(), a.item(), a.any() or a.all().\"\u001b[0m\u001b[0;34m\u001b[0m\u001b[0;34m\u001b[0m\u001b[0m\n",
      "\u001b[0;31mValueError\u001b[0m: The truth value of a DataFrame is ambiguous. Use a.empty, a.bool(), a.item(), a.any() or a.all()."
     ]
    }
   ],
   "source": [
    "from matplotlib.colors import ListedColormap, LinearSegmentedColormap\n",
    "cmap = ListedColormap([\"lightblue\", \"orange\", \"green\",])\n",
    "\n",
    "def plot_grid(model,fig,layout='spring',title=''):\n",
    "    graph = model.G\n",
    "    if layout == 'kamada-kawai':      \n",
    "        pos = nx.kamada_kawai_layout(graph)  \n",
    "    elif layout == 'circular':\n",
    "        pos = nx.circular_layout(graph)\n",
    "    else:\n",
    "        pos = nx.spring_layout(graph, iterations=5, seed=8)  \n",
    "    plt.clf()\n",
    "    ax=fig.add_subplot()\n",
    "\n",
    "    nx.draw(graph, pos, node_size=100, edge_color='gray', with_labels=True,\n",
    "            alpha=0.9,font_size=14,ax=ax)\n",
    "    ax.set_title(title)\n",
    "    return\n",
    "\n",
    "#example usage\n",
    "fig,ax=plt.subplots(1,2,figsize=(16,10))\n",
    "model = ShippingNetwork(N, distances)\n",
    "model.step(distances)\n",
    "f=plot_grid(model,fig,layout='kamada-kawai')"
   ]
  },
  {
   "cell_type": "code",
   "execution_count": 24,
   "metadata": {},
   "outputs": [
    {
     "output_type": "execute_result",
     "data": {
      "text/plain": [
       "[]"
      ]
     },
     "metadata": {},
     "execution_count": 24
    }
   ],
   "source": [
    "model.schedule."
   ]
  }
 ]
}