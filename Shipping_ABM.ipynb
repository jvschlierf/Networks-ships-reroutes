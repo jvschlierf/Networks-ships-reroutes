{
 "metadata": {
  "language_info": {
   "codemirror_mode": {
    "name": "ipython",
    "version": 3
   },
   "file_extension": ".py",
   "mimetype": "text/x-python",
   "name": "python",
   "nbconvert_exporter": "python",
   "pygments_lexer": "ipython3",
   "version": "3.7.7"
  },
  "orig_nbformat": 2,
  "kernelspec": {
   "name": "python377jvsc74a57bd0c657ab3134d4d36fa6659201da87ce22dbf2c2b56e557e7a3dd81d87fd1e5788",
   "display_name": "Python 3.7.7 64-bit ('Sim_mod': conda)"
  }
 },
 "nbformat": 4,
 "nbformat_minor": 2,
 "cells": [
  {
   "source": [
    "# ABM"
   ],
   "cell_type": "markdown",
   "metadata": {}
  },
  {
   "cell_type": "code",
   "execution_count": 56,
   "metadata": {},
   "outputs": [],
   "source": [
    "import time, enum, math\n",
    "import numpy as np\n",
    "import pandas as pd\n",
    "import pylab as plt\n",
    "from mesa import Agent, Model\n",
    "from mesa.time import SimultaneousActivation, RandomActivation\n",
    "from mesa.space import NetworkGrid\n",
    "from mesa.datacollection import DataCollector\n",
    "from networkx.algorithms.shortest_paths.generic import has_path\n",
    "import networkx as nx\n",
    "import panel as pn\n",
    "import panel.widgets as pnw\n",
    "import random\n",
    "from tqdm import tqdm, trange\n",
    "from time import sleep\n",
    "\n",
    "data_path = '../' #set to wherever the data files are, will be used on every input"
   ]
  },
  {
   "cell_type": "code",
   "execution_count": 51,
   "metadata": {},
   "outputs": [
    {
     "output_type": "stream",
     "name": "stderr",
     "text": [
      "100%|██████████| 100/100 [00:10<00:00,  9.65it/s]\n"
     ]
    }
   ],
   "source": [
    "for i in tqdm(range(100)):\n",
    "    sleep(0.1)"
   ]
  },
  {
   "cell_type": "code",
   "execution_count": 3,
   "metadata": {},
   "outputs": [],
   "source": [
    "def kmtoNaut(km):\n",
    "    return km / 1.852"
   ]
  },
  {
   "cell_type": "code",
   "execution_count": 10,
   "metadata": {},
   "outputs": [],
   "source": [
    "ports = pd.read_csv((data_path +'ports.csv'))\n",
    "data = pd.read_csv((data_path + 'distances.csv'))\n",
    "origin = pd.read_csv((data_path + 'origin_ports.csv'))"
   ]
  },
  {
   "cell_type": "code",
   "execution_count": 14,
   "metadata": {},
   "outputs": [],
   "source": [
    "distances = data[[\"prev_port\", \"next_port\", \"distance\"]]"
   ]
  },
  {
   "cell_type": "code",
   "execution_count": 18,
   "metadata": {},
   "outputs": [
    {
     "output_type": "execute_result",
     "data": {
      "text/plain": [
       "prev_port      int64\n",
       "next_port      int64\n",
       "distance     float64\n",
       "dtype: object"
      ]
     },
     "metadata": {},
     "execution_count": 18
    }
   ],
   "source": [
    "distances.astype({'prev_port':'int64', 'next_port':'int64'}).dtypes"
   ]
  },
  {
   "cell_type": "code",
   "execution_count": 24,
   "metadata": {},
   "outputs": [
    {
     "output_type": "execute_result",
     "data": {
      "text/plain": [
       "         Port_Name        Port_Ref Country  1000TEU (2017)     Ref      PROB\n",
       "0         Shanghai   Shanghai Gang   China           40233  2005.0  0.090629\n",
       "1  Ningbo-Zhoushan        ZHOUSHAN   China           24607  2232.0  0.055430\n",
       "2        Hong Kong       HONG KONG   China           20770  3128.0  0.046786\n",
       "3            Busan      Busan Hang   Korea           20493  2034.0  0.046162\n",
       "4        Guangzhou  Guangzhou Gang   China           18858  2001.0  0.042479"
      ],
      "text/html": "<div>\n<style scoped>\n    .dataframe tbody tr th:only-of-type {\n        vertical-align: middle;\n    }\n\n    .dataframe tbody tr th {\n        vertical-align: top;\n    }\n\n    .dataframe thead th {\n        text-align: right;\n    }\n</style>\n<table border=\"1\" class=\"dataframe\">\n  <thead>\n    <tr style=\"text-align: right;\">\n      <th></th>\n      <th>Port_Name</th>\n      <th>Port_Ref</th>\n      <th>Country</th>\n      <th>1000TEU (2017)</th>\n      <th>Ref</th>\n      <th>PROB</th>\n    </tr>\n  </thead>\n  <tbody>\n    <tr>\n      <th>0</th>\n      <td>Shanghai</td>\n      <td>Shanghai Gang</td>\n      <td>China</td>\n      <td>40233</td>\n      <td>2005.0</td>\n      <td>0.090629</td>\n    </tr>\n    <tr>\n      <th>1</th>\n      <td>Ningbo-Zhoushan</td>\n      <td>ZHOUSHAN</td>\n      <td>China</td>\n      <td>24607</td>\n      <td>2232.0</td>\n      <td>0.055430</td>\n    </tr>\n    <tr>\n      <th>2</th>\n      <td>Hong Kong</td>\n      <td>HONG KONG</td>\n      <td>China</td>\n      <td>20770</td>\n      <td>3128.0</td>\n      <td>0.046786</td>\n    </tr>\n    <tr>\n      <th>3</th>\n      <td>Busan</td>\n      <td>Busan Hang</td>\n      <td>Korea</td>\n      <td>20493</td>\n      <td>2034.0</td>\n      <td>0.046162</td>\n    </tr>\n    <tr>\n      <th>4</th>\n      <td>Guangzhou</td>\n      <td>Guangzhou Gang</td>\n      <td>China</td>\n      <td>18858</td>\n      <td>2001.0</td>\n      <td>0.042479</td>\n    </tr>\n  </tbody>\n</table>\n</div>"
     },
     "metadata": {},
     "execution_count": 24
    }
   ],
   "source": [
    "origin.head()"
   ]
  },
  {
   "cell_type": "code",
   "execution_count": 263,
   "metadata": {},
   "outputs": [
    {
     "output_type": "execute_result",
     "data": {
      "text/plain": [
       "49"
      ]
     },
     "metadata": {},
     "execution_count": 263
    }
   ],
   "source": [
    "e = 0\n",
    "for index, row in origin.iterrows():\n",
    "    if pd.isna(ports.iloc[index][\"INDEX_NO\"]):\n",
    "        e += 1\n",
    "\n",
    "e"
   ]
  },
  {
   "cell_type": "code",
   "execution_count": 11,
   "metadata": {},
   "outputs": [
    {
     "output_type": "stream",
     "name": "stdout",
     "text": [
      "2842\n"
     ]
    }
   ],
   "source": [
    "N = data[\"next_port\"].tolist()\n",
    "N = list(set(N))\n",
    "print(len(N))"
   ]
  },
  {
   "cell_type": "code",
   "execution_count": 25,
   "metadata": {},
   "outputs": [
    {
     "output_type": "stream",
     "name": "stdout",
     "text": [
      "2107.0\n"
     ]
    }
   ],
   "source": [
    "print(np.random.choice(origin[\"Ref\"], size=None, replace=True,  p=origin[\"PROB\"]))"
   ]
  },
  {
   "cell_type": "code",
   "execution_count": 19,
   "metadata": {},
   "outputs": [],
   "source": [
    "G = nx.MultiGraph()\n",
    "G.add_nodes_from(N) #instatiate the ports as nodes of network\n",
    "for i in range(len(distances)): #create bi-directional edges with an attribute for length \n",
    "       G.add_edge(distances.iloc[i][0], distances.iloc[i][1], length=distances.iloc[i][2])\n",
    "grid = NetworkGrid(G) #Define Mesa Grid as the just created Network to allow for shipping only in routes"
   ]
  },
  {
   "cell_type": "code",
   "execution_count": 236,
   "metadata": {},
   "outputs": [
    {
     "output_type": "execute_result",
     "data": {
      "text/plain": [
       "3579"
      ]
     },
     "metadata": {},
     "execution_count": 236
    }
   ],
   "source": [
    "random.sample(G.nodes, k=1)[0]"
   ]
  },
  {
   "cell_type": "code",
   "execution_count": 59,
   "metadata": {},
   "outputs": [],
   "source": [
    "class ShippingNetwork(Model):\n",
    "    def __init__(self, N, distances, major_ports, S=2):\n",
    "        N\n",
    "        self.major_ports = major_ports\n",
    "        self.num_ships = S\n",
    "        self.distances = distances\n",
    "        self.schedule = SimultaneousActivation(self)\n",
    "        self.running = True\n",
    "\n",
    "        self.G = nx.MultiGraph()\n",
    "        self.G.add_nodes_from(N) #instatiate the ports as nodes of network\n",
    "        \n",
    "       \n",
    "        for i in tqdm(range(len(distances)), desc=\"Building Network\" ): #create bi-directional edges with an attribute for length \n",
    "            self.G.add_edge(distances.iloc[i][0], distances.iloc[i][1], length=distances.iloc[i][2])\n",
    "            \n",
    "        \n",
    "        self.grid = NetworkGrid(self.G) #Define Mesa Grid as the just created Network to allow for shipping only in routes\n",
    "       \n",
    "\n",
    "        #create ability to remove edges mid-model\n",
    "        def network_change(self, change_type, change_edge):\n",
    "            if change_type == \"add\":\n",
    "                self.G.add_edge(self.change_edge[0], self.change_edge[1], length=self.change_edge[2])\n",
    "            if change_type == \"remove\":\n",
    "                self.G.remove_edge(self.change_edge[0],self.change_edge[1]) #can we identify an edge by node 1, node 2 & distance?\n",
    "            #update model with new grid    \n",
    "            return NetworkGrid(self.G), G\n",
    "\n",
    "\n",
    "        #create agents \n",
    "        Ships = []\n",
    "       \n",
    "        for i in tqdm(range(self.num_ships), desc=\"Placing Ships\"):\n",
    "            dest_port = random.sample(self.G.nodes, k=1)[0] # Sample the destination \n",
    "            start_port = np.random.choice(self.major_ports[\"Ref\"], size=None, replace=True,  p=self.major_ports[\"PROB\"])\n",
    "            destin_port = random.sample(self.G.nodes, k=1)[0]\n",
    "            #We sample the origin port from a list of the 50 biggest ports world, with the prob = TAU of the port / TAU of all origin ports for 2017\n",
    "            a = Ship(i+1, self, self.G, start_port, destin_port, major_ports)\n",
    "            self.schedule.add(a)\n",
    "            #append to list of ships\n",
    "            Ships.append(a)\n",
    "        \n",
    "            #place agent on origin node\n",
    "            self.grid.place_agent(a, start_port)\n",
    "\n",
    "\n",
    "\n",
    "        self.datacollector = DataCollector(\n",
    "            model_reporters={\"Graph\":\"G\"},\n",
    "            agent_reporters={\"Position\": \"position\", \"Destination\":\"destination\", \"Itinerary\":\"itinerary\", \"Distance_Traveled\":\"distance_traveled\", \"Route\":\"current_route\", \"Route Changes\":\"route_chng\" })\n",
    "\n",
    "\n",
    "    def step(self, change_type='', change_edge=[]):\n",
    "        #check network for changes\n",
    "        if change_type != '' :\n",
    "            self.grid, self.G = network_change(change_type, change_edge)\n",
    "\n",
    "        self.schedule.step()     #Run each Agents\n",
    "        self.datacollector.collect(self)"
   ]
  },
  {
   "cell_type": "code",
   "execution_count": 53,
   "metadata": {},
   "outputs": [],
   "source": [
    "class Ship(Agent):\n",
    "    def __init__(self, unique_id, model, G, start_port, destin_port, major_ports, s=13.0):\n",
    "        super().__init__(unique_id, model)\n",
    "        self.destination = destin_port\n",
    "        self.state = 0 #0 for active, numbers > 0 for weeks that ships have to \"wait\" until arrival to port\n",
    "        self.speed = s*24*1.852 #speed is given in knots, with 1 knot being 1 nautical mile per hour. Since the model works with distances in km, we convert here (1 nm = 1.852m)\n",
    "        self.position = start_port\n",
    "        self.init_route = nx.dijkstra_path(G, self.position, self.destination, weight='length') #We keep a copy of the entire itinerary / distance traveled\n",
    "        self.init_dist = nx.dijkstra_path_length(G,self.position, self.destination, weight='length') \n",
    "        self.current_route, self.current_dist = self.init_route, self.init_dist  #For comparison & navigational purposes, we use current route & distance\n",
    "        self.next_position = self.current_route[1]\n",
    "        self.itinerary = [self.position]\n",
    "        self.distance_traveled = 0\n",
    "        self.unique_id = unique_id\n",
    "        self.G = G\n",
    "        self.step_size = self.ident_distance()\n",
    "        self.route_chng = 0\n",
    "        self.routes = 0\n",
    "        self.major_ports = major_ports\n",
    "    \n",
    "\n",
    "    def routing(self):\n",
    "        #implement dijkstra to define shortest route\n",
    "        route = nx.dijkstra_path(self.G, self.position, self.destination, weight='length')\n",
    "        travel_distance = nx.dijkstra_path_length(self.G,self.position, self.destination, weight='length')\n",
    "        #include a way for capacity?\n",
    "        return route, travel_distance\n",
    "\n",
    "    def move(self):\n",
    "        self.next_position = self.current_route[1]\n",
    "        self.step_size = self.ident_distance() #look up the distance between two cities \n",
    "        self.state = self.step_size / self.speed #change state to step amount\n",
    "        self.current_dist = self.current_dist - self.step_size #adjust current distance minus the distance traveled in the next step\n",
    "        self.model.grid.move_agent(self, self.next_position) #move the agent\n",
    "        self.current_route.remove(self.current_route[0]) #remove the next step from the itinerary\n",
    "        self.position = self.next_position\n",
    "        if len(self.current_route) == 1:\n",
    "            self.next_position = self.current_route[0] \n",
    "        else:\n",
    "            self.next_position = self.current_route[1] #update current route\n",
    "\n",
    "    def ident_distance(self): #look up the distance of the current step\n",
    "        return self.G.get_edge_data(self.position, self.next_position)[0]['length']\n",
    "    \n",
    "    def reroute(self):\n",
    "        self.routes += 1\n",
    "        if self.position in self.major_ports[\"Ref\"].values: # We re-route in such a way that ships that have either an origin port or a destination port that is a major port\n",
    "            self.destination = random.sample(self.G.nodes, k=1)[0]\n",
    "        else:\n",
    "            self.destination = np.random.choice(self.major_ports[\"Ref\"], size=None, replace=True,  p=self.major_ports[\"PROB\"])\n",
    "        \n",
    "        self.current_route, self.current_dist = self.routing()\n",
    "        self.state = 3\n",
    "\n",
    "    \n",
    "\n",
    "    def step(self):\n",
    "        self.state = self.state - 1 #'move' ships by one weeks progress\n",
    "        if self.state <= 0.000: #ships that are en-route to the node they are going to next do not move / perform other activities\n",
    "            self.distance_traveled += self.step_size #ship has arrived at port, let's add the distance traveled to their \n",
    "           \n",
    "            #add the current position to itinerary\n",
    "            if self.position != self.destination: #if current stop is not the final stop\n",
    "                new_route, new_distance = self.routing() #perform a new routing to compare against current routing\n",
    "                \n",
    "                if new_route == self.current_route: #if current routing is the same as new, just move (default case)\n",
    "                    # print(\"default case\")\n",
    "                    self.move()\n",
    "                    self.itinerary.append(self.position)\n",
    "        \n",
    "            # THIS CURRENTLY ONLY CHANGES THE ROUTE IF THE NEXT STEP IS BLOCKED\n",
    "                elif new_distance > self.current_dist: #if current route is shorter than newly calculated route, check for obstructions\n",
    "                    # print('reroute: current route shorter than new route')\n",
    "                    if not has_path(self.G, self.position, self.next_position): \n",
    "                        self.current_route = new_route\n",
    "                        self.current_dist = new_distance\n",
    "                        self.route_chng += 1\n",
    "                    self.move()\n",
    "                    self.itinerary.append(self.position)\n",
    "                \n",
    "                \n",
    "                else: # final option is that current route is longer than new route (think Suez reopening after a while), here, we just take the new option\n",
    "                    # print('reroute: current route longer than new route')\n",
    "                    self.current_route = new_route\n",
    "                    self.current_dist = new_distance\n",
    "                    self.route_chng += 1\n",
    "                    self.move()\n",
    "                    self.itinerary.append(self.position)\n",
    "            \n",
    "            else: #if ship is arrived at final position, get a new route, and start back\n",
    "                # print('arrival')\n",
    "                self.reroute()\n",
    "                self.itinerary.append(self.position)\n",
    "        # print(\"Ship: {}, Source: {}, Destination: {}, Position: {},  Next Stop {}, Time until next Stop {}\".format(self.unique_id, self.itinerary[0], self.destination, self.position, self.next_position, self.state ))\n",
    "\n",
    "    \n",
    "    # def collect_time\n",
    "\n",
    "    # def collect_costs"
   ]
  },
  {
   "cell_type": "code",
   "execution_count": 60,
   "metadata": {},
   "outputs": [
    {
     "output_type": "stream",
     "name": "stderr",
     "text": [
      "Building Network: 100%|██████████| 56154/56154 [00:19<00:00, 2827.95it/s]\n",
      "Placing Ships: 100%|██████████| 1/1 [00:00<00:00,  6.35it/s]\n",
      "Stepping Model: 100%|██████████| 60/60 [00:05<00:00, 11.88it/s]\n"
     ]
    }
   ],
   "source": [
    "\n",
    "model = ShippingNetwork(N, distances, origin, 1)\n",
    "\n",
    "steps = 60\n",
    "for i in trange(steps, desc=\"Stepping Model\"):\n",
    "    model.step()\n",
    "agent_state = model.datacollector.get_agent_vars_dataframe()\n"
   ]
  },
  {
   "cell_type": "code",
   "execution_count": 55,
   "metadata": {},
   "outputs": [
    {
     "output_type": "execute_result",
     "data": {
      "text/plain": [
       "              Position  Destination  \\\n",
       "Step AgentID                          \n",
       "1    1          3365.0       1858.0   \n",
       "2    1          6869.0       1858.0   \n",
       "3    1          6868.0       1858.0   \n",
       "4    1          6972.0       1858.0   \n",
       "5    1          1858.0       1858.0   \n",
       "6    1          1858.0       3711.0   \n",
       "7    1          1858.0       3711.0   \n",
       "8    1          1858.0       3711.0   \n",
       "9    1          6972.0       3711.0   \n",
       "10   1          6868.0       3711.0   \n",
       "11   1          6869.0       3711.0   \n",
       "12   1          2052.0       3711.0   \n",
       "13   1          2111.0       3711.0   \n",
       "14   1          1592.0       3711.0   \n",
       "15   1          1761.0       3711.0   \n",
       "16   1          3026.0       3711.0   \n",
       "17   1          7026.0       3711.0   \n",
       "18   1          5475.0       3711.0   \n",
       "19   1          4067.0       3711.0   \n",
       "20   1          2188.0       3711.0   \n",
       "21   1          3711.0       3711.0   \n",
       "22   1          3711.0       4935.0   \n",
       "23   1          3711.0       4935.0   \n",
       "24   1          3711.0       4935.0   \n",
       "25   1          2188.0       4935.0   \n",
       "26   1          4067.0       4935.0   \n",
       "27   1          5475.0       4935.0   \n",
       "28   1          7026.0       4935.0   \n",
       "29   1           842.0       4935.0   \n",
       "30   1          2866.0       4935.0   \n",
       "31   1          2866.0       4935.0   \n",
       "32   1          2866.0       4935.0   \n",
       "33   1          2866.0       4935.0   \n",
       "34   1          2866.0       4935.0   \n",
       "35   1          2866.0       4935.0   \n",
       "36   1          2866.0       4935.0   \n",
       "37   1          2866.0       4935.0   \n",
       "38   1          2866.0       4935.0   \n",
       "39   1          2866.0       4935.0   \n",
       "40   1          2866.0       4935.0   \n",
       "41   1          2866.0       4935.0   \n",
       "42   1          2560.0       4935.0   \n",
       "43   1         18656.0       4935.0   \n",
       "44   1          1952.0       4935.0   \n",
       "45   1          5964.0       4935.0   \n",
       "46   1          1956.0       4935.0   \n",
       "47   1          4935.0       4935.0   \n",
       "48   1          4935.0       2034.0   \n",
       "49   1          4935.0       2034.0   \n",
       "50   1          4935.0       2034.0   \n",
       "51   1          1956.0       2034.0   \n",
       "52   1          5964.0       2034.0   \n",
       "53   1          1952.0       2034.0   \n",
       "54   1         18656.0       2034.0   \n",
       "55   1          2560.0       2034.0   \n",
       "56   1          2866.0       2034.0   \n",
       "57   1           842.0       2034.0   \n",
       "58   1           842.0       2034.0   \n",
       "59   1           842.0       2034.0   \n",
       "60   1           842.0       2034.0   \n",
       "\n",
       "                                                      Itinerary  \\\n",
       "Step AgentID                                                      \n",
       "1    1        [2088.0, 3365.0, 6869.0, 6868.0, 6972.0, 1858....   \n",
       "2    1        [2088.0, 3365.0, 6869.0, 6868.0, 6972.0, 1858....   \n",
       "3    1        [2088.0, 3365.0, 6869.0, 6868.0, 6972.0, 1858....   \n",
       "4    1        [2088.0, 3365.0, 6869.0, 6868.0, 6972.0, 1858....   \n",
       "5    1        [2088.0, 3365.0, 6869.0, 6868.0, 6972.0, 1858....   \n",
       "6    1        [2088.0, 3365.0, 6869.0, 6868.0, 6972.0, 1858....   \n",
       "7    1        [2088.0, 3365.0, 6869.0, 6868.0, 6972.0, 1858....   \n",
       "8    1        [2088.0, 3365.0, 6869.0, 6868.0, 6972.0, 1858....   \n",
       "9    1        [2088.0, 3365.0, 6869.0, 6868.0, 6972.0, 1858....   \n",
       "10   1        [2088.0, 3365.0, 6869.0, 6868.0, 6972.0, 1858....   \n",
       "11   1        [2088.0, 3365.0, 6869.0, 6868.0, 6972.0, 1858....   \n",
       "12   1        [2088.0, 3365.0, 6869.0, 6868.0, 6972.0, 1858....   \n",
       "13   1        [2088.0, 3365.0, 6869.0, 6868.0, 6972.0, 1858....   \n",
       "14   1        [2088.0, 3365.0, 6869.0, 6868.0, 6972.0, 1858....   \n",
       "15   1        [2088.0, 3365.0, 6869.0, 6868.0, 6972.0, 1858....   \n",
       "16   1        [2088.0, 3365.0, 6869.0, 6868.0, 6972.0, 1858....   \n",
       "17   1        [2088.0, 3365.0, 6869.0, 6868.0, 6972.0, 1858....   \n",
       "18   1        [2088.0, 3365.0, 6869.0, 6868.0, 6972.0, 1858....   \n",
       "19   1        [2088.0, 3365.0, 6869.0, 6868.0, 6972.0, 1858....   \n",
       "20   1        [2088.0, 3365.0, 6869.0, 6868.0, 6972.0, 1858....   \n",
       "21   1        [2088.0, 3365.0, 6869.0, 6868.0, 6972.0, 1858....   \n",
       "22   1        [2088.0, 3365.0, 6869.0, 6868.0, 6972.0, 1858....   \n",
       "23   1        [2088.0, 3365.0, 6869.0, 6868.0, 6972.0, 1858....   \n",
       "24   1        [2088.0, 3365.0, 6869.0, 6868.0, 6972.0, 1858....   \n",
       "25   1        [2088.0, 3365.0, 6869.0, 6868.0, 6972.0, 1858....   \n",
       "26   1        [2088.0, 3365.0, 6869.0, 6868.0, 6972.0, 1858....   \n",
       "27   1        [2088.0, 3365.0, 6869.0, 6868.0, 6972.0, 1858....   \n",
       "28   1        [2088.0, 3365.0, 6869.0, 6868.0, 6972.0, 1858....   \n",
       "29   1        [2088.0, 3365.0, 6869.0, 6868.0, 6972.0, 1858....   \n",
       "30   1        [2088.0, 3365.0, 6869.0, 6868.0, 6972.0, 1858....   \n",
       "31   1        [2088.0, 3365.0, 6869.0, 6868.0, 6972.0, 1858....   \n",
       "32   1        [2088.0, 3365.0, 6869.0, 6868.0, 6972.0, 1858....   \n",
       "33   1        [2088.0, 3365.0, 6869.0, 6868.0, 6972.0, 1858....   \n",
       "34   1        [2088.0, 3365.0, 6869.0, 6868.0, 6972.0, 1858....   \n",
       "35   1        [2088.0, 3365.0, 6869.0, 6868.0, 6972.0, 1858....   \n",
       "36   1        [2088.0, 3365.0, 6869.0, 6868.0, 6972.0, 1858....   \n",
       "37   1        [2088.0, 3365.0, 6869.0, 6868.0, 6972.0, 1858....   \n",
       "38   1        [2088.0, 3365.0, 6869.0, 6868.0, 6972.0, 1858....   \n",
       "39   1        [2088.0, 3365.0, 6869.0, 6868.0, 6972.0, 1858....   \n",
       "40   1        [2088.0, 3365.0, 6869.0, 6868.0, 6972.0, 1858....   \n",
       "41   1        [2088.0, 3365.0, 6869.0, 6868.0, 6972.0, 1858....   \n",
       "42   1        [2088.0, 3365.0, 6869.0, 6868.0, 6972.0, 1858....   \n",
       "43   1        [2088.0, 3365.0, 6869.0, 6868.0, 6972.0, 1858....   \n",
       "44   1        [2088.0, 3365.0, 6869.0, 6868.0, 6972.0, 1858....   \n",
       "45   1        [2088.0, 3365.0, 6869.0, 6868.0, 6972.0, 1858....   \n",
       "46   1        [2088.0, 3365.0, 6869.0, 6868.0, 6972.0, 1858....   \n",
       "47   1        [2088.0, 3365.0, 6869.0, 6868.0, 6972.0, 1858....   \n",
       "48   1        [2088.0, 3365.0, 6869.0, 6868.0, 6972.0, 1858....   \n",
       "49   1        [2088.0, 3365.0, 6869.0, 6868.0, 6972.0, 1858....   \n",
       "50   1        [2088.0, 3365.0, 6869.0, 6868.0, 6972.0, 1858....   \n",
       "51   1        [2088.0, 3365.0, 6869.0, 6868.0, 6972.0, 1858....   \n",
       "52   1        [2088.0, 3365.0, 6869.0, 6868.0, 6972.0, 1858....   \n",
       "53   1        [2088.0, 3365.0, 6869.0, 6868.0, 6972.0, 1858....   \n",
       "54   1        [2088.0, 3365.0, 6869.0, 6868.0, 6972.0, 1858....   \n",
       "55   1        [2088.0, 3365.0, 6869.0, 6868.0, 6972.0, 1858....   \n",
       "56   1        [2088.0, 3365.0, 6869.0, 6868.0, 6972.0, 1858....   \n",
       "57   1        [2088.0, 3365.0, 6869.0, 6868.0, 6972.0, 1858....   \n",
       "58   1        [2088.0, 3365.0, 6869.0, 6868.0, 6972.0, 1858....   \n",
       "59   1        [2088.0, 3365.0, 6869.0, 6868.0, 6972.0, 1858....   \n",
       "60   1        [2088.0, 3365.0, 6869.0, 6868.0, 6972.0, 1858....   \n",
       "\n",
       "              Distance_Traveled  \\\n",
       "Step AgentID                      \n",
       "1    1                31.633634   \n",
       "2    1                63.267268   \n",
       "3    1                65.564482   \n",
       "4    1                66.871488   \n",
       "5    1                69.472331   \n",
       "6    1               263.127115   \n",
       "7    1               263.127115   \n",
       "8    1               263.127115   \n",
       "9    1               456.781899   \n",
       "10   1               650.436684   \n",
       "11   1               653.037526   \n",
       "12   1               654.344533   \n",
       "13   1               657.413428   \n",
       "14   1               742.763737   \n",
       "15   1               755.311884   \n",
       "16   1               764.711844   \n",
       "17   1               790.462750   \n",
       "18   1               917.929635   \n",
       "19   1               999.969493   \n",
       "20   1              1000.106559   \n",
       "21   1              1004.630225   \n",
       "22   1              1166.308800   \n",
       "23   1              1166.308800   \n",
       "24   1              1166.308800   \n",
       "25   1              1327.987375   \n",
       "26   1              1489.665950   \n",
       "27   1              1494.189616   \n",
       "28   1              1494.326683   \n",
       "29   1              1576.366541   \n",
       "30   1              1718.661413   \n",
       "31   1              1718.661413   \n",
       "32   1              1718.661413   \n",
       "33   1              1718.661413   \n",
       "34   1              1718.661413   \n",
       "35   1              1718.661413   \n",
       "36   1              1718.661413   \n",
       "37   1              1718.661413   \n",
       "38   1              1718.661413   \n",
       "39   1              1718.661413   \n",
       "40   1              1718.661413   \n",
       "41   1              1718.661413   \n",
       "42   1              8306.360716   \n",
       "43   1              8350.579072   \n",
       "44   1              8573.272622   \n",
       "45   1              8579.295371   \n",
       "46   1              8644.295590   \n",
       "47   1              8666.592064   \n",
       "48   1              8759.468012   \n",
       "49   1              8759.468012   \n",
       "50   1              8759.468012   \n",
       "51   1              8852.343960   \n",
       "52   1              8945.219908   \n",
       "53   1              8967.516381   \n",
       "54   1              9032.516600   \n",
       "55   1              9038.539349   \n",
       "56   1              9261.232899   \n",
       "57   1              9305.451255   \n",
       "58   1              9305.451255   \n",
       "59   1              9305.451255   \n",
       "60   1              9305.451255   \n",
       "\n",
       "                                                          Route  Route Changes  \n",
       "Step AgentID                                                                    \n",
       "1    1                                                 [1858.0]              0  \n",
       "2    1                                                 [1858.0]              0  \n",
       "3    1                                                 [1858.0]              0  \n",
       "4    1                                                 [1858.0]              0  \n",
       "5    1                                                 [1858.0]              0  \n",
       "6    1                                                 [3711.0]              0  \n",
       "7    1                                                 [3711.0]              0  \n",
       "8    1                                                 [3711.0]              0  \n",
       "9    1                                                 [3711.0]              0  \n",
       "10   1                                                 [3711.0]              0  \n",
       "11   1                                                 [3711.0]              0  \n",
       "12   1                                                 [3711.0]              0  \n",
       "13   1                                                 [3711.0]              0  \n",
       "14   1                                                 [3711.0]              0  \n",
       "15   1                                                 [3711.0]              0  \n",
       "16   1                                                 [3711.0]              0  \n",
       "17   1                                                 [3711.0]              0  \n",
       "18   1                                                 [3711.0]              0  \n",
       "19   1                                                 [3711.0]              0  \n",
       "20   1                                                 [3711.0]              0  \n",
       "21   1                                                 [3711.0]              0  \n",
       "22   1                                                 [4935.0]              0  \n",
       "23   1                                                 [4935.0]              0  \n",
       "24   1                                                 [4935.0]              0  \n",
       "25   1                                                 [4935.0]              0  \n",
       "26   1                                                 [4935.0]              0  \n",
       "27   1                                                 [4935.0]              0  \n",
       "28   1                                                 [4935.0]              0  \n",
       "29   1                                                 [4935.0]              0  \n",
       "30   1                                                 [4935.0]              0  \n",
       "31   1                                                 [4935.0]              0  \n",
       "32   1                                                 [4935.0]              0  \n",
       "33   1                                                 [4935.0]              0  \n",
       "34   1                                                 [4935.0]              0  \n",
       "35   1                                                 [4935.0]              0  \n",
       "36   1                                                 [4935.0]              0  \n",
       "37   1                                                 [4935.0]              0  \n",
       "38   1                                                 [4935.0]              0  \n",
       "39   1                                                 [4935.0]              0  \n",
       "40   1                                                 [4935.0]              0  \n",
       "41   1                                                 [4935.0]              0  \n",
       "42   1                                                 [4935.0]              0  \n",
       "43   1                                                 [4935.0]              0  \n",
       "44   1                                                 [4935.0]              0  \n",
       "45   1                                                 [4935.0]              0  \n",
       "46   1                                                 [4935.0]              0  \n",
       "47   1                                                 [4935.0]              0  \n",
       "48   1        [842.0, 1342.0, 1594.0, 3026.0, 1761.0, 1592.0...              0  \n",
       "49   1        [842.0, 1342.0, 1594.0, 3026.0, 1761.0, 1592.0...              0  \n",
       "50   1        [842.0, 1342.0, 1594.0, 3026.0, 1761.0, 1592.0...              0  \n",
       "51   1        [842.0, 1342.0, 1594.0, 3026.0, 1761.0, 1592.0...              0  \n",
       "52   1        [842.0, 1342.0, 1594.0, 3026.0, 1761.0, 1592.0...              0  \n",
       "53   1        [842.0, 1342.0, 1594.0, 3026.0, 1761.0, 1592.0...              0  \n",
       "54   1        [842.0, 1342.0, 1594.0, 3026.0, 1761.0, 1592.0...              0  \n",
       "55   1        [842.0, 1342.0, 1594.0, 3026.0, 1761.0, 1592.0...              0  \n",
       "56   1        [842.0, 1342.0, 1594.0, 3026.0, 1761.0, 1592.0...              0  \n",
       "57   1        [842.0, 1342.0, 1594.0, 3026.0, 1761.0, 1592.0...              0  \n",
       "58   1        [842.0, 1342.0, 1594.0, 3026.0, 1761.0, 1592.0...              0  \n",
       "59   1        [842.0, 1342.0, 1594.0, 3026.0, 1761.0, 1592.0...              0  \n",
       "60   1        [842.0, 1342.0, 1594.0, 3026.0, 1761.0, 1592.0...              0  "
      ],
      "text/html": "<div>\n<style scoped>\n    .dataframe tbody tr th:only-of-type {\n        vertical-align: middle;\n    }\n\n    .dataframe tbody tr th {\n        vertical-align: top;\n    }\n\n    .dataframe thead th {\n        text-align: right;\n    }\n</style>\n<table border=\"1\" class=\"dataframe\">\n  <thead>\n    <tr style=\"text-align: right;\">\n      <th></th>\n      <th></th>\n      <th>Position</th>\n      <th>Destination</th>\n      <th>Itinerary</th>\n      <th>Distance_Traveled</th>\n      <th>Route</th>\n      <th>Route Changes</th>\n    </tr>\n    <tr>\n      <th>Step</th>\n      <th>AgentID</th>\n      <th></th>\n      <th></th>\n      <th></th>\n      <th></th>\n      <th></th>\n      <th></th>\n    </tr>\n  </thead>\n  <tbody>\n    <tr>\n      <th>1</th>\n      <th>1</th>\n      <td>3365.0</td>\n      <td>1858.0</td>\n      <td>[2088.0, 3365.0, 6869.0, 6868.0, 6972.0, 1858....</td>\n      <td>31.633634</td>\n      <td>[1858.0]</td>\n      <td>0</td>\n    </tr>\n    <tr>\n      <th>2</th>\n      <th>1</th>\n      <td>6869.0</td>\n      <td>1858.0</td>\n      <td>[2088.0, 3365.0, 6869.0, 6868.0, 6972.0, 1858....</td>\n      <td>63.267268</td>\n      <td>[1858.0]</td>\n      <td>0</td>\n    </tr>\n    <tr>\n      <th>3</th>\n      <th>1</th>\n      <td>6868.0</td>\n      <td>1858.0</td>\n      <td>[2088.0, 3365.0, 6869.0, 6868.0, 6972.0, 1858....</td>\n      <td>65.564482</td>\n      <td>[1858.0]</td>\n      <td>0</td>\n    </tr>\n    <tr>\n      <th>4</th>\n      <th>1</th>\n      <td>6972.0</td>\n      <td>1858.0</td>\n      <td>[2088.0, 3365.0, 6869.0, 6868.0, 6972.0, 1858....</td>\n      <td>66.871488</td>\n      <td>[1858.0]</td>\n      <td>0</td>\n    </tr>\n    <tr>\n      <th>5</th>\n      <th>1</th>\n      <td>1858.0</td>\n      <td>1858.0</td>\n      <td>[2088.0, 3365.0, 6869.0, 6868.0, 6972.0, 1858....</td>\n      <td>69.472331</td>\n      <td>[1858.0]</td>\n      <td>0</td>\n    </tr>\n    <tr>\n      <th>6</th>\n      <th>1</th>\n      <td>1858.0</td>\n      <td>3711.0</td>\n      <td>[2088.0, 3365.0, 6869.0, 6868.0, 6972.0, 1858....</td>\n      <td>263.127115</td>\n      <td>[3711.0]</td>\n      <td>0</td>\n    </tr>\n    <tr>\n      <th>7</th>\n      <th>1</th>\n      <td>1858.0</td>\n      <td>3711.0</td>\n      <td>[2088.0, 3365.0, 6869.0, 6868.0, 6972.0, 1858....</td>\n      <td>263.127115</td>\n      <td>[3711.0]</td>\n      <td>0</td>\n    </tr>\n    <tr>\n      <th>8</th>\n      <th>1</th>\n      <td>1858.0</td>\n      <td>3711.0</td>\n      <td>[2088.0, 3365.0, 6869.0, 6868.0, 6972.0, 1858....</td>\n      <td>263.127115</td>\n      <td>[3711.0]</td>\n      <td>0</td>\n    </tr>\n    <tr>\n      <th>9</th>\n      <th>1</th>\n      <td>6972.0</td>\n      <td>3711.0</td>\n      <td>[2088.0, 3365.0, 6869.0, 6868.0, 6972.0, 1858....</td>\n      <td>456.781899</td>\n      <td>[3711.0]</td>\n      <td>0</td>\n    </tr>\n    <tr>\n      <th>10</th>\n      <th>1</th>\n      <td>6868.0</td>\n      <td>3711.0</td>\n      <td>[2088.0, 3365.0, 6869.0, 6868.0, 6972.0, 1858....</td>\n      <td>650.436684</td>\n      <td>[3711.0]</td>\n      <td>0</td>\n    </tr>\n    <tr>\n      <th>11</th>\n      <th>1</th>\n      <td>6869.0</td>\n      <td>3711.0</td>\n      <td>[2088.0, 3365.0, 6869.0, 6868.0, 6972.0, 1858....</td>\n      <td>653.037526</td>\n      <td>[3711.0]</td>\n      <td>0</td>\n    </tr>\n    <tr>\n      <th>12</th>\n      <th>1</th>\n      <td>2052.0</td>\n      <td>3711.0</td>\n      <td>[2088.0, 3365.0, 6869.0, 6868.0, 6972.0, 1858....</td>\n      <td>654.344533</td>\n      <td>[3711.0]</td>\n      <td>0</td>\n    </tr>\n    <tr>\n      <th>13</th>\n      <th>1</th>\n      <td>2111.0</td>\n      <td>3711.0</td>\n      <td>[2088.0, 3365.0, 6869.0, 6868.0, 6972.0, 1858....</td>\n      <td>657.413428</td>\n      <td>[3711.0]</td>\n      <td>0</td>\n    </tr>\n    <tr>\n      <th>14</th>\n      <th>1</th>\n      <td>1592.0</td>\n      <td>3711.0</td>\n      <td>[2088.0, 3365.0, 6869.0, 6868.0, 6972.0, 1858....</td>\n      <td>742.763737</td>\n      <td>[3711.0]</td>\n      <td>0</td>\n    </tr>\n    <tr>\n      <th>15</th>\n      <th>1</th>\n      <td>1761.0</td>\n      <td>3711.0</td>\n      <td>[2088.0, 3365.0, 6869.0, 6868.0, 6972.0, 1858....</td>\n      <td>755.311884</td>\n      <td>[3711.0]</td>\n      <td>0</td>\n    </tr>\n    <tr>\n      <th>16</th>\n      <th>1</th>\n      <td>3026.0</td>\n      <td>3711.0</td>\n      <td>[2088.0, 3365.0, 6869.0, 6868.0, 6972.0, 1858....</td>\n      <td>764.711844</td>\n      <td>[3711.0]</td>\n      <td>0</td>\n    </tr>\n    <tr>\n      <th>17</th>\n      <th>1</th>\n      <td>7026.0</td>\n      <td>3711.0</td>\n      <td>[2088.0, 3365.0, 6869.0, 6868.0, 6972.0, 1858....</td>\n      <td>790.462750</td>\n      <td>[3711.0]</td>\n      <td>0</td>\n    </tr>\n    <tr>\n      <th>18</th>\n      <th>1</th>\n      <td>5475.0</td>\n      <td>3711.0</td>\n      <td>[2088.0, 3365.0, 6869.0, 6868.0, 6972.0, 1858....</td>\n      <td>917.929635</td>\n      <td>[3711.0]</td>\n      <td>0</td>\n    </tr>\n    <tr>\n      <th>19</th>\n      <th>1</th>\n      <td>4067.0</td>\n      <td>3711.0</td>\n      <td>[2088.0, 3365.0, 6869.0, 6868.0, 6972.0, 1858....</td>\n      <td>999.969493</td>\n      <td>[3711.0]</td>\n      <td>0</td>\n    </tr>\n    <tr>\n      <th>20</th>\n      <th>1</th>\n      <td>2188.0</td>\n      <td>3711.0</td>\n      <td>[2088.0, 3365.0, 6869.0, 6868.0, 6972.0, 1858....</td>\n      <td>1000.106559</td>\n      <td>[3711.0]</td>\n      <td>0</td>\n    </tr>\n    <tr>\n      <th>21</th>\n      <th>1</th>\n      <td>3711.0</td>\n      <td>3711.0</td>\n      <td>[2088.0, 3365.0, 6869.0, 6868.0, 6972.0, 1858....</td>\n      <td>1004.630225</td>\n      <td>[3711.0]</td>\n      <td>0</td>\n    </tr>\n    <tr>\n      <th>22</th>\n      <th>1</th>\n      <td>3711.0</td>\n      <td>4935.0</td>\n      <td>[2088.0, 3365.0, 6869.0, 6868.0, 6972.0, 1858....</td>\n      <td>1166.308800</td>\n      <td>[4935.0]</td>\n      <td>0</td>\n    </tr>\n    <tr>\n      <th>23</th>\n      <th>1</th>\n      <td>3711.0</td>\n      <td>4935.0</td>\n      <td>[2088.0, 3365.0, 6869.0, 6868.0, 6972.0, 1858....</td>\n      <td>1166.308800</td>\n      <td>[4935.0]</td>\n      <td>0</td>\n    </tr>\n    <tr>\n      <th>24</th>\n      <th>1</th>\n      <td>3711.0</td>\n      <td>4935.0</td>\n      <td>[2088.0, 3365.0, 6869.0, 6868.0, 6972.0, 1858....</td>\n      <td>1166.308800</td>\n      <td>[4935.0]</td>\n      <td>0</td>\n    </tr>\n    <tr>\n      <th>25</th>\n      <th>1</th>\n      <td>2188.0</td>\n      <td>4935.0</td>\n      <td>[2088.0, 3365.0, 6869.0, 6868.0, 6972.0, 1858....</td>\n      <td>1327.987375</td>\n      <td>[4935.0]</td>\n      <td>0</td>\n    </tr>\n    <tr>\n      <th>26</th>\n      <th>1</th>\n      <td>4067.0</td>\n      <td>4935.0</td>\n      <td>[2088.0, 3365.0, 6869.0, 6868.0, 6972.0, 1858....</td>\n      <td>1489.665950</td>\n      <td>[4935.0]</td>\n      <td>0</td>\n    </tr>\n    <tr>\n      <th>27</th>\n      <th>1</th>\n      <td>5475.0</td>\n      <td>4935.0</td>\n      <td>[2088.0, 3365.0, 6869.0, 6868.0, 6972.0, 1858....</td>\n      <td>1494.189616</td>\n      <td>[4935.0]</td>\n      <td>0</td>\n    </tr>\n    <tr>\n      <th>28</th>\n      <th>1</th>\n      <td>7026.0</td>\n      <td>4935.0</td>\n      <td>[2088.0, 3365.0, 6869.0, 6868.0, 6972.0, 1858....</td>\n      <td>1494.326683</td>\n      <td>[4935.0]</td>\n      <td>0</td>\n    </tr>\n    <tr>\n      <th>29</th>\n      <th>1</th>\n      <td>842.0</td>\n      <td>4935.0</td>\n      <td>[2088.0, 3365.0, 6869.0, 6868.0, 6972.0, 1858....</td>\n      <td>1576.366541</td>\n      <td>[4935.0]</td>\n      <td>0</td>\n    </tr>\n    <tr>\n      <th>30</th>\n      <th>1</th>\n      <td>2866.0</td>\n      <td>4935.0</td>\n      <td>[2088.0, 3365.0, 6869.0, 6868.0, 6972.0, 1858....</td>\n      <td>1718.661413</td>\n      <td>[4935.0]</td>\n      <td>0</td>\n    </tr>\n    <tr>\n      <th>31</th>\n      <th>1</th>\n      <td>2866.0</td>\n      <td>4935.0</td>\n      <td>[2088.0, 3365.0, 6869.0, 6868.0, 6972.0, 1858....</td>\n      <td>1718.661413</td>\n      <td>[4935.0]</td>\n      <td>0</td>\n    </tr>\n    <tr>\n      <th>32</th>\n      <th>1</th>\n      <td>2866.0</td>\n      <td>4935.0</td>\n      <td>[2088.0, 3365.0, 6869.0, 6868.0, 6972.0, 1858....</td>\n      <td>1718.661413</td>\n      <td>[4935.0]</td>\n      <td>0</td>\n    </tr>\n    <tr>\n      <th>33</th>\n      <th>1</th>\n      <td>2866.0</td>\n      <td>4935.0</td>\n      <td>[2088.0, 3365.0, 6869.0, 6868.0, 6972.0, 1858....</td>\n      <td>1718.661413</td>\n      <td>[4935.0]</td>\n      <td>0</td>\n    </tr>\n    <tr>\n      <th>34</th>\n      <th>1</th>\n      <td>2866.0</td>\n      <td>4935.0</td>\n      <td>[2088.0, 3365.0, 6869.0, 6868.0, 6972.0, 1858....</td>\n      <td>1718.661413</td>\n      <td>[4935.0]</td>\n      <td>0</td>\n    </tr>\n    <tr>\n      <th>35</th>\n      <th>1</th>\n      <td>2866.0</td>\n      <td>4935.0</td>\n      <td>[2088.0, 3365.0, 6869.0, 6868.0, 6972.0, 1858....</td>\n      <td>1718.661413</td>\n      <td>[4935.0]</td>\n      <td>0</td>\n    </tr>\n    <tr>\n      <th>36</th>\n      <th>1</th>\n      <td>2866.0</td>\n      <td>4935.0</td>\n      <td>[2088.0, 3365.0, 6869.0, 6868.0, 6972.0, 1858....</td>\n      <td>1718.661413</td>\n      <td>[4935.0]</td>\n      <td>0</td>\n    </tr>\n    <tr>\n      <th>37</th>\n      <th>1</th>\n      <td>2866.0</td>\n      <td>4935.0</td>\n      <td>[2088.0, 3365.0, 6869.0, 6868.0, 6972.0, 1858....</td>\n      <td>1718.661413</td>\n      <td>[4935.0]</td>\n      <td>0</td>\n    </tr>\n    <tr>\n      <th>38</th>\n      <th>1</th>\n      <td>2866.0</td>\n      <td>4935.0</td>\n      <td>[2088.0, 3365.0, 6869.0, 6868.0, 6972.0, 1858....</td>\n      <td>1718.661413</td>\n      <td>[4935.0]</td>\n      <td>0</td>\n    </tr>\n    <tr>\n      <th>39</th>\n      <th>1</th>\n      <td>2866.0</td>\n      <td>4935.0</td>\n      <td>[2088.0, 3365.0, 6869.0, 6868.0, 6972.0, 1858....</td>\n      <td>1718.661413</td>\n      <td>[4935.0]</td>\n      <td>0</td>\n    </tr>\n    <tr>\n      <th>40</th>\n      <th>1</th>\n      <td>2866.0</td>\n      <td>4935.0</td>\n      <td>[2088.0, 3365.0, 6869.0, 6868.0, 6972.0, 1858....</td>\n      <td>1718.661413</td>\n      <td>[4935.0]</td>\n      <td>0</td>\n    </tr>\n    <tr>\n      <th>41</th>\n      <th>1</th>\n      <td>2866.0</td>\n      <td>4935.0</td>\n      <td>[2088.0, 3365.0, 6869.0, 6868.0, 6972.0, 1858....</td>\n      <td>1718.661413</td>\n      <td>[4935.0]</td>\n      <td>0</td>\n    </tr>\n    <tr>\n      <th>42</th>\n      <th>1</th>\n      <td>2560.0</td>\n      <td>4935.0</td>\n      <td>[2088.0, 3365.0, 6869.0, 6868.0, 6972.0, 1858....</td>\n      <td>8306.360716</td>\n      <td>[4935.0]</td>\n      <td>0</td>\n    </tr>\n    <tr>\n      <th>43</th>\n      <th>1</th>\n      <td>18656.0</td>\n      <td>4935.0</td>\n      <td>[2088.0, 3365.0, 6869.0, 6868.0, 6972.0, 1858....</td>\n      <td>8350.579072</td>\n      <td>[4935.0]</td>\n      <td>0</td>\n    </tr>\n    <tr>\n      <th>44</th>\n      <th>1</th>\n      <td>1952.0</td>\n      <td>4935.0</td>\n      <td>[2088.0, 3365.0, 6869.0, 6868.0, 6972.0, 1858....</td>\n      <td>8573.272622</td>\n      <td>[4935.0]</td>\n      <td>0</td>\n    </tr>\n    <tr>\n      <th>45</th>\n      <th>1</th>\n      <td>5964.0</td>\n      <td>4935.0</td>\n      <td>[2088.0, 3365.0, 6869.0, 6868.0, 6972.0, 1858....</td>\n      <td>8579.295371</td>\n      <td>[4935.0]</td>\n      <td>0</td>\n    </tr>\n    <tr>\n      <th>46</th>\n      <th>1</th>\n      <td>1956.0</td>\n      <td>4935.0</td>\n      <td>[2088.0, 3365.0, 6869.0, 6868.0, 6972.0, 1858....</td>\n      <td>8644.295590</td>\n      <td>[4935.0]</td>\n      <td>0</td>\n    </tr>\n    <tr>\n      <th>47</th>\n      <th>1</th>\n      <td>4935.0</td>\n      <td>4935.0</td>\n      <td>[2088.0, 3365.0, 6869.0, 6868.0, 6972.0, 1858....</td>\n      <td>8666.592064</td>\n      <td>[4935.0]</td>\n      <td>0</td>\n    </tr>\n    <tr>\n      <th>48</th>\n      <th>1</th>\n      <td>4935.0</td>\n      <td>2034.0</td>\n      <td>[2088.0, 3365.0, 6869.0, 6868.0, 6972.0, 1858....</td>\n      <td>8759.468012</td>\n      <td>[842.0, 1342.0, 1594.0, 3026.0, 1761.0, 1592.0...</td>\n      <td>0</td>\n    </tr>\n    <tr>\n      <th>49</th>\n      <th>1</th>\n      <td>4935.0</td>\n      <td>2034.0</td>\n      <td>[2088.0, 3365.0, 6869.0, 6868.0, 6972.0, 1858....</td>\n      <td>8759.468012</td>\n      <td>[842.0, 1342.0, 1594.0, 3026.0, 1761.0, 1592.0...</td>\n      <td>0</td>\n    </tr>\n    <tr>\n      <th>50</th>\n      <th>1</th>\n      <td>4935.0</td>\n      <td>2034.0</td>\n      <td>[2088.0, 3365.0, 6869.0, 6868.0, 6972.0, 1858....</td>\n      <td>8759.468012</td>\n      <td>[842.0, 1342.0, 1594.0, 3026.0, 1761.0, 1592.0...</td>\n      <td>0</td>\n    </tr>\n    <tr>\n      <th>51</th>\n      <th>1</th>\n      <td>1956.0</td>\n      <td>2034.0</td>\n      <td>[2088.0, 3365.0, 6869.0, 6868.0, 6972.0, 1858....</td>\n      <td>8852.343960</td>\n      <td>[842.0, 1342.0, 1594.0, 3026.0, 1761.0, 1592.0...</td>\n      <td>0</td>\n    </tr>\n    <tr>\n      <th>52</th>\n      <th>1</th>\n      <td>5964.0</td>\n      <td>2034.0</td>\n      <td>[2088.0, 3365.0, 6869.0, 6868.0, 6972.0, 1858....</td>\n      <td>8945.219908</td>\n      <td>[842.0, 1342.0, 1594.0, 3026.0, 1761.0, 1592.0...</td>\n      <td>0</td>\n    </tr>\n    <tr>\n      <th>53</th>\n      <th>1</th>\n      <td>1952.0</td>\n      <td>2034.0</td>\n      <td>[2088.0, 3365.0, 6869.0, 6868.0, 6972.0, 1858....</td>\n      <td>8967.516381</td>\n      <td>[842.0, 1342.0, 1594.0, 3026.0, 1761.0, 1592.0...</td>\n      <td>0</td>\n    </tr>\n    <tr>\n      <th>54</th>\n      <th>1</th>\n      <td>18656.0</td>\n      <td>2034.0</td>\n      <td>[2088.0, 3365.0, 6869.0, 6868.0, 6972.0, 1858....</td>\n      <td>9032.516600</td>\n      <td>[842.0, 1342.0, 1594.0, 3026.0, 1761.0, 1592.0...</td>\n      <td>0</td>\n    </tr>\n    <tr>\n      <th>55</th>\n      <th>1</th>\n      <td>2560.0</td>\n      <td>2034.0</td>\n      <td>[2088.0, 3365.0, 6869.0, 6868.0, 6972.0, 1858....</td>\n      <td>9038.539349</td>\n      <td>[842.0, 1342.0, 1594.0, 3026.0, 1761.0, 1592.0...</td>\n      <td>0</td>\n    </tr>\n    <tr>\n      <th>56</th>\n      <th>1</th>\n      <td>2866.0</td>\n      <td>2034.0</td>\n      <td>[2088.0, 3365.0, 6869.0, 6868.0, 6972.0, 1858....</td>\n      <td>9261.232899</td>\n      <td>[842.0, 1342.0, 1594.0, 3026.0, 1761.0, 1592.0...</td>\n      <td>0</td>\n    </tr>\n    <tr>\n      <th>57</th>\n      <th>1</th>\n      <td>842.0</td>\n      <td>2034.0</td>\n      <td>[2088.0, 3365.0, 6869.0, 6868.0, 6972.0, 1858....</td>\n      <td>9305.451255</td>\n      <td>[842.0, 1342.0, 1594.0, 3026.0, 1761.0, 1592.0...</td>\n      <td>0</td>\n    </tr>\n    <tr>\n      <th>58</th>\n      <th>1</th>\n      <td>842.0</td>\n      <td>2034.0</td>\n      <td>[2088.0, 3365.0, 6869.0, 6868.0, 6972.0, 1858....</td>\n      <td>9305.451255</td>\n      <td>[842.0, 1342.0, 1594.0, 3026.0, 1761.0, 1592.0...</td>\n      <td>0</td>\n    </tr>\n    <tr>\n      <th>59</th>\n      <th>1</th>\n      <td>842.0</td>\n      <td>2034.0</td>\n      <td>[2088.0, 3365.0, 6869.0, 6868.0, 6972.0, 1858....</td>\n      <td>9305.451255</td>\n      <td>[842.0, 1342.0, 1594.0, 3026.0, 1761.0, 1592.0...</td>\n      <td>0</td>\n    </tr>\n    <tr>\n      <th>60</th>\n      <th>1</th>\n      <td>842.0</td>\n      <td>2034.0</td>\n      <td>[2088.0, 3365.0, 6869.0, 6868.0, 6972.0, 1858....</td>\n      <td>9305.451255</td>\n      <td>[842.0, 1342.0, 1594.0, 3026.0, 1761.0, 1592.0...</td>\n      <td>0</td>\n    </tr>\n  </tbody>\n</table>\n</div>"
     },
     "metadata": {},
     "execution_count": 55
    }
   ],
   "source": [
    "\n",
    "agent_state\n"
   ]
  },
  {
   "cell_type": "code",
   "execution_count": 127,
   "metadata": {},
   "outputs": [
    {
     "output_type": "execute_result",
     "data": {
      "text/plain": [
       "[2939, 2040.0, 6868.0, 6869.0, 7100.0, 27973.0, 2876.0, 3268.0, 3688.0]"
      ]
     },
     "metadata": {},
     "execution_count": 127
    }
   ],
   "source": [
    "route = nx.dijkstra_path(G,2939, 3688, weight='length')\n",
    "route"
   ]
  },
  {
   "cell_type": "code",
   "execution_count": 123,
   "metadata": {},
   "outputs": [
    {
     "output_type": "execute_result",
     "data": {
      "text/plain": [
       "597.5009531952306"
      ]
     },
     "metadata": {},
     "execution_count": 123
    }
   ],
   "source": [
    " travel_distance = nx.dijkstra_path_length(G,5561, 6165, weight='length')\n",
    " travel_distance *"
   ]
  },
  {
   "cell_type": "code",
   "execution_count": 88,
   "metadata": {},
   "outputs": [
    {
     "output_type": "stream",
     "name": "stderr",
     "text": [
      "/Library/Frameworks/Python.framework/Versions/3.8/lib/python3.8/site-packages/pandas/core/ops/array_ops.py:253: FutureWarning: elementwise comparison failed; returning scalar instead, but in the future will perform elementwise comparison\n  res_values = method(rvalues)\n"
     ]
    },
    {
     "output_type": "error",
     "ename": "ValueError",
     "evalue": "The truth value of a DataFrame is ambiguous. Use a.empty, a.bool(), a.item(), a.any() or a.all().",
     "traceback": [
      "\u001b[0;31m---------------------------------------------------------------------------\u001b[0m",
      "\u001b[0;31mValueError\u001b[0m                                Traceback (most recent call last)",
      "\u001b[0;32m<ipython-input-88-8d705cdeffcf>\u001b[0m in \u001b[0;36m<module>\u001b[0;34m\u001b[0m\n\u001b[1;32m     21\u001b[0m \u001b[0mfig\u001b[0m\u001b[0;34m,\u001b[0m\u001b[0max\u001b[0m\u001b[0;34m=\u001b[0m\u001b[0mplt\u001b[0m\u001b[0;34m.\u001b[0m\u001b[0msubplots\u001b[0m\u001b[0;34m(\u001b[0m\u001b[0;36m1\u001b[0m\u001b[0;34m,\u001b[0m\u001b[0;36m2\u001b[0m\u001b[0;34m,\u001b[0m\u001b[0mfigsize\u001b[0m\u001b[0;34m=\u001b[0m\u001b[0;34m(\u001b[0m\u001b[0;36m16\u001b[0m\u001b[0;34m,\u001b[0m\u001b[0;36m10\u001b[0m\u001b[0;34m)\u001b[0m\u001b[0;34m)\u001b[0m\u001b[0;34m\u001b[0m\u001b[0;34m\u001b[0m\u001b[0m\n\u001b[1;32m     22\u001b[0m \u001b[0mmodel\u001b[0m \u001b[0;34m=\u001b[0m \u001b[0mShippingNetwork\u001b[0m\u001b[0;34m(\u001b[0m\u001b[0mN\u001b[0m\u001b[0;34m,\u001b[0m \u001b[0mdistances\u001b[0m\u001b[0;34m)\u001b[0m\u001b[0;34m\u001b[0m\u001b[0;34m\u001b[0m\u001b[0m\n\u001b[0;32m---> 23\u001b[0;31m \u001b[0mmodel\u001b[0m\u001b[0;34m.\u001b[0m\u001b[0mstep\u001b[0m\u001b[0;34m(\u001b[0m\u001b[0mdistances\u001b[0m\u001b[0;34m)\u001b[0m\u001b[0;34m\u001b[0m\u001b[0;34m\u001b[0m\u001b[0m\n\u001b[0m\u001b[1;32m     24\u001b[0m \u001b[0mf\u001b[0m\u001b[0;34m=\u001b[0m\u001b[0mplot_grid\u001b[0m\u001b[0;34m(\u001b[0m\u001b[0mmodel\u001b[0m\u001b[0;34m,\u001b[0m\u001b[0mfig\u001b[0m\u001b[0;34m,\u001b[0m\u001b[0mlayout\u001b[0m\u001b[0;34m=\u001b[0m\u001b[0;34m'kamada-kawai'\u001b[0m\u001b[0;34m)\u001b[0m\u001b[0;34m\u001b[0m\u001b[0;34m\u001b[0m\u001b[0m\n",
      "\u001b[0;32m<ipython-input-64-839e972f5c37>\u001b[0m in \u001b[0;36mstep\u001b[0;34m(self, change_type, change_edge)\u001b[0m\n\u001b[1;32m     43\u001b[0m         \u001b[0mself\u001b[0m\u001b[0;34m.\u001b[0m\u001b[0mdatacollector\u001b[0m\u001b[0;34m.\u001b[0m\u001b[0mcollect\u001b[0m\u001b[0;34m(\u001b[0m\u001b[0mself\u001b[0m\u001b[0;34m)\u001b[0m\u001b[0;34m\u001b[0m\u001b[0;34m\u001b[0m\u001b[0m\n\u001b[1;32m     44\u001b[0m         \u001b[0;31m#check network for changes\u001b[0m\u001b[0;34m\u001b[0m\u001b[0;34m\u001b[0m\u001b[0;34m\u001b[0m\u001b[0m\n\u001b[0;32m---> 45\u001b[0;31m         \u001b[0;32mif\u001b[0m \u001b[0mchange_type\u001b[0m \u001b[0;34m!=\u001b[0m \u001b[0;34m''\u001b[0m \u001b[0;34m:\u001b[0m\u001b[0;34m\u001b[0m\u001b[0;34m\u001b[0m\u001b[0m\n\u001b[0m\u001b[1;32m     46\u001b[0m             \u001b[0mself\u001b[0m\u001b[0;34m.\u001b[0m\u001b[0mgrid\u001b[0m\u001b[0;34m,\u001b[0m \u001b[0mself\u001b[0m\u001b[0;34m.\u001b[0m\u001b[0mG\u001b[0m \u001b[0;34m=\u001b[0m \u001b[0mnetwork_change\u001b[0m\u001b[0;34m(\u001b[0m\u001b[0mchange_type\u001b[0m\u001b[0;34m,\u001b[0m \u001b[0mchange_edge\u001b[0m\u001b[0;34m)\u001b[0m\u001b[0;34m\u001b[0m\u001b[0;34m\u001b[0m\u001b[0m\n\u001b[1;32m     47\u001b[0m \u001b[0;34m\u001b[0m\u001b[0m\n",
      "\u001b[0;32m/Library/Frameworks/Python.framework/Versions/3.8/lib/python3.8/site-packages/pandas/core/generic.py\u001b[0m in \u001b[0;36m__nonzero__\u001b[0;34m(self)\u001b[0m\n\u001b[1;32m   1476\u001b[0m \u001b[0;34m\u001b[0m\u001b[0m\n\u001b[1;32m   1477\u001b[0m     \u001b[0;32mdef\u001b[0m \u001b[0m__nonzero__\u001b[0m\u001b[0;34m(\u001b[0m\u001b[0mself\u001b[0m\u001b[0;34m)\u001b[0m\u001b[0;34m:\u001b[0m\u001b[0;34m\u001b[0m\u001b[0;34m\u001b[0m\u001b[0m\n\u001b[0;32m-> 1478\u001b[0;31m         raise ValueError(\n\u001b[0m\u001b[1;32m   1479\u001b[0m             \u001b[0;34mf\"The truth value of a {type(self).__name__} is ambiguous. \"\u001b[0m\u001b[0;34m\u001b[0m\u001b[0;34m\u001b[0m\u001b[0m\n\u001b[1;32m   1480\u001b[0m             \u001b[0;34m\"Use a.empty, a.bool(), a.item(), a.any() or a.all().\"\u001b[0m\u001b[0;34m\u001b[0m\u001b[0;34m\u001b[0m\u001b[0m\n",
      "\u001b[0;31mValueError\u001b[0m: The truth value of a DataFrame is ambiguous. Use a.empty, a.bool(), a.item(), a.any() or a.all()."
     ]
    }
   ],
   "source": [
    "from matplotlib.colors import ListedColormap, LinearSegmentedColormap\n",
    "cmap = ListedColormap([\"lightblue\", \"orange\", \"green\",])\n",
    "\n",
    "def plot_grid(model,fig,layout='spring',title=''):\n",
    "    graph = model.G\n",
    "    if layout == 'kamada-kawai':      \n",
    "        pos = nx.kamada_kawai_layout(graph)  \n",
    "    elif layout == 'circular':\n",
    "        pos = nx.circular_layout(graph)\n",
    "    else:\n",
    "        pos = nx.spring_layout(graph, iterations=5, seed=8)  \n",
    "    plt.clf()\n",
    "    ax=fig.add_subplot()\n",
    "\n",
    "    nx.draw(graph, pos, node_size=100, edge_color='gray', with_labels=True,\n",
    "            alpha=0.9,font_size=14,ax=ax)\n",
    "    ax.set_title(title)\n",
    "    return\n",
    "\n",
    "#example usage\n",
    "fig,ax=plt.subplots(1,2,figsize=(16,10))\n",
    "model = ShippingNetwork(N, distances)\n",
    "model.step(distances)\n",
    "f=plot_grid(model,fig,layout='kamada-kawai')"
   ]
  },
  {
   "cell_type": "code",
   "execution_count": 24,
   "metadata": {},
   "outputs": [
    {
     "output_type": "execute_result",
     "data": {
      "text/plain": [
       "[]"
      ]
     },
     "metadata": {},
     "execution_count": 24
    }
   ],
   "source": [
    "model.schedule."
   ]
  }
 ]
}